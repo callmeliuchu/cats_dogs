{
 "cells": [
  {
   "cell_type": "code",
   "execution_count": 1,
   "id": "ef8568b8",
   "metadata": {},
   "outputs": [],
   "source": [
    "def max_array(arr):\n",
    "    assert arr,'arr is empty'\n",
    "    def max_mid_arr(left,mid,right):\n",
    "        mid_val = arr[mid]\n",
    "        max_mid_val = arr[mid]\n",
    "        mid_span_0 = mid\n",
    "        mid_span_1 = mid\n",
    "        j = mid + 1\n",
    "        while j <= right:\n",
    "            mid_val += arr[j]\n",
    "            if max_mid_val < mid_val:\n",
    "                mid_span_1 = j\n",
    "                max_mid_val = mid_val\n",
    "            j += 1\n",
    "        i = mid - 1\n",
    "        mid_val = max_mid_val\n",
    "        while i >= 0:\n",
    "            mid_val += arr[i]\n",
    "            if max_mid_val < mid_val:\n",
    "                mid_span_0 = i\n",
    "                max_mid_val = mid_val\n",
    "            i -= 1\n",
    "        return max_mid_val,(mid_span_0,mid_span_1)\n",
    "    def dfs(left,right):\n",
    "        if left == right:\n",
    "            return arr[left],(left,right)\n",
    "        mid = left + (right - left) // 2\n",
    "        left_val,left_span = dfs(left,mid)\n",
    "        right_val,right_span = dfs(mid+1,right)\n",
    "        mid_val,mid_span = max_mid_arr(left,mid,right)\n",
    "        ret_val,ret_span = left_val,left_span\n",
    "        if ret_val < right_val:\n",
    "            ret_val,ret_span = right_val,right_span\n",
    "        if ret_val < mid_val:\n",
    "            ret_val,ret_span = mid_val,mid_span\n",
    "        return ret_val,ret_span\n",
    "    return dfs(0,len(arr)-1)"
   ]
  },
  {
   "cell_type": "code",
   "execution_count": 2,
   "id": "28671755",
   "metadata": {},
   "outputs": [
    {
     "data": {
      "text/plain": [
       "(6, (0, 2))"
      ]
     },
     "execution_count": 2,
     "metadata": {},
     "output_type": "execute_result"
    }
   ],
   "source": [
    "max_array([1,2,3])"
   ]
  },
  {
   "cell_type": "code",
   "execution_count": null,
   "id": "0e99286e",
   "metadata": {},
   "outputs": [],
   "source": []
  }
 ],
 "metadata": {
  "kernelspec": {
   "display_name": "Python 3 (ipykernel)",
   "language": "python",
   "name": "python3"
  },
  "language_info": {
   "codemirror_mode": {
    "name": "ipython",
    "version": 3
   },
   "file_extension": ".py",
   "mimetype": "text/x-python",
   "name": "python",
   "nbconvert_exporter": "python",
   "pygments_lexer": "ipython3",
   "version": "3.8.5"
  }
 },
 "nbformat": 4,
 "nbformat_minor": 5
}
