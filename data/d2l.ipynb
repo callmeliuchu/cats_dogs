{
 "cells": [
  {
   "cell_type": "code",
   "execution_count": 1,
   "id": "8789cdf3",
   "metadata": {},
   "outputs": [],
   "source": [
    "import torch"
   ]
  },
  {
   "cell_type": "code",
   "execution_count": null,
   "id": "5bab79d5",
   "metadata": {},
   "outputs": [],
   "source": []
  },
  {
   "cell_type": "code",
   "execution_count": 73,
   "id": "ef285582",
   "metadata": {},
   "outputs": [],
   "source": [
    "from d2l import torch as d2l"
   ]
  },
  {
   "cell_type": "code",
   "execution_count": 74,
   "id": "cdbf2541",
   "metadata": {},
   "outputs": [],
   "source": [
    "import random"
   ]
  },
  {
   "cell_type": "code",
   "execution_count": 113,
   "id": "2a5c36ef",
   "metadata": {},
   "outputs": [],
   "source": [
    "def synthetic_data(w,b,num_example):\n",
    "    X = torch.normal(0,1,(num_example,len(w)))\n",
    "    y = torch.matmul(X,w) + b\n",
    "    y += torch.normal(0,0.01,y.shape)\n",
    "    return X,y.reshape((-1,1))"
   ]
  },
  {
   "cell_type": "code",
   "execution_count": 114,
   "id": "d49de38d",
   "metadata": {},
   "outputs": [],
   "source": [
    "true_w = torch.tensor([2,-3.4])\n",
    "true_b = 4.2\n",
    "features,labels = synthetic_data(true_w,true_b,1000)"
   ]
  },
  {
   "cell_type": "code",
   "execution_count": null,
   "id": "77b2499e",
   "metadata": {},
   "outputs": [],
   "source": [
    "d2l.set_figsize()\n",
    "d2l.plt.scatter(features[:,1].detach().numpy(),labels)"
   ]
  },
  {
   "cell_type": "code",
   "execution_count": 77,
   "id": "ac7bd162",
   "metadata": {},
   "outputs": [
    {
     "name": "stdout",
     "output_type": "stream",
     "text": [
      "features: tensor([-1.0049, -0.4122]) \n",
      "label: tensor([3.5877])\n"
     ]
    }
   ],
   "source": [
    "print('features:',features[0],'\\nlabel:',labels[0])"
   ]
  },
  {
   "cell_type": "code",
   "execution_count": 83,
   "id": "12b4b116",
   "metadata": {},
   "outputs": [
    {
     "data": {
      "text/plain": [
       "tensor([[-1.0049, -0.4122],\n",
       "        [-0.4290, -1.0495],\n",
       "        [ 0.2968,  0.0431],\n",
       "        ...,\n",
       "        [ 0.8204,  0.4670],\n",
       "        [ 0.0930, -0.2861],\n",
       "        [-0.2852,  0.2560]])"
      ]
     },
     "execution_count": 83,
     "metadata": {},
     "output_type": "execute_result"
    }
   ],
   "source": [
    "features"
   ]
  },
  {
   "cell_type": "code",
   "execution_count": 79,
   "id": "85f9d841",
   "metadata": {},
   "outputs": [
    {
     "data": {
      "text/plain": [
       "<matplotlib.collections.PathCollection at 0x7fdbefb2ceb0>"
      ]
     },
     "execution_count": 79,
     "metadata": {},
     "output_type": "execute_result"
    },
    {
     "data": {
      "image/svg+xml": [
       "<?xml version=\"1.0\" encoding=\"utf-8\" standalone=\"no\"?>\n",
       "<!DOCTYPE svg PUBLIC \"-//W3C//DTD SVG 1.1//EN\"\n",
       "  \"http://www.w3.org/Graphics/SVG/1.1/DTD/svg11.dtd\">\n",
       "<svg height=\"166.978125pt\" version=\"1.1\" viewBox=\"0 0 231.442187 166.978125\" width=\"231.442187pt\" xmlns=\"http://www.w3.org/2000/svg\" xmlns:xlink=\"http://www.w3.org/1999/xlink\">\n",
       " <metadata>\n",
       "  <rdf:RDF xmlns:cc=\"http://creativecommons.org/ns#\" xmlns:dc=\"http://purl.org/dc/elements/1.1/\" xmlns:rdf=\"http://www.w3.org/1999/02/22-rdf-syntax-ns#\">\n",
       "   <cc:Work>\n",
       "    <dc:type rdf:resource=\"http://purl.org/dc/dcmitype/StillImage\"/>\n",
       "    <dc:date>2021-11-08T09:00:53.028613</dc:date>\n",
       "    <dc:format>image/svg+xml</dc:format>\n",
       "    <dc:creator>\n",
       "     <cc:Agent>\n",
       "      <dc:title>Matplotlib v3.4.2, https://matplotlib.org/</dc:title>\n",
       "     </cc:Agent>\n",
       "    </dc:creator>\n",
       "   </cc:Work>\n",
       "  </rdf:RDF>\n",
       " </metadata>\n",
       " <defs>\n",
       "  <style type=\"text/css\">*{stroke-linecap:butt;stroke-linejoin:round;}</style>\n",
       " </defs>\n",
       " <g id=\"figure_1\">\n",
       "  <g id=\"patch_1\">\n",
       "   <path d=\"M 0 166.978125 \n",
       "L 231.442187 166.978125 \n",
       "L 231.442187 0 \n",
       "L 0 0 \n",
       "z\n",
       "\" style=\"fill:none;\"/>\n",
       "  </g>\n",
       "  <g id=\"axes_1\">\n",
       "   <g id=\"patch_2\">\n",
       "    <path d=\"M 28.942188 143.1 \n",
       "L 224.242188 143.1 \n",
       "L 224.242188 7.2 \n",
       "L 28.942188 7.2 \n",
       "z\n",
       "\" style=\"fill:#ffffff;\"/>\n",
       "   </g>\n",
       "   <g id=\"PathCollection_1\">\n",
       "    <defs>\n",
       "     <path d=\"M 0 0.5 \n",
       "C 0.132602 0.5 0.25979 0.447317 0.353553 0.353553 \n",
       "C 0.447317 0.25979 0.5 0.132602 0.5 0 \n",
       "C 0.5 -0.132602 0.447317 -0.25979 0.353553 -0.353553 \n",
       "C 0.25979 -0.447317 0.132602 -0.5 0 -0.5 \n",
       "C -0.132602 -0.5 -0.25979 -0.447317 -0.353553 -0.353553 \n",
       "C -0.447317 -0.25979 -0.5 -0.132602 -0.5 0 \n",
       "C -0.5 0.132602 -0.447317 0.25979 -0.353553 0.353553 \n",
       "C -0.25979 0.447317 -0.132602 0.5 0 0.5 \n",
       "z\n",
       "\" id=\"mac7768e441\" style=\"stroke:#1f77b4;\"/>\n",
       "    </defs>\n",
       "    <g clip-path=\"url(#pb98426a406)\">\n",
       "     <use style=\"fill:#1f77b4;stroke:#1f77b4;\" x=\"111.741919\" xlink:href=\"#mac7768e441\" y=\"73.37268\"/>\n",
       "     <use style=\"fill:#1f77b4;stroke:#1f77b4;\" x=\"95.986297\" xlink:href=\"#mac7768e441\" y=\"56.218726\"/>\n",
       "     <use style=\"fill:#1f77b4;stroke:#1f77b4;\" x=\"122.997828\" xlink:href=\"#mac7768e441\" y=\"67.884463\"/>\n",
       "     <use style=\"fill:#1f77b4;stroke:#1f77b4;\" x=\"147.470596\" xlink:href=\"#mac7768e441\" y=\"73.672613\"/>\n",
       "     <use style=\"fill:#1f77b4;stroke:#1f77b4;\" x=\"112.50151\" xlink:href=\"#mac7768e441\" y=\"63.196199\"/>\n",
       "     <use style=\"fill:#1f77b4;stroke:#1f77b4;\" x=\"141.91781\" xlink:href=\"#mac7768e441\" y=\"86.858751\"/>\n",
       "     <use style=\"fill:#1f77b4;stroke:#1f77b4;\" x=\"99.832514\" xlink:href=\"#mac7768e441\" y=\"54.588085\"/>\n",
       "     <use style=\"fill:#1f77b4;stroke:#1f77b4;\" x=\"129.174584\" xlink:href=\"#mac7768e441\" y=\"60.012953\"/>\n",
       "     <use style=\"fill:#1f77b4;stroke:#1f77b4;\" x=\"70.641583\" xlink:href=\"#mac7768e441\" y=\"37.926165\"/>\n",
       "     <use style=\"fill:#1f77b4;stroke:#1f77b4;\" x=\"116.558812\" xlink:href=\"#mac7768e441\" y=\"60.059724\"/>\n",
       "     <use style=\"fill:#1f77b4;stroke:#1f77b4;\" x=\"124.663273\" xlink:href=\"#mac7768e441\" y=\"77.484524\"/>\n",
       "     <use style=\"fill:#1f77b4;stroke:#1f77b4;\" x=\"110.930526\" xlink:href=\"#mac7768e441\" y=\"58.04595\"/>\n",
       "     <use style=\"fill:#1f77b4;stroke:#1f77b4;\" x=\"71.192255\" xlink:href=\"#mac7768e441\" y=\"23.147298\"/>\n",
       "     <use style=\"fill:#1f77b4;stroke:#1f77b4;\" x=\"150.019737\" xlink:href=\"#mac7768e441\" y=\"95.827932\"/>\n",
       "     <use style=\"fill:#1f77b4;stroke:#1f77b4;\" x=\"131.306443\" xlink:href=\"#mac7768e441\" y=\"56.61761\"/>\n",
       "     <use style=\"fill:#1f77b4;stroke:#1f77b4;\" x=\"72.216538\" xlink:href=\"#mac7768e441\" y=\"43.345852\"/>\n",
       "     <use style=\"fill:#1f77b4;stroke:#1f77b4;\" x=\"119.080721\" xlink:href=\"#mac7768e441\" y=\"80.095772\"/>\n",
       "     <use style=\"fill:#1f77b4;stroke:#1f77b4;\" x=\"172.701872\" xlink:href=\"#mac7768e441\" y=\"112.818202\"/>\n",
       "     <use style=\"fill:#1f77b4;stroke:#1f77b4;\" x=\"93.955181\" xlink:href=\"#mac7768e441\" y=\"43.503895\"/>\n",
       "     <use style=\"fill:#1f77b4;stroke:#1f77b4;\" x=\"124.410503\" xlink:href=\"#mac7768e441\" y=\"59.623604\"/>\n",
       "     <use style=\"fill:#1f77b4;stroke:#1f77b4;\" x=\"116.466688\" xlink:href=\"#mac7768e441\" y=\"70.475341\"/>\n",
       "     <use style=\"fill:#1f77b4;stroke:#1f77b4;\" x=\"104.781752\" xlink:href=\"#mac7768e441\" y=\"54.476722\"/>\n",
       "     <use style=\"fill:#1f77b4;stroke:#1f77b4;\" x=\"103.914342\" xlink:href=\"#mac7768e441\" y=\"52.022565\"/>\n",
       "     <use style=\"fill:#1f77b4;stroke:#1f77b4;\" x=\"125.362857\" xlink:href=\"#mac7768e441\" y=\"49.759654\"/>\n",
       "     <use style=\"fill:#1f77b4;stroke:#1f77b4;\" x=\"130.826117\" xlink:href=\"#mac7768e441\" y=\"92.29677\"/>\n",
       "     <use style=\"fill:#1f77b4;stroke:#1f77b4;\" x=\"153.785316\" xlink:href=\"#mac7768e441\" y=\"106.510529\"/>\n",
       "     <use style=\"fill:#1f77b4;stroke:#1f77b4;\" x=\"145.458993\" xlink:href=\"#mac7768e441\" y=\"72.831417\"/>\n",
       "     <use style=\"fill:#1f77b4;stroke:#1f77b4;\" x=\"116.362619\" xlink:href=\"#mac7768e441\" y=\"63.940834\"/>\n",
       "     <use style=\"fill:#1f77b4;stroke:#1f77b4;\" x=\"90.519601\" xlink:href=\"#mac7768e441\" y=\"48.86584\"/>\n",
       "     <use style=\"fill:#1f77b4;stroke:#1f77b4;\" x=\"137.400355\" xlink:href=\"#mac7768e441\" y=\"89.090521\"/>\n",
       "     <use style=\"fill:#1f77b4;stroke:#1f77b4;\" x=\"100.667452\" xlink:href=\"#mac7768e441\" y=\"51.891179\"/>\n",
       "     <use style=\"fill:#1f77b4;stroke:#1f77b4;\" x=\"122.638982\" xlink:href=\"#mac7768e441\" y=\"50.980061\"/>\n",
       "     <use style=\"fill:#1f77b4;stroke:#1f77b4;\" x=\"98.080503\" xlink:href=\"#mac7768e441\" y=\"46.873457\"/>\n",
       "     <use style=\"fill:#1f77b4;stroke:#1f77b4;\" x=\"124.151111\" xlink:href=\"#mac7768e441\" y=\"77.884678\"/>\n",
       "     <use style=\"fill:#1f77b4;stroke:#1f77b4;\" x=\"81.981239\" xlink:href=\"#mac7768e441\" y=\"53.630927\"/>\n",
       "     <use style=\"fill:#1f77b4;stroke:#1f77b4;\" x=\"116.775239\" xlink:href=\"#mac7768e441\" y=\"62.83697\"/>\n",
       "     <use style=\"fill:#1f77b4;stroke:#1f77b4;\" x=\"155.713088\" xlink:href=\"#mac7768e441\" y=\"85.324645\"/>\n",
       "     <use style=\"fill:#1f77b4;stroke:#1f77b4;\" x=\"137.76294\" xlink:href=\"#mac7768e441\" y=\"64.43641\"/>\n",
       "     <use style=\"fill:#1f77b4;stroke:#1f77b4;\" x=\"122.096832\" xlink:href=\"#mac7768e441\" y=\"71.094307\"/>\n",
       "     <use style=\"fill:#1f77b4;stroke:#1f77b4;\" x=\"119.930413\" xlink:href=\"#mac7768e441\" y=\"85.812226\"/>\n",
       "     <use style=\"fill:#1f77b4;stroke:#1f77b4;\" x=\"138.574245\" xlink:href=\"#mac7768e441\" y=\"70.013268\"/>\n",
       "     <use style=\"fill:#1f77b4;stroke:#1f77b4;\" x=\"128.291626\" xlink:href=\"#mac7768e441\" y=\"99.087287\"/>\n",
       "     <use style=\"fill:#1f77b4;stroke:#1f77b4;\" x=\"144.261453\" xlink:href=\"#mac7768e441\" y=\"100.242491\"/>\n",
       "     <use style=\"fill:#1f77b4;stroke:#1f77b4;\" x=\"102.484421\" xlink:href=\"#mac7768e441\" y=\"60.536805\"/>\n",
       "     <use style=\"fill:#1f77b4;stroke:#1f77b4;\" x=\"146.676124\" xlink:href=\"#mac7768e441\" y=\"79.650637\"/>\n",
       "     <use style=\"fill:#1f77b4;stroke:#1f77b4;\" x=\"137.118674\" xlink:href=\"#mac7768e441\" y=\"73.398653\"/>\n",
       "     <use style=\"fill:#1f77b4;stroke:#1f77b4;\" x=\"156.16581\" xlink:href=\"#mac7768e441\" y=\"94.384049\"/>\n",
       "     <use style=\"fill:#1f77b4;stroke:#1f77b4;\" x=\"117.960808\" xlink:href=\"#mac7768e441\" y=\"58.442834\"/>\n",
       "     <use style=\"fill:#1f77b4;stroke:#1f77b4;\" x=\"156.327631\" xlink:href=\"#mac7768e441\" y=\"102.20228\"/>\n",
       "     <use style=\"fill:#1f77b4;stroke:#1f77b4;\" x=\"135.814489\" xlink:href=\"#mac7768e441\" y=\"89.041068\"/>\n",
       "     <use style=\"fill:#1f77b4;stroke:#1f77b4;\" x=\"109.566831\" xlink:href=\"#mac7768e441\" y=\"47.215056\"/>\n",
       "     <use style=\"fill:#1f77b4;stroke:#1f77b4;\" x=\"144.535236\" xlink:href=\"#mac7768e441\" y=\"90.935247\"/>\n",
       "     <use style=\"fill:#1f77b4;stroke:#1f77b4;\" x=\"120.129831\" xlink:href=\"#mac7768e441\" y=\"67.468429\"/>\n",
       "     <use style=\"fill:#1f77b4;stroke:#1f77b4;\" x=\"107.910538\" xlink:href=\"#mac7768e441\" y=\"44.826586\"/>\n",
       "     <use style=\"fill:#1f77b4;stroke:#1f77b4;\" x=\"153.599427\" xlink:href=\"#mac7768e441\" y=\"95.010092\"/>\n",
       "     <use style=\"fill:#1f77b4;stroke:#1f77b4;\" x=\"142.178435\" xlink:href=\"#mac7768e441\" y=\"81.345507\"/>\n",
       "     <use style=\"fill:#1f77b4;stroke:#1f77b4;\" x=\"130.974311\" xlink:href=\"#mac7768e441\" y=\"84.670593\"/>\n",
       "     <use style=\"fill:#1f77b4;stroke:#1f77b4;\" x=\"96.312916\" xlink:href=\"#mac7768e441\" y=\"55.822693\"/>\n",
       "     <use style=\"fill:#1f77b4;stroke:#1f77b4;\" x=\"102.432979\" xlink:href=\"#mac7768e441\" y=\"47.024396\"/>\n",
       "     <use style=\"fill:#1f77b4;stroke:#1f77b4;\" x=\"121.721291\" xlink:href=\"#mac7768e441\" y=\"77.116409\"/>\n",
       "     <use style=\"fill:#1f77b4;stroke:#1f77b4;\" x=\"99.245759\" xlink:href=\"#mac7768e441\" y=\"47.094607\"/>\n",
       "     <use style=\"fill:#1f77b4;stroke:#1f77b4;\" x=\"132.816698\" xlink:href=\"#mac7768e441\" y=\"106.376715\"/>\n",
       "     <use style=\"fill:#1f77b4;stroke:#1f77b4;\" x=\"191.498953\" xlink:href=\"#mac7768e441\" y=\"136.548876\"/>\n",
       "     <use style=\"fill:#1f77b4;stroke:#1f77b4;\" x=\"83.175118\" xlink:href=\"#mac7768e441\" y=\"46.612259\"/>\n",
       "     <use style=\"fill:#1f77b4;stroke:#1f77b4;\" x=\"122.515244\" xlink:href=\"#mac7768e441\" y=\"59.082248\"/>\n",
       "     <use style=\"fill:#1f77b4;stroke:#1f77b4;\" x=\"87.444944\" xlink:href=\"#mac7768e441\" y=\"31.299714\"/>\n",
       "     <use style=\"fill:#1f77b4;stroke:#1f77b4;\" x=\"129.838951\" xlink:href=\"#mac7768e441\" y=\"88.437676\"/>\n",
       "     <use style=\"fill:#1f77b4;stroke:#1f77b4;\" x=\"137.374194\" xlink:href=\"#mac7768e441\" y=\"68.035466\"/>\n",
       "     <use style=\"fill:#1f77b4;stroke:#1f77b4;\" x=\"190.330989\" xlink:href=\"#mac7768e441\" y=\"124.074858\"/>\n",
       "     <use style=\"fill:#1f77b4;stroke:#1f77b4;\" x=\"72.279009\" xlink:href=\"#mac7768e441\" y=\"42.946709\"/>\n",
       "     <use style=\"fill:#1f77b4;stroke:#1f77b4;\" x=\"137.557097\" xlink:href=\"#mac7768e441\" y=\"85.261451\"/>\n",
       "     <use style=\"fill:#1f77b4;stroke:#1f77b4;\" x=\"98.858447\" xlink:href=\"#mac7768e441\" y=\"83.863771\"/>\n",
       "     <use style=\"fill:#1f77b4;stroke:#1f77b4;\" x=\"119.258877\" xlink:href=\"#mac7768e441\" y=\"84.289469\"/>\n",
       "     <use style=\"fill:#1f77b4;stroke:#1f77b4;\" x=\"139.498713\" xlink:href=\"#mac7768e441\" y=\"84.951658\"/>\n",
       "     <use style=\"fill:#1f77b4;stroke:#1f77b4;\" x=\"142.409746\" xlink:href=\"#mac7768e441\" y=\"61.955446\"/>\n",
       "     <use style=\"fill:#1f77b4;stroke:#1f77b4;\" x=\"147.404002\" xlink:href=\"#mac7768e441\" y=\"95.494167\"/>\n",
       "     <use style=\"fill:#1f77b4;stroke:#1f77b4;\" x=\"88.832333\" xlink:href=\"#mac7768e441\" y=\"30.537028\"/>\n",
       "     <use style=\"fill:#1f77b4;stroke:#1f77b4;\" x=\"110.82146\" xlink:href=\"#mac7768e441\" y=\"67.758623\"/>\n",
       "     <use style=\"fill:#1f77b4;stroke:#1f77b4;\" x=\"112.061677\" xlink:href=\"#mac7768e441\" y=\"61.185473\"/>\n",
       "     <use style=\"fill:#1f77b4;stroke:#1f77b4;\" x=\"81.895143\" xlink:href=\"#mac7768e441\" y=\"13.377273\"/>\n",
       "     <use style=\"fill:#1f77b4;stroke:#1f77b4;\" x=\"104.902883\" xlink:href=\"#mac7768e441\" y=\"50.23119\"/>\n",
       "     <use style=\"fill:#1f77b4;stroke:#1f77b4;\" x=\"145.12844\" xlink:href=\"#mac7768e441\" y=\"91.07673\"/>\n",
       "     <use style=\"fill:#1f77b4;stroke:#1f77b4;\" x=\"149.145635\" xlink:href=\"#mac7768e441\" y=\"100.939576\"/>\n",
       "     <use style=\"fill:#1f77b4;stroke:#1f77b4;\" x=\"139.631686\" xlink:href=\"#mac7768e441\" y=\"72.624416\"/>\n",
       "     <use style=\"fill:#1f77b4;stroke:#1f77b4;\" x=\"111.501481\" xlink:href=\"#mac7768e441\" y=\"62.493411\"/>\n",
       "     <use style=\"fill:#1f77b4;stroke:#1f77b4;\" x=\"126.037139\" xlink:href=\"#mac7768e441\" y=\"78.047413\"/>\n",
       "     <use style=\"fill:#1f77b4;stroke:#1f77b4;\" x=\"106.44852\" xlink:href=\"#mac7768e441\" y=\"60.043526\"/>\n",
       "     <use style=\"fill:#1f77b4;stroke:#1f77b4;\" x=\"94.126528\" xlink:href=\"#mac7768e441\" y=\"40.127149\"/>\n",
       "     <use style=\"fill:#1f77b4;stroke:#1f77b4;\" x=\"139.184694\" xlink:href=\"#mac7768e441\" y=\"72.006268\"/>\n",
       "     <use style=\"fill:#1f77b4;stroke:#1f77b4;\" x=\"108.475164\" xlink:href=\"#mac7768e441\" y=\"41.902534\"/>\n",
       "     <use style=\"fill:#1f77b4;stroke:#1f77b4;\" x=\"97.651941\" xlink:href=\"#mac7768e441\" y=\"55.712064\"/>\n",
       "     <use style=\"fill:#1f77b4;stroke:#1f77b4;\" x=\"116.133641\" xlink:href=\"#mac7768e441\" y=\"50.395064\"/>\n",
       "     <use style=\"fill:#1f77b4;stroke:#1f77b4;\" x=\"87.279288\" xlink:href=\"#mac7768e441\" y=\"47.526166\"/>\n",
       "     <use style=\"fill:#1f77b4;stroke:#1f77b4;\" x=\"124.938164\" xlink:href=\"#mac7768e441\" y=\"85.577954\"/>\n",
       "     <use style=\"fill:#1f77b4;stroke:#1f77b4;\" x=\"129.398221\" xlink:href=\"#mac7768e441\" y=\"66.352021\"/>\n",
       "     <use style=\"fill:#1f77b4;stroke:#1f77b4;\" x=\"135.834422\" xlink:href=\"#mac7768e441\" y=\"90.906135\"/>\n",
       "     <use style=\"fill:#1f77b4;stroke:#1f77b4;\" x=\"127.124759\" xlink:href=\"#mac7768e441\" y=\"83.149749\"/>\n",
       "     <use style=\"fill:#1f77b4;stroke:#1f77b4;\" x=\"105.123869\" xlink:href=\"#mac7768e441\" y=\"73.571646\"/>\n",
       "     <use style=\"fill:#1f77b4;stroke:#1f77b4;\" x=\"129.714003\" xlink:href=\"#mac7768e441\" y=\"88.36717\"/>\n",
       "     <use style=\"fill:#1f77b4;stroke:#1f77b4;\" x=\"78.806689\" xlink:href=\"#mac7768e441\" y=\"42.942483\"/>\n",
       "     <use style=\"fill:#1f77b4;stroke:#1f77b4;\" x=\"63.705713\" xlink:href=\"#mac7768e441\" y=\"35.975933\"/>\n",
       "     <use style=\"fill:#1f77b4;stroke:#1f77b4;\" x=\"124.888438\" xlink:href=\"#mac7768e441\" y=\"70.091216\"/>\n",
       "     <use style=\"fill:#1f77b4;stroke:#1f77b4;\" x=\"94.455224\" xlink:href=\"#mac7768e441\" y=\"48.817059\"/>\n",
       "     <use style=\"fill:#1f77b4;stroke:#1f77b4;\" x=\"137.519305\" xlink:href=\"#mac7768e441\" y=\"79.373641\"/>\n",
       "     <use style=\"fill:#1f77b4;stroke:#1f77b4;\" x=\"167.406546\" xlink:href=\"#mac7768e441\" y=\"102.502702\"/>\n",
       "     <use style=\"fill:#1f77b4;stroke:#1f77b4;\" x=\"69.299623\" xlink:href=\"#mac7768e441\" y=\"31.347537\"/>\n",
       "     <use style=\"fill:#1f77b4;stroke:#1f77b4;\" x=\"70.936206\" xlink:href=\"#mac7768e441\" y=\"37.605404\"/>\n",
       "     <use style=\"fill:#1f77b4;stroke:#1f77b4;\" x=\"101.991207\" xlink:href=\"#mac7768e441\" y=\"44.584138\"/>\n",
       "     <use style=\"fill:#1f77b4;stroke:#1f77b4;\" x=\"179.975496\" xlink:href=\"#mac7768e441\" y=\"123.182295\"/>\n",
       "     <use style=\"fill:#1f77b4;stroke:#1f77b4;\" x=\"110.662396\" xlink:href=\"#mac7768e441\" y=\"59.067304\"/>\n",
       "     <use style=\"fill:#1f77b4;stroke:#1f77b4;\" x=\"129.743058\" xlink:href=\"#mac7768e441\" y=\"80.506434\"/>\n",
       "     <use style=\"fill:#1f77b4;stroke:#1f77b4;\" x=\"104.224823\" xlink:href=\"#mac7768e441\" y=\"71.850432\"/>\n",
       "     <use style=\"fill:#1f77b4;stroke:#1f77b4;\" x=\"127.132199\" xlink:href=\"#mac7768e441\" y=\"77.594416\"/>\n",
       "     <use style=\"fill:#1f77b4;stroke:#1f77b4;\" x=\"179.718044\" xlink:href=\"#mac7768e441\" y=\"99.264792\"/>\n",
       "     <use style=\"fill:#1f77b4;stroke:#1f77b4;\" x=\"95.654636\" xlink:href=\"#mac7768e441\" y=\"55.801347\"/>\n",
       "     <use style=\"fill:#1f77b4;stroke:#1f77b4;\" x=\"119.744579\" xlink:href=\"#mac7768e441\" y=\"62.702421\"/>\n",
       "     <use style=\"fill:#1f77b4;stroke:#1f77b4;\" x=\"124.004381\" xlink:href=\"#mac7768e441\" y=\"70.360251\"/>\n",
       "     <use style=\"fill:#1f77b4;stroke:#1f77b4;\" x=\"157.573792\" xlink:href=\"#mac7768e441\" y=\"89.63104\"/>\n",
       "     <use style=\"fill:#1f77b4;stroke:#1f77b4;\" x=\"108.024393\" xlink:href=\"#mac7768e441\" y=\"59.563984\"/>\n",
       "     <use style=\"fill:#1f77b4;stroke:#1f77b4;\" x=\"81.09811\" xlink:href=\"#mac7768e441\" y=\"52.963407\"/>\n",
       "     <use style=\"fill:#1f77b4;stroke:#1f77b4;\" x=\"142.009642\" xlink:href=\"#mac7768e441\" y=\"70.953503\"/>\n",
       "     <use style=\"fill:#1f77b4;stroke:#1f77b4;\" x=\"153.326841\" xlink:href=\"#mac7768e441\" y=\"95.985124\"/>\n",
       "     <use style=\"fill:#1f77b4;stroke:#1f77b4;\" x=\"106.71583\" xlink:href=\"#mac7768e441\" y=\"60.15302\"/>\n",
       "     <use style=\"fill:#1f77b4;stroke:#1f77b4;\" x=\"125.524557\" xlink:href=\"#mac7768e441\" y=\"88.492118\"/>\n",
       "     <use style=\"fill:#1f77b4;stroke:#1f77b4;\" x=\"159.017693\" xlink:href=\"#mac7768e441\" y=\"95.545454\"/>\n",
       "     <use style=\"fill:#1f77b4;stroke:#1f77b4;\" x=\"155.577389\" xlink:href=\"#mac7768e441\" y=\"85.477139\"/>\n",
       "     <use style=\"fill:#1f77b4;stroke:#1f77b4;\" x=\"155.308873\" xlink:href=\"#mac7768e441\" y=\"85.327094\"/>\n",
       "     <use style=\"fill:#1f77b4;stroke:#1f77b4;\" x=\"82.327566\" xlink:href=\"#mac7768e441\" y=\"30.393045\"/>\n",
       "     <use style=\"fill:#1f77b4;stroke:#1f77b4;\" x=\"139.185454\" xlink:href=\"#mac7768e441\" y=\"98.986657\"/>\n",
       "     <use style=\"fill:#1f77b4;stroke:#1f77b4;\" x=\"142.172828\" xlink:href=\"#mac7768e441\" y=\"76.905101\"/>\n",
       "     <use style=\"fill:#1f77b4;stroke:#1f77b4;\" x=\"135.158502\" xlink:href=\"#mac7768e441\" y=\"67.723187\"/>\n",
       "     <use style=\"fill:#1f77b4;stroke:#1f77b4;\" x=\"79.825552\" xlink:href=\"#mac7768e441\" y=\"43.674995\"/>\n",
       "     <use style=\"fill:#1f77b4;stroke:#1f77b4;\" x=\"124.361849\" xlink:href=\"#mac7768e441\" y=\"63.680332\"/>\n",
       "     <use style=\"fill:#1f77b4;stroke:#1f77b4;\" x=\"128.763821\" xlink:href=\"#mac7768e441\" y=\"88.672249\"/>\n",
       "     <use style=\"fill:#1f77b4;stroke:#1f77b4;\" x=\"94.06963\" xlink:href=\"#mac7768e441\" y=\"61.39005\"/>\n",
       "     <use style=\"fill:#1f77b4;stroke:#1f77b4;\" x=\"125.843145\" xlink:href=\"#mac7768e441\" y=\"44.723154\"/>\n",
       "     <use style=\"fill:#1f77b4;stroke:#1f77b4;\" x=\"113.905347\" xlink:href=\"#mac7768e441\" y=\"65.921899\"/>\n",
       "     <use style=\"fill:#1f77b4;stroke:#1f77b4;\" x=\"167.985847\" xlink:href=\"#mac7768e441\" y=\"105.041927\"/>\n",
       "     <use style=\"fill:#1f77b4;stroke:#1f77b4;\" x=\"174.033104\" xlink:href=\"#mac7768e441\" y=\"113.401634\"/>\n",
       "     <use style=\"fill:#1f77b4;stroke:#1f77b4;\" x=\"121.608149\" xlink:href=\"#mac7768e441\" y=\"86.269599\"/>\n",
       "     <use style=\"fill:#1f77b4;stroke:#1f77b4;\" x=\"102.374862\" xlink:href=\"#mac7768e441\" y=\"53.544359\"/>\n",
       "     <use style=\"fill:#1f77b4;stroke:#1f77b4;\" x=\"147.878913\" xlink:href=\"#mac7768e441\" y=\"84.291646\"/>\n",
       "     <use style=\"fill:#1f77b4;stroke:#1f77b4;\" x=\"119.279022\" xlink:href=\"#mac7768e441\" y=\"65.414328\"/>\n",
       "     <use style=\"fill:#1f77b4;stroke:#1f77b4;\" x=\"90.570636\" xlink:href=\"#mac7768e441\" y=\"47.065904\"/>\n",
       "     <use style=\"fill:#1f77b4;stroke:#1f77b4;\" x=\"133.726716\" xlink:href=\"#mac7768e441\" y=\"59.088209\"/>\n",
       "     <use style=\"fill:#1f77b4;stroke:#1f77b4;\" x=\"102.487294\" xlink:href=\"#mac7768e441\" y=\"43.507647\"/>\n",
       "     <use style=\"fill:#1f77b4;stroke:#1f77b4;\" x=\"132.217247\" xlink:href=\"#mac7768e441\" y=\"71.578395\"/>\n",
       "     <use style=\"fill:#1f77b4;stroke:#1f77b4;\" x=\"92.590488\" xlink:href=\"#mac7768e441\" y=\"59.2179\"/>\n",
       "     <use style=\"fill:#1f77b4;stroke:#1f77b4;\" x=\"113.140354\" xlink:href=\"#mac7768e441\" y=\"82.026998\"/>\n",
       "     <use style=\"fill:#1f77b4;stroke:#1f77b4;\" x=\"134.140388\" xlink:href=\"#mac7768e441\" y=\"90.371963\"/>\n",
       "     <use style=\"fill:#1f77b4;stroke:#1f77b4;\" x=\"96.408455\" xlink:href=\"#mac7768e441\" y=\"67.95274\"/>\n",
       "     <use style=\"fill:#1f77b4;stroke:#1f77b4;\" x=\"142.36272\" xlink:href=\"#mac7768e441\" y=\"75.287148\"/>\n",
       "     <use style=\"fill:#1f77b4;stroke:#1f77b4;\" x=\"140.016586\" xlink:href=\"#mac7768e441\" y=\"92.718305\"/>\n",
       "     <use style=\"fill:#1f77b4;stroke:#1f77b4;\" x=\"114.089258\" xlink:href=\"#mac7768e441\" y=\"74.384741\"/>\n",
       "     <use style=\"fill:#1f77b4;stroke:#1f77b4;\" x=\"119.754369\" xlink:href=\"#mac7768e441\" y=\"75.034024\"/>\n",
       "     <use style=\"fill:#1f77b4;stroke:#1f77b4;\" x=\"96.025576\" xlink:href=\"#mac7768e441\" y=\"38.504027\"/>\n",
       "     <use style=\"fill:#1f77b4;stroke:#1f77b4;\" x=\"132.508457\" xlink:href=\"#mac7768e441\" y=\"87.946564\"/>\n",
       "     <use style=\"fill:#1f77b4;stroke:#1f77b4;\" x=\"126.952339\" xlink:href=\"#mac7768e441\" y=\"60.964337\"/>\n",
       "     <use style=\"fill:#1f77b4;stroke:#1f77b4;\" x=\"166.063521\" xlink:href=\"#mac7768e441\" y=\"122.580804\"/>\n",
       "     <use style=\"fill:#1f77b4;stroke:#1f77b4;\" x=\"105.756869\" xlink:href=\"#mac7768e441\" y=\"44.321602\"/>\n",
       "     <use style=\"fill:#1f77b4;stroke:#1f77b4;\" x=\"124.277827\" xlink:href=\"#mac7768e441\" y=\"66.234393\"/>\n",
       "     <use style=\"fill:#1f77b4;stroke:#1f77b4;\" x=\"128.056062\" xlink:href=\"#mac7768e441\" y=\"78.715912\"/>\n",
       "     <use style=\"fill:#1f77b4;stroke:#1f77b4;\" x=\"87.499398\" xlink:href=\"#mac7768e441\" y=\"36.490336\"/>\n",
       "     <use style=\"fill:#1f77b4;stroke:#1f77b4;\" x=\"123.215572\" xlink:href=\"#mac7768e441\" y=\"64.219385\"/>\n",
       "     <use style=\"fill:#1f77b4;stroke:#1f77b4;\" x=\"135.174734\" xlink:href=\"#mac7768e441\" y=\"63.892588\"/>\n",
       "     <use style=\"fill:#1f77b4;stroke:#1f77b4;\" x=\"109.297259\" xlink:href=\"#mac7768e441\" y=\"79.065518\"/>\n",
       "     <use style=\"fill:#1f77b4;stroke:#1f77b4;\" x=\"117.930634\" xlink:href=\"#mac7768e441\" y=\"72.981136\"/>\n",
       "     <use style=\"fill:#1f77b4;stroke:#1f77b4;\" x=\"112.442101\" xlink:href=\"#mac7768e441\" y=\"79.154712\"/>\n",
       "     <use style=\"fill:#1f77b4;stroke:#1f77b4;\" x=\"176.227332\" xlink:href=\"#mac7768e441\" y=\"115.924537\"/>\n",
       "     <use style=\"fill:#1f77b4;stroke:#1f77b4;\" x=\"142.695431\" xlink:href=\"#mac7768e441\" y=\"103.874661\"/>\n",
       "     <use style=\"fill:#1f77b4;stroke:#1f77b4;\" x=\"121.389727\" xlink:href=\"#mac7768e441\" y=\"75.114019\"/>\n",
       "     <use style=\"fill:#1f77b4;stroke:#1f77b4;\" x=\"77.25955\" xlink:href=\"#mac7768e441\" y=\"36.552669\"/>\n",
       "     <use style=\"fill:#1f77b4;stroke:#1f77b4;\" x=\"121.060939\" xlink:href=\"#mac7768e441\" y=\"76.29258\"/>\n",
       "     <use style=\"fill:#1f77b4;stroke:#1f77b4;\" x=\"123.397209\" xlink:href=\"#mac7768e441\" y=\"69.744376\"/>\n",
       "     <use style=\"fill:#1f77b4;stroke:#1f77b4;\" x=\"89.741517\" xlink:href=\"#mac7768e441\" y=\"69.759014\"/>\n",
       "     <use style=\"fill:#1f77b4;stroke:#1f77b4;\" x=\"154.188676\" xlink:href=\"#mac7768e441\" y=\"110.400473\"/>\n",
       "     <use style=\"fill:#1f77b4;stroke:#1f77b4;\" x=\"88.1229\" xlink:href=\"#mac7768e441\" y=\"43.679715\"/>\n",
       "     <use style=\"fill:#1f77b4;stroke:#1f77b4;\" x=\"111.936059\" xlink:href=\"#mac7768e441\" y=\"57.276875\"/>\n",
       "     <use style=\"fill:#1f77b4;stroke:#1f77b4;\" x=\"87.783761\" xlink:href=\"#mac7768e441\" y=\"51.303231\"/>\n",
       "     <use style=\"fill:#1f77b4;stroke:#1f77b4;\" x=\"115.377176\" xlink:href=\"#mac7768e441\" y=\"76.279316\"/>\n",
       "     <use style=\"fill:#1f77b4;stroke:#1f77b4;\" x=\"60.917128\" xlink:href=\"#mac7768e441\" y=\"27.583537\"/>\n",
       "     <use style=\"fill:#1f77b4;stroke:#1f77b4;\" x=\"143.252547\" xlink:href=\"#mac7768e441\" y=\"72.73882\"/>\n",
       "     <use style=\"fill:#1f77b4;stroke:#1f77b4;\" x=\"112.388471\" xlink:href=\"#mac7768e441\" y=\"63.727069\"/>\n",
       "     <use style=\"fill:#1f77b4;stroke:#1f77b4;\" x=\"153.064821\" xlink:href=\"#mac7768e441\" y=\"92.275229\"/>\n",
       "     <use style=\"fill:#1f77b4;stroke:#1f77b4;\" x=\"140.5543\" xlink:href=\"#mac7768e441\" y=\"61.916593\"/>\n",
       "     <use style=\"fill:#1f77b4;stroke:#1f77b4;\" x=\"102.371614\" xlink:href=\"#mac7768e441\" y=\"50.424112\"/>\n",
       "     <use style=\"fill:#1f77b4;stroke:#1f77b4;\" x=\"98.27365\" xlink:href=\"#mac7768e441\" y=\"57.769724\"/>\n",
       "     <use style=\"fill:#1f77b4;stroke:#1f77b4;\" x=\"137.550515\" xlink:href=\"#mac7768e441\" y=\"75.393369\"/>\n",
       "     <use style=\"fill:#1f77b4;stroke:#1f77b4;\" x=\"98.144709\" xlink:href=\"#mac7768e441\" y=\"62.110411\"/>\n",
       "     <use style=\"fill:#1f77b4;stroke:#1f77b4;\" x=\"132.605747\" xlink:href=\"#mac7768e441\" y=\"104.988464\"/>\n",
       "     <use style=\"fill:#1f77b4;stroke:#1f77b4;\" x=\"131.470451\" xlink:href=\"#mac7768e441\" y=\"81.343842\"/>\n",
       "     <use style=\"fill:#1f77b4;stroke:#1f77b4;\" x=\"117.508581\" xlink:href=\"#mac7768e441\" y=\"66.254177\"/>\n",
       "     <use style=\"fill:#1f77b4;stroke:#1f77b4;\" x=\"129.86868\" xlink:href=\"#mac7768e441\" y=\"84.420302\"/>\n",
       "     <use style=\"fill:#1f77b4;stroke:#1f77b4;\" x=\"154.683953\" xlink:href=\"#mac7768e441\" y=\"104.410565\"/>\n",
       "     <use style=\"fill:#1f77b4;stroke:#1f77b4;\" x=\"119.304606\" xlink:href=\"#mac7768e441\" y=\"53.379348\"/>\n",
       "     <use style=\"fill:#1f77b4;stroke:#1f77b4;\" x=\"169.626701\" xlink:href=\"#mac7768e441\" y=\"104.155319\"/>\n",
       "     <use style=\"fill:#1f77b4;stroke:#1f77b4;\" x=\"139.157742\" xlink:href=\"#mac7768e441\" y=\"99.04622\"/>\n",
       "     <use style=\"fill:#1f77b4;stroke:#1f77b4;\" x=\"113.63908\" xlink:href=\"#mac7768e441\" y=\"52.469398\"/>\n",
       "     <use style=\"fill:#1f77b4;stroke:#1f77b4;\" x=\"129.35628\" xlink:href=\"#mac7768e441\" y=\"85.201987\"/>\n",
       "     <use style=\"fill:#1f77b4;stroke:#1f77b4;\" x=\"88.795784\" xlink:href=\"#mac7768e441\" y=\"45.521505\"/>\n",
       "     <use style=\"fill:#1f77b4;stroke:#1f77b4;\" x=\"111.50493\" xlink:href=\"#mac7768e441\" y=\"65.556793\"/>\n",
       "     <use style=\"fill:#1f77b4;stroke:#1f77b4;\" x=\"112.933814\" xlink:href=\"#mac7768e441\" y=\"72.231305\"/>\n",
       "     <use style=\"fill:#1f77b4;stroke:#1f77b4;\" x=\"122.062459\" xlink:href=\"#mac7768e441\" y=\"70.402496\"/>\n",
       "     <use style=\"fill:#1f77b4;stroke:#1f77b4;\" x=\"93.544871\" xlink:href=\"#mac7768e441\" y=\"33.158408\"/>\n",
       "     <use style=\"fill:#1f77b4;stroke:#1f77b4;\" x=\"157.457221\" xlink:href=\"#mac7768e441\" y=\"83.293018\"/>\n",
       "     <use style=\"fill:#1f77b4;stroke:#1f77b4;\" x=\"130.851724\" xlink:href=\"#mac7768e441\" y=\"83.437587\"/>\n",
       "     <use style=\"fill:#1f77b4;stroke:#1f77b4;\" x=\"119.345614\" xlink:href=\"#mac7768e441\" y=\"84.23644\"/>\n",
       "     <use style=\"fill:#1f77b4;stroke:#1f77b4;\" x=\"139.527763\" xlink:href=\"#mac7768e441\" y=\"74.160635\"/>\n",
       "     <use style=\"fill:#1f77b4;stroke:#1f77b4;\" x=\"106.54422\" xlink:href=\"#mac7768e441\" y=\"70.83204\"/>\n",
       "     <use style=\"fill:#1f77b4;stroke:#1f77b4;\" x=\"117.023119\" xlink:href=\"#mac7768e441\" y=\"79.86054\"/>\n",
       "     <use style=\"fill:#1f77b4;stroke:#1f77b4;\" x=\"139.108494\" xlink:href=\"#mac7768e441\" y=\"73.902582\"/>\n",
       "     <use style=\"fill:#1f77b4;stroke:#1f77b4;\" x=\"123.941639\" xlink:href=\"#mac7768e441\" y=\"64.665603\"/>\n",
       "     <use style=\"fill:#1f77b4;stroke:#1f77b4;\" x=\"63.675727\" xlink:href=\"#mac7768e441\" y=\"19.312685\"/>\n",
       "     <use style=\"fill:#1f77b4;stroke:#1f77b4;\" x=\"146.370732\" xlink:href=\"#mac7768e441\" y=\"79.459527\"/>\n",
       "     <use style=\"fill:#1f77b4;stroke:#1f77b4;\" x=\"133.046656\" xlink:href=\"#mac7768e441\" y=\"81.896088\"/>\n",
       "     <use style=\"fill:#1f77b4;stroke:#1f77b4;\" x=\"128.707208\" xlink:href=\"#mac7768e441\" y=\"82.63771\"/>\n",
       "     <use style=\"fill:#1f77b4;stroke:#1f77b4;\" x=\"135.487704\" xlink:href=\"#mac7768e441\" y=\"72.139148\"/>\n",
       "     <use style=\"fill:#1f77b4;stroke:#1f77b4;\" x=\"152.112009\" xlink:href=\"#mac7768e441\" y=\"85.397601\"/>\n",
       "     <use style=\"fill:#1f77b4;stroke:#1f77b4;\" x=\"124.429659\" xlink:href=\"#mac7768e441\" y=\"76.087285\"/>\n",
       "     <use style=\"fill:#1f77b4;stroke:#1f77b4;\" x=\"128.800796\" xlink:href=\"#mac7768e441\" y=\"74.052644\"/>\n",
       "     <use style=\"fill:#1f77b4;stroke:#1f77b4;\" x=\"140.833939\" xlink:href=\"#mac7768e441\" y=\"70.58622\"/>\n",
       "     <use style=\"fill:#1f77b4;stroke:#1f77b4;\" x=\"146.956806\" xlink:href=\"#mac7768e441\" y=\"71.799372\"/>\n",
       "     <use style=\"fill:#1f77b4;stroke:#1f77b4;\" x=\"114.839953\" xlink:href=\"#mac7768e441\" y=\"65.978068\"/>\n",
       "     <use style=\"fill:#1f77b4;stroke:#1f77b4;\" x=\"67.133264\" xlink:href=\"#mac7768e441\" y=\"31.879832\"/>\n",
       "     <use style=\"fill:#1f77b4;stroke:#1f77b4;\" x=\"76.042958\" xlink:href=\"#mac7768e441\" y=\"29.200587\"/>\n",
       "     <use style=\"fill:#1f77b4;stroke:#1f77b4;\" x=\"89.032566\" xlink:href=\"#mac7768e441\" y=\"47.645143\"/>\n",
       "     <use style=\"fill:#1f77b4;stroke:#1f77b4;\" x=\"129.168348\" xlink:href=\"#mac7768e441\" y=\"56.440908\"/>\n",
       "     <use style=\"fill:#1f77b4;stroke:#1f77b4;\" x=\"133.57939\" xlink:href=\"#mac7768e441\" y=\"78.589536\"/>\n",
       "     <use style=\"fill:#1f77b4;stroke:#1f77b4;\" x=\"116.017705\" xlink:href=\"#mac7768e441\" y=\"59.880176\"/>\n",
       "     <use style=\"fill:#1f77b4;stroke:#1f77b4;\" x=\"171.206287\" xlink:href=\"#mac7768e441\" y=\"99.136063\"/>\n",
       "     <use style=\"fill:#1f77b4;stroke:#1f77b4;\" x=\"118.097041\" xlink:href=\"#mac7768e441\" y=\"57.278341\"/>\n",
       "     <use style=\"fill:#1f77b4;stroke:#1f77b4;\" x=\"138.829158\" xlink:href=\"#mac7768e441\" y=\"78.262612\"/>\n",
       "     <use style=\"fill:#1f77b4;stroke:#1f77b4;\" x=\"98.626508\" xlink:href=\"#mac7768e441\" y=\"37.734779\"/>\n",
       "     <use style=\"fill:#1f77b4;stroke:#1f77b4;\" x=\"80.855091\" xlink:href=\"#mac7768e441\" y=\"49.403259\"/>\n",
       "     <use style=\"fill:#1f77b4;stroke:#1f77b4;\" x=\"124.617638\" xlink:href=\"#mac7768e441\" y=\"83.557963\"/>\n",
       "     <use style=\"fill:#1f77b4;stroke:#1f77b4;\" x=\"91.521008\" xlink:href=\"#mac7768e441\" y=\"52.411388\"/>\n",
       "     <use style=\"fill:#1f77b4;stroke:#1f77b4;\" x=\"141.886217\" xlink:href=\"#mac7768e441\" y=\"73.231375\"/>\n",
       "     <use style=\"fill:#1f77b4;stroke:#1f77b4;\" x=\"81.404929\" xlink:href=\"#mac7768e441\" y=\"37.628292\"/>\n",
       "     <use style=\"fill:#1f77b4;stroke:#1f77b4;\" x=\"136.973635\" xlink:href=\"#mac7768e441\" y=\"78.087637\"/>\n",
       "     <use style=\"fill:#1f77b4;stroke:#1f77b4;\" x=\"129.448516\" xlink:href=\"#mac7768e441\" y=\"77.776142\"/>\n",
       "     <use style=\"fill:#1f77b4;stroke:#1f77b4;\" x=\"174.015815\" xlink:href=\"#mac7768e441\" y=\"92.684906\"/>\n",
       "     <use style=\"fill:#1f77b4;stroke:#1f77b4;\" x=\"151.007951\" xlink:href=\"#mac7768e441\" y=\"94.140704\"/>\n",
       "     <use style=\"fill:#1f77b4;stroke:#1f77b4;\" x=\"94.174919\" xlink:href=\"#mac7768e441\" y=\"48.329685\"/>\n",
       "     <use style=\"fill:#1f77b4;stroke:#1f77b4;\" x=\"127.763876\" xlink:href=\"#mac7768e441\" y=\"80.235879\"/>\n",
       "     <use style=\"fill:#1f77b4;stroke:#1f77b4;\" x=\"144.737168\" xlink:href=\"#mac7768e441\" y=\"72.442799\"/>\n",
       "     <use style=\"fill:#1f77b4;stroke:#1f77b4;\" x=\"96.06965\" xlink:href=\"#mac7768e441\" y=\"47.013174\"/>\n",
       "     <use style=\"fill:#1f77b4;stroke:#1f77b4;\" x=\"165.274364\" xlink:href=\"#mac7768e441\" y=\"111.120712\"/>\n",
       "     <use style=\"fill:#1f77b4;stroke:#1f77b4;\" x=\"70.62318\" xlink:href=\"#mac7768e441\" y=\"28.315274\"/>\n",
       "     <use style=\"fill:#1f77b4;stroke:#1f77b4;\" x=\"116.970747\" xlink:href=\"#mac7768e441\" y=\"74.099096\"/>\n",
       "     <use style=\"fill:#1f77b4;stroke:#1f77b4;\" x=\"110.125072\" xlink:href=\"#mac7768e441\" y=\"45.310075\"/>\n",
       "     <use style=\"fill:#1f77b4;stroke:#1f77b4;\" x=\"114.029029\" xlink:href=\"#mac7768e441\" y=\"76.0456\"/>\n",
       "     <use style=\"fill:#1f77b4;stroke:#1f77b4;\" x=\"157.888911\" xlink:href=\"#mac7768e441\" y=\"84.900655\"/>\n",
       "     <use style=\"fill:#1f77b4;stroke:#1f77b4;\" x=\"98.232731\" xlink:href=\"#mac7768e441\" y=\"66.141911\"/>\n",
       "     <use style=\"fill:#1f77b4;stroke:#1f77b4;\" x=\"107.111429\" xlink:href=\"#mac7768e441\" y=\"47.546273\"/>\n",
       "     <use style=\"fill:#1f77b4;stroke:#1f77b4;\" x=\"126.118773\" xlink:href=\"#mac7768e441\" y=\"59.443424\"/>\n",
       "     <use style=\"fill:#1f77b4;stroke:#1f77b4;\" x=\"141.328924\" xlink:href=\"#mac7768e441\" y=\"74.79705\"/>\n",
       "     <use style=\"fill:#1f77b4;stroke:#1f77b4;\" x=\"135.534685\" xlink:href=\"#mac7768e441\" y=\"73.158001\"/>\n",
       "     <use style=\"fill:#1f77b4;stroke:#1f77b4;\" x=\"151.555257\" xlink:href=\"#mac7768e441\" y=\"86.927869\"/>\n",
       "     <use style=\"fill:#1f77b4;stroke:#1f77b4;\" x=\"93.399481\" xlink:href=\"#mac7768e441\" y=\"71.021886\"/>\n",
       "     <use style=\"fill:#1f77b4;stroke:#1f77b4;\" x=\"141.402046\" xlink:href=\"#mac7768e441\" y=\"83.087379\"/>\n",
       "     <use style=\"fill:#1f77b4;stroke:#1f77b4;\" x=\"110.033559\" xlink:href=\"#mac7768e441\" y=\"70.738943\"/>\n",
       "     <use style=\"fill:#1f77b4;stroke:#1f77b4;\" x=\"141.979099\" xlink:href=\"#mac7768e441\" y=\"94.86998\"/>\n",
       "     <use style=\"fill:#1f77b4;stroke:#1f77b4;\" x=\"115.78002\" xlink:href=\"#mac7768e441\" y=\"67.021031\"/>\n",
       "     <use style=\"fill:#1f77b4;stroke:#1f77b4;\" x=\"143.702025\" xlink:href=\"#mac7768e441\" y=\"75.239079\"/>\n",
       "     <use style=\"fill:#1f77b4;stroke:#1f77b4;\" x=\"85.356423\" xlink:href=\"#mac7768e441\" y=\"52.667883\"/>\n",
       "     <use style=\"fill:#1f77b4;stroke:#1f77b4;\" x=\"144.44116\" xlink:href=\"#mac7768e441\" y=\"70.125342\"/>\n",
       "     <use style=\"fill:#1f77b4;stroke:#1f77b4;\" x=\"103.248476\" xlink:href=\"#mac7768e441\" y=\"47.082527\"/>\n",
       "     <use style=\"fill:#1f77b4;stroke:#1f77b4;\" x=\"96.284643\" xlink:href=\"#mac7768e441\" y=\"59.177295\"/>\n",
       "     <use style=\"fill:#1f77b4;stroke:#1f77b4;\" x=\"137.872099\" xlink:href=\"#mac7768e441\" y=\"67.224219\"/>\n",
       "     <use style=\"fill:#1f77b4;stroke:#1f77b4;\" x=\"95.698486\" xlink:href=\"#mac7768e441\" y=\"61.10521\"/>\n",
       "     <use style=\"fill:#1f77b4;stroke:#1f77b4;\" x=\"146.4816\" xlink:href=\"#mac7768e441\" y=\"79.705975\"/>\n",
       "     <use style=\"fill:#1f77b4;stroke:#1f77b4;\" x=\"78.288452\" xlink:href=\"#mac7768e441\" y=\"34.194274\"/>\n",
       "     <use style=\"fill:#1f77b4;stroke:#1f77b4;\" x=\"117.824714\" xlink:href=\"#mac7768e441\" y=\"63.119423\"/>\n",
       "     <use style=\"fill:#1f77b4;stroke:#1f77b4;\" x=\"126.537834\" xlink:href=\"#mac7768e441\" y=\"86.386646\"/>\n",
       "     <use style=\"fill:#1f77b4;stroke:#1f77b4;\" x=\"103.729715\" xlink:href=\"#mac7768e441\" y=\"69.227386\"/>\n",
       "     <use style=\"fill:#1f77b4;stroke:#1f77b4;\" x=\"119.905449\" xlink:href=\"#mac7768e441\" y=\"56.789553\"/>\n",
       "     <use style=\"fill:#1f77b4;stroke:#1f77b4;\" x=\"112.384262\" xlink:href=\"#mac7768e441\" y=\"69.465482\"/>\n",
       "     <use style=\"fill:#1f77b4;stroke:#1f77b4;\" x=\"144.150651\" xlink:href=\"#mac7768e441\" y=\"82.002886\"/>\n",
       "     <use style=\"fill:#1f77b4;stroke:#1f77b4;\" x=\"137.316316\" xlink:href=\"#mac7768e441\" y=\"82.18356\"/>\n",
       "     <use style=\"fill:#1f77b4;stroke:#1f77b4;\" x=\"132.973681\" xlink:href=\"#mac7768e441\" y=\"74.766934\"/>\n",
       "     <use style=\"fill:#1f77b4;stroke:#1f77b4;\" x=\"132.162424\" xlink:href=\"#mac7768e441\" y=\"85.477013\"/>\n",
       "     <use style=\"fill:#1f77b4;stroke:#1f77b4;\" x=\"129.080176\" xlink:href=\"#mac7768e441\" y=\"80.898106\"/>\n",
       "     <use style=\"fill:#1f77b4;stroke:#1f77b4;\" x=\"56.284748\" xlink:href=\"#mac7768e441\" y=\"42.624161\"/>\n",
       "     <use style=\"fill:#1f77b4;stroke:#1f77b4;\" x=\"135.942633\" xlink:href=\"#mac7768e441\" y=\"77.125617\"/>\n",
       "     <use style=\"fill:#1f77b4;stroke:#1f77b4;\" x=\"133.630788\" xlink:href=\"#mac7768e441\" y=\"61.525487\"/>\n",
       "     <use style=\"fill:#1f77b4;stroke:#1f77b4;\" x=\"99.504563\" xlink:href=\"#mac7768e441\" y=\"69.666278\"/>\n",
       "     <use style=\"fill:#1f77b4;stroke:#1f77b4;\" x=\"137.920134\" xlink:href=\"#mac7768e441\" y=\"80.510765\"/>\n",
       "     <use style=\"fill:#1f77b4;stroke:#1f77b4;\" x=\"101.428765\" xlink:href=\"#mac7768e441\" y=\"60.060652\"/>\n",
       "     <use style=\"fill:#1f77b4;stroke:#1f77b4;\" x=\"94.361108\" xlink:href=\"#mac7768e441\" y=\"67.978646\"/>\n",
       "     <use style=\"fill:#1f77b4;stroke:#1f77b4;\" x=\"114.331394\" xlink:href=\"#mac7768e441\" y=\"54.26141\"/>\n",
       "     <use style=\"fill:#1f77b4;stroke:#1f77b4;\" x=\"144.707948\" xlink:href=\"#mac7768e441\" y=\"67.087226\"/>\n",
       "     <use style=\"fill:#1f77b4;stroke:#1f77b4;\" x=\"118.986677\" xlink:href=\"#mac7768e441\" y=\"64.550399\"/>\n",
       "     <use style=\"fill:#1f77b4;stroke:#1f77b4;\" x=\"81.489044\" xlink:href=\"#mac7768e441\" y=\"40.046857\"/>\n",
       "     <use style=\"fill:#1f77b4;stroke:#1f77b4;\" x=\"124.905757\" xlink:href=\"#mac7768e441\" y=\"62.055173\"/>\n",
       "     <use style=\"fill:#1f77b4;stroke:#1f77b4;\" x=\"106.797928\" xlink:href=\"#mac7768e441\" y=\"64.920075\"/>\n",
       "     <use style=\"fill:#1f77b4;stroke:#1f77b4;\" x=\"120.201656\" xlink:href=\"#mac7768e441\" y=\"70.279988\"/>\n",
       "     <use style=\"fill:#1f77b4;stroke:#1f77b4;\" x=\"148.114375\" xlink:href=\"#mac7768e441\" y=\"89.866021\"/>\n",
       "     <use style=\"fill:#1f77b4;stroke:#1f77b4;\" x=\"133.342634\" xlink:href=\"#mac7768e441\" y=\"68.446907\"/>\n",
       "     <use style=\"fill:#1f77b4;stroke:#1f77b4;\" x=\"119.876401\" xlink:href=\"#mac7768e441\" y=\"85.377016\"/>\n",
       "     <use style=\"fill:#1f77b4;stroke:#1f77b4;\" x=\"128.975776\" xlink:href=\"#mac7768e441\" y=\"72.20264\"/>\n",
       "     <use style=\"fill:#1f77b4;stroke:#1f77b4;\" x=\"106.27096\" xlink:href=\"#mac7768e441\" y=\"63.479269\"/>\n",
       "     <use style=\"fill:#1f77b4;stroke:#1f77b4;\" x=\"147.973215\" xlink:href=\"#mac7768e441\" y=\"81.885458\"/>\n",
       "     <use style=\"fill:#1f77b4;stroke:#1f77b4;\" x=\"112.531541\" xlink:href=\"#mac7768e441\" y=\"69.398144\"/>\n",
       "     <use style=\"fill:#1f77b4;stroke:#1f77b4;\" x=\"139.814455\" xlink:href=\"#mac7768e441\" y=\"87.263629\"/>\n",
       "     <use style=\"fill:#1f77b4;stroke:#1f77b4;\" x=\"134.579934\" xlink:href=\"#mac7768e441\" y=\"57.285492\"/>\n",
       "     <use style=\"fill:#1f77b4;stroke:#1f77b4;\" x=\"143.858013\" xlink:href=\"#mac7768e441\" y=\"69.957689\"/>\n",
       "     <use style=\"fill:#1f77b4;stroke:#1f77b4;\" x=\"131.333917\" xlink:href=\"#mac7768e441\" y=\"77.242356\"/>\n",
       "     <use style=\"fill:#1f77b4;stroke:#1f77b4;\" x=\"100.95369\" xlink:href=\"#mac7768e441\" y=\"45.420625\"/>\n",
       "     <use style=\"fill:#1f77b4;stroke:#1f77b4;\" x=\"108.904173\" xlink:href=\"#mac7768e441\" y=\"58.517094\"/>\n",
       "     <use style=\"fill:#1f77b4;stroke:#1f77b4;\" x=\"102.259022\" xlink:href=\"#mac7768e441\" y=\"67.41445\"/>\n",
       "     <use style=\"fill:#1f77b4;stroke:#1f77b4;\" x=\"132.485575\" xlink:href=\"#mac7768e441\" y=\"81.561473\"/>\n",
       "     <use style=\"fill:#1f77b4;stroke:#1f77b4;\" x=\"157.986498\" xlink:href=\"#mac7768e441\" y=\"104.756028\"/>\n",
       "     <use style=\"fill:#1f77b4;stroke:#1f77b4;\" x=\"126.546904\" xlink:href=\"#mac7768e441\" y=\"77.05089\"/>\n",
       "     <use style=\"fill:#1f77b4;stroke:#1f77b4;\" x=\"67.816906\" xlink:href=\"#mac7768e441\" y=\"52.820809\"/>\n",
       "     <use style=\"fill:#1f77b4;stroke:#1f77b4;\" x=\"119.274168\" xlink:href=\"#mac7768e441\" y=\"60.847448\"/>\n",
       "     <use style=\"fill:#1f77b4;stroke:#1f77b4;\" x=\"102.946117\" xlink:href=\"#mac7768e441\" y=\"60.761236\"/>\n",
       "     <use style=\"fill:#1f77b4;stroke:#1f77b4;\" x=\"172.327212\" xlink:href=\"#mac7768e441\" y=\"91.134998\"/>\n",
       "     <use style=\"fill:#1f77b4;stroke:#1f77b4;\" x=\"113.792795\" xlink:href=\"#mac7768e441\" y=\"67.944147\"/>\n",
       "     <use style=\"fill:#1f77b4;stroke:#1f77b4;\" x=\"83.962443\" xlink:href=\"#mac7768e441\" y=\"43.296074\"/>\n",
       "     <use style=\"fill:#1f77b4;stroke:#1f77b4;\" x=\"173.496237\" xlink:href=\"#mac7768e441\" y=\"108.947619\"/>\n",
       "     <use style=\"fill:#1f77b4;stroke:#1f77b4;\" x=\"86.954682\" xlink:href=\"#mac7768e441\" y=\"53.609121\"/>\n",
       "     <use style=\"fill:#1f77b4;stroke:#1f77b4;\" x=\"147.189678\" xlink:href=\"#mac7768e441\" y=\"76.583557\"/>\n",
       "     <use style=\"fill:#1f77b4;stroke:#1f77b4;\" x=\"111.755264\" xlink:href=\"#mac7768e441\" y=\"54.624279\"/>\n",
       "     <use style=\"fill:#1f77b4;stroke:#1f77b4;\" x=\"129.493217\" xlink:href=\"#mac7768e441\" y=\"77.511367\"/>\n",
       "     <use style=\"fill:#1f77b4;stroke:#1f77b4;\" x=\"122.227023\" xlink:href=\"#mac7768e441\" y=\"63.626617\"/>\n",
       "     <use style=\"fill:#1f77b4;stroke:#1f77b4;\" x=\"76.806825\" xlink:href=\"#mac7768e441\" y=\"20.952154\"/>\n",
       "     <use style=\"fill:#1f77b4;stroke:#1f77b4;\" x=\"173.333529\" xlink:href=\"#mac7768e441\" y=\"90.229432\"/>\n",
       "     <use style=\"fill:#1f77b4;stroke:#1f77b4;\" x=\"81.547713\" xlink:href=\"#mac7768e441\" y=\"42.041244\"/>\n",
       "     <use style=\"fill:#1f77b4;stroke:#1f77b4;\" x=\"108.128301\" xlink:href=\"#mac7768e441\" y=\"74.45854\"/>\n",
       "     <use style=\"fill:#1f77b4;stroke:#1f77b4;\" x=\"116.439957\" xlink:href=\"#mac7768e441\" y=\"63.939197\"/>\n",
       "     <use style=\"fill:#1f77b4;stroke:#1f77b4;\" x=\"132.930511\" xlink:href=\"#mac7768e441\" y=\"96.302163\"/>\n",
       "     <use style=\"fill:#1f77b4;stroke:#1f77b4;\" x=\"133.479279\" xlink:href=\"#mac7768e441\" y=\"61.693619\"/>\n",
       "     <use style=\"fill:#1f77b4;stroke:#1f77b4;\" x=\"135.881186\" xlink:href=\"#mac7768e441\" y=\"89.347249\"/>\n",
       "     <use style=\"fill:#1f77b4;stroke:#1f77b4;\" x=\"120.642181\" xlink:href=\"#mac7768e441\" y=\"54.259734\"/>\n",
       "     <use style=\"fill:#1f77b4;stroke:#1f77b4;\" x=\"119.677599\" xlink:href=\"#mac7768e441\" y=\"49.282173\"/>\n",
       "     <use style=\"fill:#1f77b4;stroke:#1f77b4;\" x=\"139.509948\" xlink:href=\"#mac7768e441\" y=\"80.09469\"/>\n",
       "     <use style=\"fill:#1f77b4;stroke:#1f77b4;\" x=\"96.471949\" xlink:href=\"#mac7768e441\" y=\"45.437855\"/>\n",
       "     <use style=\"fill:#1f77b4;stroke:#1f77b4;\" x=\"98.213935\" xlink:href=\"#mac7768e441\" y=\"57.782451\"/>\n",
       "     <use style=\"fill:#1f77b4;stroke:#1f77b4;\" x=\"94.435418\" xlink:href=\"#mac7768e441\" y=\"30.590034\"/>\n",
       "     <use style=\"fill:#1f77b4;stroke:#1f77b4;\" x=\"91.357755\" xlink:href=\"#mac7768e441\" y=\"45.395818\"/>\n",
       "     <use style=\"fill:#1f77b4;stroke:#1f77b4;\" x=\"116.009926\" xlink:href=\"#mac7768e441\" y=\"72.626619\"/>\n",
       "     <use style=\"fill:#1f77b4;stroke:#1f77b4;\" x=\"101.165925\" xlink:href=\"#mac7768e441\" y=\"64.752395\"/>\n",
       "     <use style=\"fill:#1f77b4;stroke:#1f77b4;\" x=\"133.677012\" xlink:href=\"#mac7768e441\" y=\"82.036428\"/>\n",
       "     <use style=\"fill:#1f77b4;stroke:#1f77b4;\" x=\"145.231132\" xlink:href=\"#mac7768e441\" y=\"82.485776\"/>\n",
       "     <use style=\"fill:#1f77b4;stroke:#1f77b4;\" x=\"132.337296\" xlink:href=\"#mac7768e441\" y=\"63.346434\"/>\n",
       "     <use style=\"fill:#1f77b4;stroke:#1f77b4;\" x=\"100.687187\" xlink:href=\"#mac7768e441\" y=\"55.095068\"/>\n",
       "     <use style=\"fill:#1f77b4;stroke:#1f77b4;\" x=\"163.128769\" xlink:href=\"#mac7768e441\" y=\"89.458151\"/>\n",
       "     <use style=\"fill:#1f77b4;stroke:#1f77b4;\" x=\"90.597893\" xlink:href=\"#mac7768e441\" y=\"46.507608\"/>\n",
       "     <use style=\"fill:#1f77b4;stroke:#1f77b4;\" x=\"114.826123\" xlink:href=\"#mac7768e441\" y=\"64.728792\"/>\n",
       "     <use style=\"fill:#1f77b4;stroke:#1f77b4;\" x=\"103.483034\" xlink:href=\"#mac7768e441\" y=\"81.611437\"/>\n",
       "     <use style=\"fill:#1f77b4;stroke:#1f77b4;\" x=\"90.125902\" xlink:href=\"#mac7768e441\" y=\"44.749285\"/>\n",
       "     <use style=\"fill:#1f77b4;stroke:#1f77b4;\" x=\"134.738018\" xlink:href=\"#mac7768e441\" y=\"73.562566\"/>\n",
       "     <use style=\"fill:#1f77b4;stroke:#1f77b4;\" x=\"136.578412\" xlink:href=\"#mac7768e441\" y=\"88.816514\"/>\n",
       "     <use style=\"fill:#1f77b4;stroke:#1f77b4;\" x=\"100.681505\" xlink:href=\"#mac7768e441\" y=\"61.704566\"/>\n",
       "     <use style=\"fill:#1f77b4;stroke:#1f77b4;\" x=\"97.567122\" xlink:href=\"#mac7768e441\" y=\"48.781296\"/>\n",
       "     <use style=\"fill:#1f77b4;stroke:#1f77b4;\" x=\"114.305229\" xlink:href=\"#mac7768e441\" y=\"63.340786\"/>\n",
       "     <use style=\"fill:#1f77b4;stroke:#1f77b4;\" x=\"168.138502\" xlink:href=\"#mac7768e441\" y=\"112.545773\"/>\n",
       "     <use style=\"fill:#1f77b4;stroke:#1f77b4;\" x=\"170.597158\" xlink:href=\"#mac7768e441\" y=\"91.54004\"/>\n",
       "     <use style=\"fill:#1f77b4;stroke:#1f77b4;\" x=\"113.415\" xlink:href=\"#mac7768e441\" y=\"62.460201\"/>\n",
       "     <use style=\"fill:#1f77b4;stroke:#1f77b4;\" x=\"163.869573\" xlink:href=\"#mac7768e441\" y=\"91.037959\"/>\n",
       "     <use style=\"fill:#1f77b4;stroke:#1f77b4;\" x=\"137.978615\" xlink:href=\"#mac7768e441\" y=\"84.949504\"/>\n",
       "     <use style=\"fill:#1f77b4;stroke:#1f77b4;\" x=\"163.236053\" xlink:href=\"#mac7768e441\" y=\"113.393192\"/>\n",
       "     <use style=\"fill:#1f77b4;stroke:#1f77b4;\" x=\"95.397579\" xlink:href=\"#mac7768e441\" y=\"33.429025\"/>\n",
       "     <use style=\"fill:#1f77b4;stroke:#1f77b4;\" x=\"105.901366\" xlink:href=\"#mac7768e441\" y=\"72.86372\"/>\n",
       "     <use style=\"fill:#1f77b4;stroke:#1f77b4;\" x=\"130.010591\" xlink:href=\"#mac7768e441\" y=\"75.500383\"/>\n",
       "     <use style=\"fill:#1f77b4;stroke:#1f77b4;\" x=\"125.761751\" xlink:href=\"#mac7768e441\" y=\"69.880591\"/>\n",
       "     <use style=\"fill:#1f77b4;stroke:#1f77b4;\" x=\"155.424021\" xlink:href=\"#mac7768e441\" y=\"91.616325\"/>\n",
       "     <use style=\"fill:#1f77b4;stroke:#1f77b4;\" x=\"152.925164\" xlink:href=\"#mac7768e441\" y=\"80.689622\"/>\n",
       "     <use style=\"fill:#1f77b4;stroke:#1f77b4;\" x=\"100.744754\" xlink:href=\"#mac7768e441\" y=\"47.325108\"/>\n",
       "     <use style=\"fill:#1f77b4;stroke:#1f77b4;\" x=\"146.279753\" xlink:href=\"#mac7768e441\" y=\"80.282553\"/>\n",
       "     <use style=\"fill:#1f77b4;stroke:#1f77b4;\" x=\"100.556695\" xlink:href=\"#mac7768e441\" y=\"68.11099\"/>\n",
       "     <use style=\"fill:#1f77b4;stroke:#1f77b4;\" x=\"156.728972\" xlink:href=\"#mac7768e441\" y=\"85.395713\"/>\n",
       "     <use style=\"fill:#1f77b4;stroke:#1f77b4;\" x=\"140.095311\" xlink:href=\"#mac7768e441\" y=\"67.480885\"/>\n",
       "     <use style=\"fill:#1f77b4;stroke:#1f77b4;\" x=\"146.811222\" xlink:href=\"#mac7768e441\" y=\"81.520423\"/>\n",
       "     <use style=\"fill:#1f77b4;stroke:#1f77b4;\" x=\"107.8886\" xlink:href=\"#mac7768e441\" y=\"55.237444\"/>\n",
       "     <use style=\"fill:#1f77b4;stroke:#1f77b4;\" x=\"104.939214\" xlink:href=\"#mac7768e441\" y=\"37.72768\"/>\n",
       "     <use style=\"fill:#1f77b4;stroke:#1f77b4;\" x=\"211.151439\" xlink:href=\"#mac7768e441\" y=\"136.922727\"/>\n",
       "     <use style=\"fill:#1f77b4;stroke:#1f77b4;\" x=\"115.328642\" xlink:href=\"#mac7768e441\" y=\"71.512676\"/>\n",
       "     <use style=\"fill:#1f77b4;stroke:#1f77b4;\" x=\"119.712758\" xlink:href=\"#mac7768e441\" y=\"69.093561\"/>\n",
       "     <use style=\"fill:#1f77b4;stroke:#1f77b4;\" x=\"107.570108\" xlink:href=\"#mac7768e441\" y=\"58.542963\"/>\n",
       "     <use style=\"fill:#1f77b4;stroke:#1f77b4;\" x=\"132.958033\" xlink:href=\"#mac7768e441\" y=\"67.525022\"/>\n",
       "     <use style=\"fill:#1f77b4;stroke:#1f77b4;\" x=\"151.128652\" xlink:href=\"#mac7768e441\" y=\"103.359912\"/>\n",
       "     <use style=\"fill:#1f77b4;stroke:#1f77b4;\" x=\"151.45581\" xlink:href=\"#mac7768e441\" y=\"101.623055\"/>\n",
       "     <use style=\"fill:#1f77b4;stroke:#1f77b4;\" x=\"102.580739\" xlink:href=\"#mac7768e441\" y=\"64.813056\"/>\n",
       "     <use style=\"fill:#1f77b4;stroke:#1f77b4;\" x=\"104.941887\" xlink:href=\"#mac7768e441\" y=\"43.338807\"/>\n",
       "     <use style=\"fill:#1f77b4;stroke:#1f77b4;\" x=\"100.479949\" xlink:href=\"#mac7768e441\" y=\"57.488199\"/>\n",
       "     <use style=\"fill:#1f77b4;stroke:#1f77b4;\" x=\"114.959679\" xlink:href=\"#mac7768e441\" y=\"68.082746\"/>\n",
       "     <use style=\"fill:#1f77b4;stroke:#1f77b4;\" x=\"131.636118\" xlink:href=\"#mac7768e441\" y=\"91.646967\"/>\n",
       "     <use style=\"fill:#1f77b4;stroke:#1f77b4;\" x=\"129.060437\" xlink:href=\"#mac7768e441\" y=\"60.247381\"/>\n",
       "     <use style=\"fill:#1f77b4;stroke:#1f77b4;\" x=\"125.345488\" xlink:href=\"#mac7768e441\" y=\"47.480919\"/>\n",
       "     <use style=\"fill:#1f77b4;stroke:#1f77b4;\" x=\"94.697565\" xlink:href=\"#mac7768e441\" y=\"57.793204\"/>\n",
       "     <use style=\"fill:#1f77b4;stroke:#1f77b4;\" x=\"168.055324\" xlink:href=\"#mac7768e441\" y=\"97.531016\"/>\n",
       "     <use style=\"fill:#1f77b4;stroke:#1f77b4;\" x=\"147.977983\" xlink:href=\"#mac7768e441\" y=\"96.89526\"/>\n",
       "     <use style=\"fill:#1f77b4;stroke:#1f77b4;\" x=\"119.921225\" xlink:href=\"#mac7768e441\" y=\"78.54399\"/>\n",
       "     <use style=\"fill:#1f77b4;stroke:#1f77b4;\" x=\"118.386407\" xlink:href=\"#mac7768e441\" y=\"54.356083\"/>\n",
       "     <use style=\"fill:#1f77b4;stroke:#1f77b4;\" x=\"133.544489\" xlink:href=\"#mac7768e441\" y=\"71.9667\"/>\n",
       "     <use style=\"fill:#1f77b4;stroke:#1f77b4;\" x=\"142.60128\" xlink:href=\"#mac7768e441\" y=\"72.175385\"/>\n",
       "     <use style=\"fill:#1f77b4;stroke:#1f77b4;\" x=\"141.973535\" xlink:href=\"#mac7768e441\" y=\"70.275108\"/>\n",
       "     <use style=\"fill:#1f77b4;stroke:#1f77b4;\" x=\"106.138329\" xlink:href=\"#mac7768e441\" y=\"56.551062\"/>\n",
       "     <use style=\"fill:#1f77b4;stroke:#1f77b4;\" x=\"149.410069\" xlink:href=\"#mac7768e441\" y=\"88.07886\"/>\n",
       "     <use style=\"fill:#1f77b4;stroke:#1f77b4;\" x=\"156.554731\" xlink:href=\"#mac7768e441\" y=\"78.024342\"/>\n",
       "     <use style=\"fill:#1f77b4;stroke:#1f77b4;\" x=\"115.523026\" xlink:href=\"#mac7768e441\" y=\"50.720384\"/>\n",
       "     <use style=\"fill:#1f77b4;stroke:#1f77b4;\" x=\"147.206501\" xlink:href=\"#mac7768e441\" y=\"78.588226\"/>\n",
       "     <use style=\"fill:#1f77b4;stroke:#1f77b4;\" x=\"122.896118\" xlink:href=\"#mac7768e441\" y=\"75.761052\"/>\n",
       "     <use style=\"fill:#1f77b4;stroke:#1f77b4;\" x=\"158.040914\" xlink:href=\"#mac7768e441\" y=\"101.583287\"/>\n",
       "     <use style=\"fill:#1f77b4;stroke:#1f77b4;\" x=\"93.966033\" xlink:href=\"#mac7768e441\" y=\"28.66928\"/>\n",
       "     <use style=\"fill:#1f77b4;stroke:#1f77b4;\" x=\"127.810006\" xlink:href=\"#mac7768e441\" y=\"64.765359\"/>\n",
       "     <use style=\"fill:#1f77b4;stroke:#1f77b4;\" x=\"144.976096\" xlink:href=\"#mac7768e441\" y=\"81.058737\"/>\n",
       "     <use style=\"fill:#1f77b4;stroke:#1f77b4;\" x=\"106.727781\" xlink:href=\"#mac7768e441\" y=\"71.31052\"/>\n",
       "     <use style=\"fill:#1f77b4;stroke:#1f77b4;\" x=\"95.244187\" xlink:href=\"#mac7768e441\" y=\"52.374055\"/>\n",
       "     <use style=\"fill:#1f77b4;stroke:#1f77b4;\" x=\"131.704415\" xlink:href=\"#mac7768e441\" y=\"75.673267\"/>\n",
       "     <use style=\"fill:#1f77b4;stroke:#1f77b4;\" x=\"159.356806\" xlink:href=\"#mac7768e441\" y=\"92.553396\"/>\n",
       "     <use style=\"fill:#1f77b4;stroke:#1f77b4;\" x=\"91.6829\" xlink:href=\"#mac7768e441\" y=\"40.404762\"/>\n",
       "     <use style=\"fill:#1f77b4;stroke:#1f77b4;\" x=\"112.891516\" xlink:href=\"#mac7768e441\" y=\"75.049255\"/>\n",
       "     <use style=\"fill:#1f77b4;stroke:#1f77b4;\" x=\"118.650054\" xlink:href=\"#mac7768e441\" y=\"60.414132\"/>\n",
       "     <use style=\"fill:#1f77b4;stroke:#1f77b4;\" x=\"156.783792\" xlink:href=\"#mac7768e441\" y=\"101.281658\"/>\n",
       "     <use style=\"fill:#1f77b4;stroke:#1f77b4;\" x=\"137.700306\" xlink:href=\"#mac7768e441\" y=\"97.585872\"/>\n",
       "     <use style=\"fill:#1f77b4;stroke:#1f77b4;\" x=\"96.373616\" xlink:href=\"#mac7768e441\" y=\"44.50307\"/>\n",
       "     <use style=\"fill:#1f77b4;stroke:#1f77b4;\" x=\"119.384617\" xlink:href=\"#mac7768e441\" y=\"69.757417\"/>\n",
       "     <use style=\"fill:#1f77b4;stroke:#1f77b4;\" x=\"155.606004\" xlink:href=\"#mac7768e441\" y=\"99.376751\"/>\n",
       "     <use style=\"fill:#1f77b4;stroke:#1f77b4;\" x=\"77.94631\" xlink:href=\"#mac7768e441\" y=\"29.837103\"/>\n",
       "     <use style=\"fill:#1f77b4;stroke:#1f77b4;\" x=\"121.43702\" xlink:href=\"#mac7768e441\" y=\"61.830414\"/>\n",
       "     <use style=\"fill:#1f77b4;stroke:#1f77b4;\" x=\"90.851445\" xlink:href=\"#mac7768e441\" y=\"56.273226\"/>\n",
       "     <use style=\"fill:#1f77b4;stroke:#1f77b4;\" x=\"121.406566\" xlink:href=\"#mac7768e441\" y=\"60.141843\"/>\n",
       "     <use style=\"fill:#1f77b4;stroke:#1f77b4;\" x=\"81.443512\" xlink:href=\"#mac7768e441\" y=\"30.303905\"/>\n",
       "     <use style=\"fill:#1f77b4;stroke:#1f77b4;\" x=\"119.004861\" xlink:href=\"#mac7768e441\" y=\"60.671171\"/>\n",
       "     <use style=\"fill:#1f77b4;stroke:#1f77b4;\" x=\"115.722686\" xlink:href=\"#mac7768e441\" y=\"57.018296\"/>\n",
       "     <use style=\"fill:#1f77b4;stroke:#1f77b4;\" x=\"141.396228\" xlink:href=\"#mac7768e441\" y=\"69.552728\"/>\n",
       "     <use style=\"fill:#1f77b4;stroke:#1f77b4;\" x=\"121.386468\" xlink:href=\"#mac7768e441\" y=\"86.227148\"/>\n",
       "     <use style=\"fill:#1f77b4;stroke:#1f77b4;\" x=\"123.860111\" xlink:href=\"#mac7768e441\" y=\"73.561087\"/>\n",
       "     <use style=\"fill:#1f77b4;stroke:#1f77b4;\" x=\"126.183886\" xlink:href=\"#mac7768e441\" y=\"84.2982\"/>\n",
       "     <use style=\"fill:#1f77b4;stroke:#1f77b4;\" x=\"117.171921\" xlink:href=\"#mac7768e441\" y=\"66.451293\"/>\n",
       "     <use style=\"fill:#1f77b4;stroke:#1f77b4;\" x=\"126.520737\" xlink:href=\"#mac7768e441\" y=\"74.298242\"/>\n",
       "     <use style=\"fill:#1f77b4;stroke:#1f77b4;\" x=\"141.458984\" xlink:href=\"#mac7768e441\" y=\"82.105342\"/>\n",
       "     <use style=\"fill:#1f77b4;stroke:#1f77b4;\" x=\"122.902959\" xlink:href=\"#mac7768e441\" y=\"66.288019\"/>\n",
       "     <use style=\"fill:#1f77b4;stroke:#1f77b4;\" x=\"97.678994\" xlink:href=\"#mac7768e441\" y=\"62.140447\"/>\n",
       "     <use style=\"fill:#1f77b4;stroke:#1f77b4;\" x=\"109.731555\" xlink:href=\"#mac7768e441\" y=\"37.071382\"/>\n",
       "     <use style=\"fill:#1f77b4;stroke:#1f77b4;\" x=\"165.930602\" xlink:href=\"#mac7768e441\" y=\"90.120903\"/>\n",
       "     <use style=\"fill:#1f77b4;stroke:#1f77b4;\" x=\"138.353657\" xlink:href=\"#mac7768e441\" y=\"71.601052\"/>\n",
       "     <use style=\"fill:#1f77b4;stroke:#1f77b4;\" x=\"138.584901\" xlink:href=\"#mac7768e441\" y=\"92.991356\"/>\n",
       "     <use style=\"fill:#1f77b4;stroke:#1f77b4;\" x=\"88.916219\" xlink:href=\"#mac7768e441\" y=\"39.534206\"/>\n",
       "     <use style=\"fill:#1f77b4;stroke:#1f77b4;\" x=\"161.149298\" xlink:href=\"#mac7768e441\" y=\"112.689056\"/>\n",
       "     <use style=\"fill:#1f77b4;stroke:#1f77b4;\" x=\"117.26285\" xlink:href=\"#mac7768e441\" y=\"72.839612\"/>\n",
       "     <use style=\"fill:#1f77b4;stroke:#1f77b4;\" x=\"112.988783\" xlink:href=\"#mac7768e441\" y=\"75.325638\"/>\n",
       "     <use style=\"fill:#1f77b4;stroke:#1f77b4;\" x=\"130.274685\" xlink:href=\"#mac7768e441\" y=\"80.520523\"/>\n",
       "     <use style=\"fill:#1f77b4;stroke:#1f77b4;\" x=\"104.293682\" xlink:href=\"#mac7768e441\" y=\"54.503739\"/>\n",
       "     <use style=\"fill:#1f77b4;stroke:#1f77b4;\" x=\"69.733334\" xlink:href=\"#mac7768e441\" y=\"29.292471\"/>\n",
       "     <use style=\"fill:#1f77b4;stroke:#1f77b4;\" x=\"160.32248\" xlink:href=\"#mac7768e441\" y=\"103.562604\"/>\n",
       "     <use style=\"fill:#1f77b4;stroke:#1f77b4;\" x=\"114.385756\" xlink:href=\"#mac7768e441\" y=\"79.753319\"/>\n",
       "     <use style=\"fill:#1f77b4;stroke:#1f77b4;\" x=\"126.652164\" xlink:href=\"#mac7768e441\" y=\"71.816512\"/>\n",
       "     <use style=\"fill:#1f77b4;stroke:#1f77b4;\" x=\"108.214813\" xlink:href=\"#mac7768e441\" y=\"61.012185\"/>\n",
       "     <use style=\"fill:#1f77b4;stroke:#1f77b4;\" x=\"142.478944\" xlink:href=\"#mac7768e441\" y=\"92.942775\"/>\n",
       "     <use style=\"fill:#1f77b4;stroke:#1f77b4;\" x=\"91.319175\" xlink:href=\"#mac7768e441\" y=\"33.754693\"/>\n",
       "     <use style=\"fill:#1f77b4;stroke:#1f77b4;\" x=\"117.314551\" xlink:href=\"#mac7768e441\" y=\"65.790157\"/>\n",
       "     <use style=\"fill:#1f77b4;stroke:#1f77b4;\" x=\"108.554043\" xlink:href=\"#mac7768e441\" y=\"53.305774\"/>\n",
       "     <use style=\"fill:#1f77b4;stroke:#1f77b4;\" x=\"93.193327\" xlink:href=\"#mac7768e441\" y=\"42.930985\"/>\n",
       "     <use style=\"fill:#1f77b4;stroke:#1f77b4;\" x=\"90.765715\" xlink:href=\"#mac7768e441\" y=\"33.568723\"/>\n",
       "     <use style=\"fill:#1f77b4;stroke:#1f77b4;\" x=\"129.345579\" xlink:href=\"#mac7768e441\" y=\"73.335091\"/>\n",
       "     <use style=\"fill:#1f77b4;stroke:#1f77b4;\" x=\"121.651655\" xlink:href=\"#mac7768e441\" y=\"76.991513\"/>\n",
       "     <use style=\"fill:#1f77b4;stroke:#1f77b4;\" x=\"114.497879\" xlink:href=\"#mac7768e441\" y=\"58.585822\"/>\n",
       "     <use style=\"fill:#1f77b4;stroke:#1f77b4;\" x=\"115.961891\" xlink:href=\"#mac7768e441\" y=\"76.052516\"/>\n",
       "     <use style=\"fill:#1f77b4;stroke:#1f77b4;\" x=\"136.035039\" xlink:href=\"#mac7768e441\" y=\"81.068708\"/>\n",
       "     <use style=\"fill:#1f77b4;stroke:#1f77b4;\" x=\"88.971549\" xlink:href=\"#mac7768e441\" y=\"54.51911\"/>\n",
       "     <use style=\"fill:#1f77b4;stroke:#1f77b4;\" x=\"92.218976\" xlink:href=\"#mac7768e441\" y=\"44.193531\"/>\n",
       "     <use style=\"fill:#1f77b4;stroke:#1f77b4;\" x=\"118.489316\" xlink:href=\"#mac7768e441\" y=\"50.599394\"/>\n",
       "     <use style=\"fill:#1f77b4;stroke:#1f77b4;\" x=\"107.834194\" xlink:href=\"#mac7768e441\" y=\"71.91325\"/>\n",
       "     <use style=\"fill:#1f77b4;stroke:#1f77b4;\" x=\"89.543217\" xlink:href=\"#mac7768e441\" y=\"36.493536\"/>\n",
       "     <use style=\"fill:#1f77b4;stroke:#1f77b4;\" x=\"103.342792\" xlink:href=\"#mac7768e441\" y=\"56.430035\"/>\n",
       "     <use style=\"fill:#1f77b4;stroke:#1f77b4;\" x=\"123.756856\" xlink:href=\"#mac7768e441\" y=\"85.620017\"/>\n",
       "     <use style=\"fill:#1f77b4;stroke:#1f77b4;\" x=\"105.856556\" xlink:href=\"#mac7768e441\" y=\"58.780306\"/>\n",
       "     <use style=\"fill:#1f77b4;stroke:#1f77b4;\" x=\"174.205231\" xlink:href=\"#mac7768e441\" y=\"108.330591\"/>\n",
       "     <use style=\"fill:#1f77b4;stroke:#1f77b4;\" x=\"131.191707\" xlink:href=\"#mac7768e441\" y=\"69.04319\"/>\n",
       "     <use style=\"fill:#1f77b4;stroke:#1f77b4;\" x=\"103.265381\" xlink:href=\"#mac7768e441\" y=\"56.238232\"/>\n",
       "     <use style=\"fill:#1f77b4;stroke:#1f77b4;\" x=\"91.018934\" xlink:href=\"#mac7768e441\" y=\"43.443191\"/>\n",
       "     <use style=\"fill:#1f77b4;stroke:#1f77b4;\" x=\"106.056888\" xlink:href=\"#mac7768e441\" y=\"55.373276\"/>\n",
       "     <use style=\"fill:#1f77b4;stroke:#1f77b4;\" x=\"130.746499\" xlink:href=\"#mac7768e441\" y=\"85.939582\"/>\n",
       "     <use style=\"fill:#1f77b4;stroke:#1f77b4;\" x=\"120.96699\" xlink:href=\"#mac7768e441\" y=\"76.321618\"/>\n",
       "     <use style=\"fill:#1f77b4;stroke:#1f77b4;\" x=\"97.973636\" xlink:href=\"#mac7768e441\" y=\"73.292615\"/>\n",
       "     <use style=\"fill:#1f77b4;stroke:#1f77b4;\" x=\"155.913309\" xlink:href=\"#mac7768e441\" y=\"94.776845\"/>\n",
       "     <use style=\"fill:#1f77b4;stroke:#1f77b4;\" x=\"152.351586\" xlink:href=\"#mac7768e441\" y=\"75.407625\"/>\n",
       "     <use style=\"fill:#1f77b4;stroke:#1f77b4;\" x=\"136.376041\" xlink:href=\"#mac7768e441\" y=\"99.811509\"/>\n",
       "     <use style=\"fill:#1f77b4;stroke:#1f77b4;\" x=\"116.713075\" xlink:href=\"#mac7768e441\" y=\"72.939013\"/>\n",
       "     <use style=\"fill:#1f77b4;stroke:#1f77b4;\" x=\"112.263712\" xlink:href=\"#mac7768e441\" y=\"80.047977\"/>\n",
       "     <use style=\"fill:#1f77b4;stroke:#1f77b4;\" x=\"165.109958\" xlink:href=\"#mac7768e441\" y=\"98.445079\"/>\n",
       "     <use style=\"fill:#1f77b4;stroke:#1f77b4;\" x=\"111.396401\" xlink:href=\"#mac7768e441\" y=\"60.067665\"/>\n",
       "     <use style=\"fill:#1f77b4;stroke:#1f77b4;\" x=\"115.939505\" xlink:href=\"#mac7768e441\" y=\"56.280079\"/>\n",
       "     <use style=\"fill:#1f77b4;stroke:#1f77b4;\" x=\"138.567431\" xlink:href=\"#mac7768e441\" y=\"77.125547\"/>\n",
       "     <use style=\"fill:#1f77b4;stroke:#1f77b4;\" x=\"159.3853\" xlink:href=\"#mac7768e441\" y=\"110.507622\"/>\n",
       "     <use style=\"fill:#1f77b4;stroke:#1f77b4;\" x=\"163.340069\" xlink:href=\"#mac7768e441\" y=\"110.446587\"/>\n",
       "     <use style=\"fill:#1f77b4;stroke:#1f77b4;\" x=\"118.816664\" xlink:href=\"#mac7768e441\" y=\"80.23862\"/>\n",
       "     <use style=\"fill:#1f77b4;stroke:#1f77b4;\" x=\"142.338742\" xlink:href=\"#mac7768e441\" y=\"92.465905\"/>\n",
       "     <use style=\"fill:#1f77b4;stroke:#1f77b4;\" x=\"102.568692\" xlink:href=\"#mac7768e441\" y=\"58.560948\"/>\n",
       "     <use style=\"fill:#1f77b4;stroke:#1f77b4;\" x=\"134.799445\" xlink:href=\"#mac7768e441\" y=\"70.527101\"/>\n",
       "     <use style=\"fill:#1f77b4;stroke:#1f77b4;\" x=\"96.957928\" xlink:href=\"#mac7768e441\" y=\"64.939916\"/>\n",
       "     <use style=\"fill:#1f77b4;stroke:#1f77b4;\" x=\"74.349808\" xlink:href=\"#mac7768e441\" y=\"43.51481\"/>\n",
       "     <use style=\"fill:#1f77b4;stroke:#1f77b4;\" x=\"117.146002\" xlink:href=\"#mac7768e441\" y=\"66.538463\"/>\n",
       "     <use style=\"fill:#1f77b4;stroke:#1f77b4;\" x=\"124.115301\" xlink:href=\"#mac7768e441\" y=\"67.658235\"/>\n",
       "     <use style=\"fill:#1f77b4;stroke:#1f77b4;\" x=\"120.978103\" xlink:href=\"#mac7768e441\" y=\"56.789953\"/>\n",
       "     <use style=\"fill:#1f77b4;stroke:#1f77b4;\" x=\"113.797446\" xlink:href=\"#mac7768e441\" y=\"48.691392\"/>\n",
       "     <use style=\"fill:#1f77b4;stroke:#1f77b4;\" x=\"98.084964\" xlink:href=\"#mac7768e441\" y=\"55.496208\"/>\n",
       "     <use style=\"fill:#1f77b4;stroke:#1f77b4;\" x=\"136.464563\" xlink:href=\"#mac7768e441\" y=\"73.005696\"/>\n",
       "     <use style=\"fill:#1f77b4;stroke:#1f77b4;\" x=\"143.757699\" xlink:href=\"#mac7768e441\" y=\"88.790716\"/>\n",
       "     <use style=\"fill:#1f77b4;stroke:#1f77b4;\" x=\"142.522917\" xlink:href=\"#mac7768e441\" y=\"96.370554\"/>\n",
       "     <use style=\"fill:#1f77b4;stroke:#1f77b4;\" x=\"142.783764\" xlink:href=\"#mac7768e441\" y=\"88.424488\"/>\n",
       "     <use style=\"fill:#1f77b4;stroke:#1f77b4;\" x=\"102.222167\" xlink:href=\"#mac7768e441\" y=\"67.721086\"/>\n",
       "     <use style=\"fill:#1f77b4;stroke:#1f77b4;\" x=\"113.519022\" xlink:href=\"#mac7768e441\" y=\"71.875331\"/>\n",
       "     <use style=\"fill:#1f77b4;stroke:#1f77b4;\" x=\"120.624493\" xlink:href=\"#mac7768e441\" y=\"65.86376\"/>\n",
       "     <use style=\"fill:#1f77b4;stroke:#1f77b4;\" x=\"117.393971\" xlink:href=\"#mac7768e441\" y=\"68.93812\"/>\n",
       "     <use style=\"fill:#1f77b4;stroke:#1f77b4;\" x=\"156.42017\" xlink:href=\"#mac7768e441\" y=\"93.853639\"/>\n",
       "     <use style=\"fill:#1f77b4;stroke:#1f77b4;\" x=\"87.232111\" xlink:href=\"#mac7768e441\" y=\"35.672974\"/>\n",
       "     <use style=\"fill:#1f77b4;stroke:#1f77b4;\" x=\"155.827019\" xlink:href=\"#mac7768e441\" y=\"81.368616\"/>\n",
       "     <use style=\"fill:#1f77b4;stroke:#1f77b4;\" x=\"129.924799\" xlink:href=\"#mac7768e441\" y=\"74.622946\"/>\n",
       "     <use style=\"fill:#1f77b4;stroke:#1f77b4;\" x=\"78.088207\" xlink:href=\"#mac7768e441\" y=\"39.82343\"/>\n",
       "     <use style=\"fill:#1f77b4;stroke:#1f77b4;\" x=\"99.186487\" xlink:href=\"#mac7768e441\" y=\"48.372936\"/>\n",
       "     <use style=\"fill:#1f77b4;stroke:#1f77b4;\" x=\"121.778049\" xlink:href=\"#mac7768e441\" y=\"73.291225\"/>\n",
       "     <use style=\"fill:#1f77b4;stroke:#1f77b4;\" x=\"148.009413\" xlink:href=\"#mac7768e441\" y=\"84.881108\"/>\n",
       "     <use style=\"fill:#1f77b4;stroke:#1f77b4;\" x=\"128.75477\" xlink:href=\"#mac7768e441\" y=\"79.98567\"/>\n",
       "     <use style=\"fill:#1f77b4;stroke:#1f77b4;\" x=\"135.752853\" xlink:href=\"#mac7768e441\" y=\"81.519048\"/>\n",
       "     <use style=\"fill:#1f77b4;stroke:#1f77b4;\" x=\"110.660214\" xlink:href=\"#mac7768e441\" y=\"70.202282\"/>\n",
       "     <use style=\"fill:#1f77b4;stroke:#1f77b4;\" x=\"109.664207\" xlink:href=\"#mac7768e441\" y=\"49.779648\"/>\n",
       "     <use style=\"fill:#1f77b4;stroke:#1f77b4;\" x=\"108.540072\" xlink:href=\"#mac7768e441\" y=\"52.908443\"/>\n",
       "     <use style=\"fill:#1f77b4;stroke:#1f77b4;\" x=\"119.209732\" xlink:href=\"#mac7768e441\" y=\"71.131163\"/>\n",
       "     <use style=\"fill:#1f77b4;stroke:#1f77b4;\" x=\"124.696556\" xlink:href=\"#mac7768e441\" y=\"76.036883\"/>\n",
       "     <use style=\"fill:#1f77b4;stroke:#1f77b4;\" x=\"144.702854\" xlink:href=\"#mac7768e441\" y=\"79.004698\"/>\n",
       "     <use style=\"fill:#1f77b4;stroke:#1f77b4;\" x=\"123.778913\" xlink:href=\"#mac7768e441\" y=\"79.330497\"/>\n",
       "     <use style=\"fill:#1f77b4;stroke:#1f77b4;\" x=\"104.310218\" xlink:href=\"#mac7768e441\" y=\"60.888387\"/>\n",
       "     <use style=\"fill:#1f77b4;stroke:#1f77b4;\" x=\"173.430772\" xlink:href=\"#mac7768e441\" y=\"118.673889\"/>\n",
       "     <use style=\"fill:#1f77b4;stroke:#1f77b4;\" x=\"123.315734\" xlink:href=\"#mac7768e441\" y=\"84.591722\"/>\n",
       "     <use style=\"fill:#1f77b4;stroke:#1f77b4;\" x=\"105.826681\" xlink:href=\"#mac7768e441\" y=\"53.618584\"/>\n",
       "     <use style=\"fill:#1f77b4;stroke:#1f77b4;\" x=\"111.40175\" xlink:href=\"#mac7768e441\" y=\"59.138489\"/>\n",
       "     <use style=\"fill:#1f77b4;stroke:#1f77b4;\" x=\"112.398244\" xlink:href=\"#mac7768e441\" y=\"72.715456\"/>\n",
       "     <use style=\"fill:#1f77b4;stroke:#1f77b4;\" x=\"133.194196\" xlink:href=\"#mac7768e441\" y=\"82.356584\"/>\n",
       "     <use style=\"fill:#1f77b4;stroke:#1f77b4;\" x=\"115.918925\" xlink:href=\"#mac7768e441\" y=\"46.312168\"/>\n",
       "     <use style=\"fill:#1f77b4;stroke:#1f77b4;\" x=\"138.120334\" xlink:href=\"#mac7768e441\" y=\"98.574933\"/>\n",
       "     <use style=\"fill:#1f77b4;stroke:#1f77b4;\" x=\"142.731335\" xlink:href=\"#mac7768e441\" y=\"89.981043\"/>\n",
       "     <use style=\"fill:#1f77b4;stroke:#1f77b4;\" x=\"94.893469\" xlink:href=\"#mac7768e441\" y=\"46.377448\"/>\n",
       "     <use style=\"fill:#1f77b4;stroke:#1f77b4;\" x=\"132.725563\" xlink:href=\"#mac7768e441\" y=\"84.138663\"/>\n",
       "     <use style=\"fill:#1f77b4;stroke:#1f77b4;\" x=\"87.527447\" xlink:href=\"#mac7768e441\" y=\"53.056365\"/>\n",
       "     <use style=\"fill:#1f77b4;stroke:#1f77b4;\" x=\"111.287489\" xlink:href=\"#mac7768e441\" y=\"79.787396\"/>\n",
       "     <use style=\"fill:#1f77b4;stroke:#1f77b4;\" x=\"88.561289\" xlink:href=\"#mac7768e441\" y=\"53.635365\"/>\n",
       "     <use style=\"fill:#1f77b4;stroke:#1f77b4;\" x=\"142.967575\" xlink:href=\"#mac7768e441\" y=\"81.122898\"/>\n",
       "     <use style=\"fill:#1f77b4;stroke:#1f77b4;\" x=\"109.075357\" xlink:href=\"#mac7768e441\" y=\"71.902257\"/>\n",
       "     <use style=\"fill:#1f77b4;stroke:#1f77b4;\" x=\"131.392544\" xlink:href=\"#mac7768e441\" y=\"52.389653\"/>\n",
       "     <use style=\"fill:#1f77b4;stroke:#1f77b4;\" x=\"129.89668\" xlink:href=\"#mac7768e441\" y=\"64.175489\"/>\n",
       "     <use style=\"fill:#1f77b4;stroke:#1f77b4;\" x=\"102.540156\" xlink:href=\"#mac7768e441\" y=\"44.889274\"/>\n",
       "     <use style=\"fill:#1f77b4;stroke:#1f77b4;\" x=\"131.508966\" xlink:href=\"#mac7768e441\" y=\"55.145234\"/>\n",
       "     <use style=\"fill:#1f77b4;stroke:#1f77b4;\" x=\"118.921765\" xlink:href=\"#mac7768e441\" y=\"78.868203\"/>\n",
       "     <use style=\"fill:#1f77b4;stroke:#1f77b4;\" x=\"122.472905\" xlink:href=\"#mac7768e441\" y=\"68.461537\"/>\n",
       "     <use style=\"fill:#1f77b4;stroke:#1f77b4;\" x=\"146.19684\" xlink:href=\"#mac7768e441\" y=\"102.643528\"/>\n",
       "     <use style=\"fill:#1f77b4;stroke:#1f77b4;\" x=\"113.132807\" xlink:href=\"#mac7768e441\" y=\"61.525371\"/>\n",
       "     <use style=\"fill:#1f77b4;stroke:#1f77b4;\" x=\"151.575137\" xlink:href=\"#mac7768e441\" y=\"93.166146\"/>\n",
       "     <use style=\"fill:#1f77b4;stroke:#1f77b4;\" x=\"122.992258\" xlink:href=\"#mac7768e441\" y=\"68.249133\"/>\n",
       "     <use style=\"fill:#1f77b4;stroke:#1f77b4;\" x=\"141.192108\" xlink:href=\"#mac7768e441\" y=\"80.273629\"/>\n",
       "     <use style=\"fill:#1f77b4;stroke:#1f77b4;\" x=\"120.914755\" xlink:href=\"#mac7768e441\" y=\"86.662866\"/>\n",
       "     <use style=\"fill:#1f77b4;stroke:#1f77b4;\" x=\"60.98498\" xlink:href=\"#mac7768e441\" y=\"19.773657\"/>\n",
       "     <use style=\"fill:#1f77b4;stroke:#1f77b4;\" x=\"142.316865\" xlink:href=\"#mac7768e441\" y=\"96.821767\"/>\n",
       "     <use style=\"fill:#1f77b4;stroke:#1f77b4;\" x=\"160.096075\" xlink:href=\"#mac7768e441\" y=\"109.482301\"/>\n",
       "     <use style=\"fill:#1f77b4;stroke:#1f77b4;\" x=\"123.223054\" xlink:href=\"#mac7768e441\" y=\"88.743989\"/>\n",
       "     <use style=\"fill:#1f77b4;stroke:#1f77b4;\" x=\"119.451485\" xlink:href=\"#mac7768e441\" y=\"66.499072\"/>\n",
       "     <use style=\"fill:#1f77b4;stroke:#1f77b4;\" x=\"127.600576\" xlink:href=\"#mac7768e441\" y=\"60.514876\"/>\n",
       "     <use style=\"fill:#1f77b4;stroke:#1f77b4;\" x=\"113.617584\" xlink:href=\"#mac7768e441\" y=\"50.769009\"/>\n",
       "     <use style=\"fill:#1f77b4;stroke:#1f77b4;\" x=\"58.302427\" xlink:href=\"#mac7768e441\" y=\"46.720953\"/>\n",
       "     <use style=\"fill:#1f77b4;stroke:#1f77b4;\" x=\"113.93191\" xlink:href=\"#mac7768e441\" y=\"55.408686\"/>\n",
       "     <use style=\"fill:#1f77b4;stroke:#1f77b4;\" x=\"114.883821\" xlink:href=\"#mac7768e441\" y=\"56.956637\"/>\n",
       "     <use style=\"fill:#1f77b4;stroke:#1f77b4;\" x=\"104.445543\" xlink:href=\"#mac7768e441\" y=\"62.697092\"/>\n",
       "     <use style=\"fill:#1f77b4;stroke:#1f77b4;\" x=\"104.121616\" xlink:href=\"#mac7768e441\" y=\"77.28269\"/>\n",
       "     <use style=\"fill:#1f77b4;stroke:#1f77b4;\" x=\"137.392835\" xlink:href=\"#mac7768e441\" y=\"72.302443\"/>\n",
       "     <use style=\"fill:#1f77b4;stroke:#1f77b4;\" x=\"109.143263\" xlink:href=\"#mac7768e441\" y=\"68.680308\"/>\n",
       "     <use style=\"fill:#1f77b4;stroke:#1f77b4;\" x=\"95.637733\" xlink:href=\"#mac7768e441\" y=\"42.057876\"/>\n",
       "     <use style=\"fill:#1f77b4;stroke:#1f77b4;\" x=\"133.798386\" xlink:href=\"#mac7768e441\" y=\"74.461779\"/>\n",
       "     <use style=\"fill:#1f77b4;stroke:#1f77b4;\" x=\"133.768619\" xlink:href=\"#mac7768e441\" y=\"45.298073\"/>\n",
       "     <use style=\"fill:#1f77b4;stroke:#1f77b4;\" x=\"162.250671\" xlink:href=\"#mac7768e441\" y=\"106.597149\"/>\n",
       "     <use style=\"fill:#1f77b4;stroke:#1f77b4;\" x=\"130.311331\" xlink:href=\"#mac7768e441\" y=\"80.859448\"/>\n",
       "     <use style=\"fill:#1f77b4;stroke:#1f77b4;\" x=\"119.379844\" xlink:href=\"#mac7768e441\" y=\"55.024002\"/>\n",
       "     <use style=\"fill:#1f77b4;stroke:#1f77b4;\" x=\"113.665827\" xlink:href=\"#mac7768e441\" y=\"56.420959\"/>\n",
       "     <use style=\"fill:#1f77b4;stroke:#1f77b4;\" x=\"125.214317\" xlink:href=\"#mac7768e441\" y=\"65.715283\"/>\n",
       "     <use style=\"fill:#1f77b4;stroke:#1f77b4;\" x=\"99.501142\" xlink:href=\"#mac7768e441\" y=\"51.4929\"/>\n",
       "     <use style=\"fill:#1f77b4;stroke:#1f77b4;\" x=\"137.355337\" xlink:href=\"#mac7768e441\" y=\"59.279445\"/>\n",
       "     <use style=\"fill:#1f77b4;stroke:#1f77b4;\" x=\"94.668219\" xlink:href=\"#mac7768e441\" y=\"53.047938\"/>\n",
       "     <use style=\"fill:#1f77b4;stroke:#1f77b4;\" x=\"123.148859\" xlink:href=\"#mac7768e441\" y=\"74.384133\"/>\n",
       "     <use style=\"fill:#1f77b4;stroke:#1f77b4;\" x=\"88.014578\" xlink:href=\"#mac7768e441\" y=\"31.269086\"/>\n",
       "     <use style=\"fill:#1f77b4;stroke:#1f77b4;\" x=\"132.068721\" xlink:href=\"#mac7768e441\" y=\"76.398756\"/>\n",
       "     <use style=\"fill:#1f77b4;stroke:#1f77b4;\" x=\"102.361855\" xlink:href=\"#mac7768e441\" y=\"55.595631\"/>\n",
       "     <use style=\"fill:#1f77b4;stroke:#1f77b4;\" x=\"116.975671\" xlink:href=\"#mac7768e441\" y=\"82.160244\"/>\n",
       "     <use style=\"fill:#1f77b4;stroke:#1f77b4;\" x=\"134.59464\" xlink:href=\"#mac7768e441\" y=\"88.662113\"/>\n",
       "     <use style=\"fill:#1f77b4;stroke:#1f77b4;\" x=\"139.8924\" xlink:href=\"#mac7768e441\" y=\"87.707244\"/>\n",
       "     <use style=\"fill:#1f77b4;stroke:#1f77b4;\" x=\"133.971202\" xlink:href=\"#mac7768e441\" y=\"88.261786\"/>\n",
       "     <use style=\"fill:#1f77b4;stroke:#1f77b4;\" x=\"55.509445\" xlink:href=\"#mac7768e441\" y=\"14.873795\"/>\n",
       "     <use style=\"fill:#1f77b4;stroke:#1f77b4;\" x=\"136.792412\" xlink:href=\"#mac7768e441\" y=\"82.553453\"/>\n",
       "     <use style=\"fill:#1f77b4;stroke:#1f77b4;\" x=\"127.868453\" xlink:href=\"#mac7768e441\" y=\"65.766041\"/>\n",
       "     <use style=\"fill:#1f77b4;stroke:#1f77b4;\" x=\"160.113493\" xlink:href=\"#mac7768e441\" y=\"98.745479\"/>\n",
       "     <use style=\"fill:#1f77b4;stroke:#1f77b4;\" x=\"123.850775\" xlink:href=\"#mac7768e441\" y=\"54.309677\"/>\n",
       "     <use style=\"fill:#1f77b4;stroke:#1f77b4;\" x=\"100.522306\" xlink:href=\"#mac7768e441\" y=\"67.555964\"/>\n",
       "     <use style=\"fill:#1f77b4;stroke:#1f77b4;\" x=\"96.526948\" xlink:href=\"#mac7768e441\" y=\"37.653879\"/>\n",
       "     <use style=\"fill:#1f77b4;stroke:#1f77b4;\" x=\"113.406132\" xlink:href=\"#mac7768e441\" y=\"68.009933\"/>\n",
       "     <use style=\"fill:#1f77b4;stroke:#1f77b4;\" x=\"65.960313\" xlink:href=\"#mac7768e441\" y=\"23.041842\"/>\n",
       "     <use style=\"fill:#1f77b4;stroke:#1f77b4;\" x=\"113.197195\" xlink:href=\"#mac7768e441\" y=\"45.039467\"/>\n",
       "     <use style=\"fill:#1f77b4;stroke:#1f77b4;\" x=\"130.658348\" xlink:href=\"#mac7768e441\" y=\"91.842701\"/>\n",
       "     <use style=\"fill:#1f77b4;stroke:#1f77b4;\" x=\"151.999997\" xlink:href=\"#mac7768e441\" y=\"104.029012\"/>\n",
       "     <use style=\"fill:#1f77b4;stroke:#1f77b4;\" x=\"141.90737\" xlink:href=\"#mac7768e441\" y=\"82.145346\"/>\n",
       "     <use style=\"fill:#1f77b4;stroke:#1f77b4;\" x=\"105.255794\" xlink:href=\"#mac7768e441\" y=\"51.794938\"/>\n",
       "     <use style=\"fill:#1f77b4;stroke:#1f77b4;\" x=\"137.345088\" xlink:href=\"#mac7768e441\" y=\"108.892348\"/>\n",
       "     <use style=\"fill:#1f77b4;stroke:#1f77b4;\" x=\"150.105747\" xlink:href=\"#mac7768e441\" y=\"90.315677\"/>\n",
       "     <use style=\"fill:#1f77b4;stroke:#1f77b4;\" x=\"119.810986\" xlink:href=\"#mac7768e441\" y=\"68.390104\"/>\n",
       "     <use style=\"fill:#1f77b4;stroke:#1f77b4;\" x=\"111.629172\" xlink:href=\"#mac7768e441\" y=\"51.599548\"/>\n",
       "     <use style=\"fill:#1f77b4;stroke:#1f77b4;\" x=\"115.141265\" xlink:href=\"#mac7768e441\" y=\"54.616679\"/>\n",
       "     <use style=\"fill:#1f77b4;stroke:#1f77b4;\" x=\"130.947323\" xlink:href=\"#mac7768e441\" y=\"80.670832\"/>\n",
       "     <use style=\"fill:#1f77b4;stroke:#1f77b4;\" x=\"150.020809\" xlink:href=\"#mac7768e441\" y=\"93.181926\"/>\n",
       "     <use style=\"fill:#1f77b4;stroke:#1f77b4;\" x=\"83.297098\" xlink:href=\"#mac7768e441\" y=\"44.373977\"/>\n",
       "     <use style=\"fill:#1f77b4;stroke:#1f77b4;\" x=\"162.735659\" xlink:href=\"#mac7768e441\" y=\"121.520192\"/>\n",
       "     <use style=\"fill:#1f77b4;stroke:#1f77b4;\" x=\"106.681388\" xlink:href=\"#mac7768e441\" y=\"57.949494\"/>\n",
       "     <use style=\"fill:#1f77b4;stroke:#1f77b4;\" x=\"155.413013\" xlink:href=\"#mac7768e441\" y=\"90.46417\"/>\n",
       "     <use style=\"fill:#1f77b4;stroke:#1f77b4;\" x=\"101.203713\" xlink:href=\"#mac7768e441\" y=\"56.66512\"/>\n",
       "     <use style=\"fill:#1f77b4;stroke:#1f77b4;\" x=\"143.027869\" xlink:href=\"#mac7768e441\" y=\"70.513187\"/>\n",
       "     <use style=\"fill:#1f77b4;stroke:#1f77b4;\" x=\"167.267566\" xlink:href=\"#mac7768e441\" y=\"87.734179\"/>\n",
       "     <use style=\"fill:#1f77b4;stroke:#1f77b4;\" x=\"105.146103\" xlink:href=\"#mac7768e441\" y=\"61.210994\"/>\n",
       "     <use style=\"fill:#1f77b4;stroke:#1f77b4;\" x=\"158.086759\" xlink:href=\"#mac7768e441\" y=\"105.840294\"/>\n",
       "     <use style=\"fill:#1f77b4;stroke:#1f77b4;\" x=\"90.719109\" xlink:href=\"#mac7768e441\" y=\"58.55493\"/>\n",
       "     <use style=\"fill:#1f77b4;stroke:#1f77b4;\" x=\"124.838433\" xlink:href=\"#mac7768e441\" y=\"69.138876\"/>\n",
       "     <use style=\"fill:#1f77b4;stroke:#1f77b4;\" x=\"113.921395\" xlink:href=\"#mac7768e441\" y=\"58.134559\"/>\n",
       "     <use style=\"fill:#1f77b4;stroke:#1f77b4;\" x=\"122.663673\" xlink:href=\"#mac7768e441\" y=\"76.968446\"/>\n",
       "     <use style=\"fill:#1f77b4;stroke:#1f77b4;\" x=\"101.82567\" xlink:href=\"#mac7768e441\" y=\"57.545824\"/>\n",
       "     <use style=\"fill:#1f77b4;stroke:#1f77b4;\" x=\"152.273515\" xlink:href=\"#mac7768e441\" y=\"76.610087\"/>\n",
       "     <use style=\"fill:#1f77b4;stroke:#1f77b4;\" x=\"139.36458\" xlink:href=\"#mac7768e441\" y=\"84.257902\"/>\n",
       "     <use style=\"fill:#1f77b4;stroke:#1f77b4;\" x=\"136.681928\" xlink:href=\"#mac7768e441\" y=\"85.26327\"/>\n",
       "     <use style=\"fill:#1f77b4;stroke:#1f77b4;\" x=\"138.385537\" xlink:href=\"#mac7768e441\" y=\"80.365538\"/>\n",
       "     <use style=\"fill:#1f77b4;stroke:#1f77b4;\" x=\"106.300062\" xlink:href=\"#mac7768e441\" y=\"41.596746\"/>\n",
       "     <use style=\"fill:#1f77b4;stroke:#1f77b4;\" x=\"82.701851\" xlink:href=\"#mac7768e441\" y=\"47.301604\"/>\n",
       "     <use style=\"fill:#1f77b4;stroke:#1f77b4;\" x=\"136.416993\" xlink:href=\"#mac7768e441\" y=\"85.420911\"/>\n",
       "     <use style=\"fill:#1f77b4;stroke:#1f77b4;\" x=\"94.221209\" xlink:href=\"#mac7768e441\" y=\"34.571749\"/>\n",
       "     <use style=\"fill:#1f77b4;stroke:#1f77b4;\" x=\"112.146035\" xlink:href=\"#mac7768e441\" y=\"64.94155\"/>\n",
       "     <use style=\"fill:#1f77b4;stroke:#1f77b4;\" x=\"126.469643\" xlink:href=\"#mac7768e441\" y=\"62.701039\"/>\n",
       "     <use style=\"fill:#1f77b4;stroke:#1f77b4;\" x=\"144.978496\" xlink:href=\"#mac7768e441\" y=\"88.112465\"/>\n",
       "     <use style=\"fill:#1f77b4;stroke:#1f77b4;\" x=\"157.827415\" xlink:href=\"#mac7768e441\" y=\"90.24604\"/>\n",
       "     <use style=\"fill:#1f77b4;stroke:#1f77b4;\" x=\"143.930306\" xlink:href=\"#mac7768e441\" y=\"87.994307\"/>\n",
       "     <use style=\"fill:#1f77b4;stroke:#1f77b4;\" x=\"135.877588\" xlink:href=\"#mac7768e441\" y=\"62.969326\"/>\n",
       "     <use style=\"fill:#1f77b4;stroke:#1f77b4;\" x=\"121.271721\" xlink:href=\"#mac7768e441\" y=\"46.078143\"/>\n",
       "     <use style=\"fill:#1f77b4;stroke:#1f77b4;\" x=\"97.814986\" xlink:href=\"#mac7768e441\" y=\"67.309966\"/>\n",
       "     <use style=\"fill:#1f77b4;stroke:#1f77b4;\" x=\"149.86175\" xlink:href=\"#mac7768e441\" y=\"101.815596\"/>\n",
       "     <use style=\"fill:#1f77b4;stroke:#1f77b4;\" x=\"127.444779\" xlink:href=\"#mac7768e441\" y=\"92.354162\"/>\n",
       "     <use style=\"fill:#1f77b4;stroke:#1f77b4;\" x=\"109.028699\" xlink:href=\"#mac7768e441\" y=\"70.498275\"/>\n",
       "     <use style=\"fill:#1f77b4;stroke:#1f77b4;\" x=\"131.892582\" xlink:href=\"#mac7768e441\" y=\"71.916988\"/>\n",
       "     <use style=\"fill:#1f77b4;stroke:#1f77b4;\" x=\"126.624418\" xlink:href=\"#mac7768e441\" y=\"66.407743\"/>\n",
       "     <use style=\"fill:#1f77b4;stroke:#1f77b4;\" x=\"113.161675\" xlink:href=\"#mac7768e441\" y=\"60.381361\"/>\n",
       "     <use style=\"fill:#1f77b4;stroke:#1f77b4;\" x=\"121.498304\" xlink:href=\"#mac7768e441\" y=\"50.593872\"/>\n",
       "     <use style=\"fill:#1f77b4;stroke:#1f77b4;\" x=\"146.458139\" xlink:href=\"#mac7768e441\" y=\"92.181708\"/>\n",
       "     <use style=\"fill:#1f77b4;stroke:#1f77b4;\" x=\"109.422631\" xlink:href=\"#mac7768e441\" y=\"64.637283\"/>\n",
       "     <use style=\"fill:#1f77b4;stroke:#1f77b4;\" x=\"160.779009\" xlink:href=\"#mac7768e441\" y=\"93.929569\"/>\n",
       "     <use style=\"fill:#1f77b4;stroke:#1f77b4;\" x=\"132.165931\" xlink:href=\"#mac7768e441\" y=\"79.974233\"/>\n",
       "     <use style=\"fill:#1f77b4;stroke:#1f77b4;\" x=\"110.505522\" xlink:href=\"#mac7768e441\" y=\"55.90819\"/>\n",
       "     <use style=\"fill:#1f77b4;stroke:#1f77b4;\" x=\"157.950483\" xlink:href=\"#mac7768e441\" y=\"85.956049\"/>\n",
       "     <use style=\"fill:#1f77b4;stroke:#1f77b4;\" x=\"80.813375\" xlink:href=\"#mac7768e441\" y=\"39.856438\"/>\n",
       "     <use style=\"fill:#1f77b4;stroke:#1f77b4;\" x=\"97.166546\" xlink:href=\"#mac7768e441\" y=\"50.459396\"/>\n",
       "     <use style=\"fill:#1f77b4;stroke:#1f77b4;\" x=\"147.60564\" xlink:href=\"#mac7768e441\" y=\"89.053934\"/>\n",
       "     <use style=\"fill:#1f77b4;stroke:#1f77b4;\" x=\"122.599199\" xlink:href=\"#mac7768e441\" y=\"70.214375\"/>\n",
       "     <use style=\"fill:#1f77b4;stroke:#1f77b4;\" x=\"135.376733\" xlink:href=\"#mac7768e441\" y=\"85.280698\"/>\n",
       "     <use style=\"fill:#1f77b4;stroke:#1f77b4;\" x=\"146.565044\" xlink:href=\"#mac7768e441\" y=\"78.508109\"/>\n",
       "     <use style=\"fill:#1f77b4;stroke:#1f77b4;\" x=\"61.473824\" xlink:href=\"#mac7768e441\" y=\"38.338707\"/>\n",
       "     <use style=\"fill:#1f77b4;stroke:#1f77b4;\" x=\"124.756371\" xlink:href=\"#mac7768e441\" y=\"48.985968\"/>\n",
       "     <use style=\"fill:#1f77b4;stroke:#1f77b4;\" x=\"146.535086\" xlink:href=\"#mac7768e441\" y=\"98.668435\"/>\n",
       "     <use style=\"fill:#1f77b4;stroke:#1f77b4;\" x=\"108.562828\" xlink:href=\"#mac7768e441\" y=\"42.114645\"/>\n",
       "     <use style=\"fill:#1f77b4;stroke:#1f77b4;\" x=\"108.577776\" xlink:href=\"#mac7768e441\" y=\"50.889265\"/>\n",
       "     <use style=\"fill:#1f77b4;stroke:#1f77b4;\" x=\"141.619764\" xlink:href=\"#mac7768e441\" y=\"98.694059\"/>\n",
       "     <use style=\"fill:#1f77b4;stroke:#1f77b4;\" x=\"97.919802\" xlink:href=\"#mac7768e441\" y=\"33.009844\"/>\n",
       "     <use style=\"fill:#1f77b4;stroke:#1f77b4;\" x=\"121.992367\" xlink:href=\"#mac7768e441\" y=\"74.442747\"/>\n",
       "     <use style=\"fill:#1f77b4;stroke:#1f77b4;\" x=\"92.974556\" xlink:href=\"#mac7768e441\" y=\"61.506491\"/>\n",
       "     <use style=\"fill:#1f77b4;stroke:#1f77b4;\" x=\"93.978202\" xlink:href=\"#mac7768e441\" y=\"38.351982\"/>\n",
       "     <use style=\"fill:#1f77b4;stroke:#1f77b4;\" x=\"85.774929\" xlink:href=\"#mac7768e441\" y=\"46.083677\"/>\n",
       "     <use style=\"fill:#1f77b4;stroke:#1f77b4;\" x=\"131.551037\" xlink:href=\"#mac7768e441\" y=\"82.095481\"/>\n",
       "     <use style=\"fill:#1f77b4;stroke:#1f77b4;\" x=\"153.706844\" xlink:href=\"#mac7768e441\" y=\"95.372918\"/>\n",
       "     <use style=\"fill:#1f77b4;stroke:#1f77b4;\" x=\"94.532558\" xlink:href=\"#mac7768e441\" y=\"47.811919\"/>\n",
       "     <use style=\"fill:#1f77b4;stroke:#1f77b4;\" x=\"115.672832\" xlink:href=\"#mac7768e441\" y=\"42.880056\"/>\n",
       "     <use style=\"fill:#1f77b4;stroke:#1f77b4;\" x=\"134.75653\" xlink:href=\"#mac7768e441\" y=\"92.463591\"/>\n",
       "     <use style=\"fill:#1f77b4;stroke:#1f77b4;\" x=\"119.024874\" xlink:href=\"#mac7768e441\" y=\"79.701587\"/>\n",
       "     <use style=\"fill:#1f77b4;stroke:#1f77b4;\" x=\"141.256677\" xlink:href=\"#mac7768e441\" y=\"74.388376\"/>\n",
       "     <use style=\"fill:#1f77b4;stroke:#1f77b4;\" x=\"128.918408\" xlink:href=\"#mac7768e441\" y=\"72.837551\"/>\n",
       "     <use style=\"fill:#1f77b4;stroke:#1f77b4;\" x=\"143.038308\" xlink:href=\"#mac7768e441\" y=\"74.139141\"/>\n",
       "     <use style=\"fill:#1f77b4;stroke:#1f77b4;\" x=\"141.756376\" xlink:href=\"#mac7768e441\" y=\"93.373554\"/>\n",
       "     <use style=\"fill:#1f77b4;stroke:#1f77b4;\" x=\"84.032942\" xlink:href=\"#mac7768e441\" y=\"30.827417\"/>\n",
       "     <use style=\"fill:#1f77b4;stroke:#1f77b4;\" x=\"102.798081\" xlink:href=\"#mac7768e441\" y=\"49.095388\"/>\n",
       "     <use style=\"fill:#1f77b4;stroke:#1f77b4;\" x=\"142.205622\" xlink:href=\"#mac7768e441\" y=\"67.22432\"/>\n",
       "     <use style=\"fill:#1f77b4;stroke:#1f77b4;\" x=\"138.87066\" xlink:href=\"#mac7768e441\" y=\"95.328056\"/>\n",
       "     <use style=\"fill:#1f77b4;stroke:#1f77b4;\" x=\"112.926943\" xlink:href=\"#mac7768e441\" y=\"67.090754\"/>\n",
       "     <use style=\"fill:#1f77b4;stroke:#1f77b4;\" x=\"151.243251\" xlink:href=\"#mac7768e441\" y=\"102.073644\"/>\n",
       "     <use style=\"fill:#1f77b4;stroke:#1f77b4;\" x=\"91.954148\" xlink:href=\"#mac7768e441\" y=\"39.654581\"/>\n",
       "     <use style=\"fill:#1f77b4;stroke:#1f77b4;\" x=\"91.848979\" xlink:href=\"#mac7768e441\" y=\"50.014059\"/>\n",
       "     <use style=\"fill:#1f77b4;stroke:#1f77b4;\" x=\"112.797063\" xlink:href=\"#mac7768e441\" y=\"66.848664\"/>\n",
       "     <use style=\"fill:#1f77b4;stroke:#1f77b4;\" x=\"97.424724\" xlink:href=\"#mac7768e441\" y=\"72.410622\"/>\n",
       "     <use style=\"fill:#1f77b4;stroke:#1f77b4;\" x=\"111.387515\" xlink:href=\"#mac7768e441\" y=\"60.840872\"/>\n",
       "     <use style=\"fill:#1f77b4;stroke:#1f77b4;\" x=\"122.225862\" xlink:href=\"#mac7768e441\" y=\"69.320171\"/>\n",
       "     <use style=\"fill:#1f77b4;stroke:#1f77b4;\" x=\"119.935585\" xlink:href=\"#mac7768e441\" y=\"75.015967\"/>\n",
       "     <use style=\"fill:#1f77b4;stroke:#1f77b4;\" x=\"177.288763\" xlink:href=\"#mac7768e441\" y=\"95.911148\"/>\n",
       "     <use style=\"fill:#1f77b4;stroke:#1f77b4;\" x=\"113.477695\" xlink:href=\"#mac7768e441\" y=\"70.197568\"/>\n",
       "     <use style=\"fill:#1f77b4;stroke:#1f77b4;\" x=\"107.887683\" xlink:href=\"#mac7768e441\" y=\"59.413539\"/>\n",
       "     <use style=\"fill:#1f77b4;stroke:#1f77b4;\" x=\"96.59687\" xlink:href=\"#mac7768e441\" y=\"63.050636\"/>\n",
       "     <use style=\"fill:#1f77b4;stroke:#1f77b4;\" x=\"116.800888\" xlink:href=\"#mac7768e441\" y=\"58.742392\"/>\n",
       "     <use style=\"fill:#1f77b4;stroke:#1f77b4;\" x=\"130.077491\" xlink:href=\"#mac7768e441\" y=\"88.62553\"/>\n",
       "     <use style=\"fill:#1f77b4;stroke:#1f77b4;\" x=\"147.343865\" xlink:href=\"#mac7768e441\" y=\"97.651338\"/>\n",
       "     <use style=\"fill:#1f77b4;stroke:#1f77b4;\" x=\"103.84899\" xlink:href=\"#mac7768e441\" y=\"52.864177\"/>\n",
       "     <use style=\"fill:#1f77b4;stroke:#1f77b4;\" x=\"140.919266\" xlink:href=\"#mac7768e441\" y=\"84.399039\"/>\n",
       "     <use style=\"fill:#1f77b4;stroke:#1f77b4;\" x=\"145.27025\" xlink:href=\"#mac7768e441\" y=\"92.74322\"/>\n",
       "     <use style=\"fill:#1f77b4;stroke:#1f77b4;\" x=\"123.695198\" xlink:href=\"#mac7768e441\" y=\"68.456368\"/>\n",
       "     <use style=\"fill:#1f77b4;stroke:#1f77b4;\" x=\"114.773055\" xlink:href=\"#mac7768e441\" y=\"66.429593\"/>\n",
       "     <use style=\"fill:#1f77b4;stroke:#1f77b4;\" x=\"116.02823\" xlink:href=\"#mac7768e441\" y=\"62.090814\"/>\n",
       "     <use style=\"fill:#1f77b4;stroke:#1f77b4;\" x=\"109.627742\" xlink:href=\"#mac7768e441\" y=\"29.207\"/>\n",
       "     <use style=\"fill:#1f77b4;stroke:#1f77b4;\" x=\"126.674675\" xlink:href=\"#mac7768e441\" y=\"71.479896\"/>\n",
       "     <use style=\"fill:#1f77b4;stroke:#1f77b4;\" x=\"146.802395\" xlink:href=\"#mac7768e441\" y=\"78.446164\"/>\n",
       "     <use style=\"fill:#1f77b4;stroke:#1f77b4;\" x=\"103.011795\" xlink:href=\"#mac7768e441\" y=\"64.948484\"/>\n",
       "     <use style=\"fill:#1f77b4;stroke:#1f77b4;\" x=\"103.93972\" xlink:href=\"#mac7768e441\" y=\"41.181736\"/>\n",
       "     <use style=\"fill:#1f77b4;stroke:#1f77b4;\" x=\"134.028325\" xlink:href=\"#mac7768e441\" y=\"91.266276\"/>\n",
       "     <use style=\"fill:#1f77b4;stroke:#1f77b4;\" x=\"149.557407\" xlink:href=\"#mac7768e441\" y=\"92.061935\"/>\n",
       "     <use style=\"fill:#1f77b4;stroke:#1f77b4;\" x=\"116.477766\" xlink:href=\"#mac7768e441\" y=\"79.475844\"/>\n",
       "     <use style=\"fill:#1f77b4;stroke:#1f77b4;\" x=\"153.518185\" xlink:href=\"#mac7768e441\" y=\"96.64328\"/>\n",
       "     <use style=\"fill:#1f77b4;stroke:#1f77b4;\" x=\"124.663628\" xlink:href=\"#mac7768e441\" y=\"72.6695\"/>\n",
       "     <use style=\"fill:#1f77b4;stroke:#1f77b4;\" x=\"90.717084\" xlink:href=\"#mac7768e441\" y=\"62.179628\"/>\n",
       "     <use style=\"fill:#1f77b4;stroke:#1f77b4;\" x=\"114.853026\" xlink:href=\"#mac7768e441\" y=\"55.869724\"/>\n",
       "     <use style=\"fill:#1f77b4;stroke:#1f77b4;\" x=\"140.050817\" xlink:href=\"#mac7768e441\" y=\"82.325354\"/>\n",
       "     <use style=\"fill:#1f77b4;stroke:#1f77b4;\" x=\"133.565586\" xlink:href=\"#mac7768e441\" y=\"97.077632\"/>\n",
       "     <use style=\"fill:#1f77b4;stroke:#1f77b4;\" x=\"129.165187\" xlink:href=\"#mac7768e441\" y=\"68.200233\"/>\n",
       "     <use style=\"fill:#1f77b4;stroke:#1f77b4;\" x=\"93.744868\" xlink:href=\"#mac7768e441\" y=\"38.917289\"/>\n",
       "     <use style=\"fill:#1f77b4;stroke:#1f77b4;\" x=\"73.77152\" xlink:href=\"#mac7768e441\" y=\"49.246475\"/>\n",
       "     <use style=\"fill:#1f77b4;stroke:#1f77b4;\" x=\"128.541313\" xlink:href=\"#mac7768e441\" y=\"74.453242\"/>\n",
       "     <use style=\"fill:#1f77b4;stroke:#1f77b4;\" x=\"127.945569\" xlink:href=\"#mac7768e441\" y=\"67.699954\"/>\n",
       "     <use style=\"fill:#1f77b4;stroke:#1f77b4;\" x=\"142.976349\" xlink:href=\"#mac7768e441\" y=\"108.32322\"/>\n",
       "     <use style=\"fill:#1f77b4;stroke:#1f77b4;\" x=\"163.612555\" xlink:href=\"#mac7768e441\" y=\"101.320948\"/>\n",
       "     <use style=\"fill:#1f77b4;stroke:#1f77b4;\" x=\"137.362608\" xlink:href=\"#mac7768e441\" y=\"78.594281\"/>\n",
       "     <use style=\"fill:#1f77b4;stroke:#1f77b4;\" x=\"121.800294\" xlink:href=\"#mac7768e441\" y=\"73.71592\"/>\n",
       "     <use style=\"fill:#1f77b4;stroke:#1f77b4;\" x=\"152.481143\" xlink:href=\"#mac7768e441\" y=\"91.811073\"/>\n",
       "     <use style=\"fill:#1f77b4;stroke:#1f77b4;\" x=\"123.698542\" xlink:href=\"#mac7768e441\" y=\"68.911011\"/>\n",
       "     <use style=\"fill:#1f77b4;stroke:#1f77b4;\" x=\"133.856696\" xlink:href=\"#mac7768e441\" y=\"75.911336\"/>\n",
       "     <use style=\"fill:#1f77b4;stroke:#1f77b4;\" x=\"87.676589\" xlink:href=\"#mac7768e441\" y=\"34.52908\"/>\n",
       "     <use style=\"fill:#1f77b4;stroke:#1f77b4;\" x=\"142.186829\" xlink:href=\"#mac7768e441\" y=\"83.973163\"/>\n",
       "     <use style=\"fill:#1f77b4;stroke:#1f77b4;\" x=\"100.018735\" xlink:href=\"#mac7768e441\" y=\"52.942327\"/>\n",
       "     <use style=\"fill:#1f77b4;stroke:#1f77b4;\" x=\"151.330397\" xlink:href=\"#mac7768e441\" y=\"108.185023\"/>\n",
       "     <use style=\"fill:#1f77b4;stroke:#1f77b4;\" x=\"97.047979\" xlink:href=\"#mac7768e441\" y=\"51.153574\"/>\n",
       "     <use style=\"fill:#1f77b4;stroke:#1f77b4;\" x=\"144.457217\" xlink:href=\"#mac7768e441\" y=\"88.161324\"/>\n",
       "     <use style=\"fill:#1f77b4;stroke:#1f77b4;\" x=\"116.119173\" xlink:href=\"#mac7768e441\" y=\"66.062865\"/>\n",
       "     <use style=\"fill:#1f77b4;stroke:#1f77b4;\" x=\"140.716725\" xlink:href=\"#mac7768e441\" y=\"76.184401\"/>\n",
       "     <use style=\"fill:#1f77b4;stroke:#1f77b4;\" x=\"124.430924\" xlink:href=\"#mac7768e441\" y=\"68.985476\"/>\n",
       "     <use style=\"fill:#1f77b4;stroke:#1f77b4;\" x=\"77.303871\" xlink:href=\"#mac7768e441\" y=\"48.740795\"/>\n",
       "     <use style=\"fill:#1f77b4;stroke:#1f77b4;\" x=\"103.247705\" xlink:href=\"#mac7768e441\" y=\"62.936274\"/>\n",
       "     <use style=\"fill:#1f77b4;stroke:#1f77b4;\" x=\"81.191795\" xlink:href=\"#mac7768e441\" y=\"41.382068\"/>\n",
       "     <use style=\"fill:#1f77b4;stroke:#1f77b4;\" x=\"131.698892\" xlink:href=\"#mac7768e441\" y=\"83.807083\"/>\n",
       "     <use style=\"fill:#1f77b4;stroke:#1f77b4;\" x=\"119.924102\" xlink:href=\"#mac7768e441\" y=\"86.96591\"/>\n",
       "     <use style=\"fill:#1f77b4;stroke:#1f77b4;\" x=\"142.264583\" xlink:href=\"#mac7768e441\" y=\"72.749883\"/>\n",
       "     <use style=\"fill:#1f77b4;stroke:#1f77b4;\" x=\"94.674609\" xlink:href=\"#mac7768e441\" y=\"33.636925\"/>\n",
       "     <use style=\"fill:#1f77b4;stroke:#1f77b4;\" x=\"80.854339\" xlink:href=\"#mac7768e441\" y=\"26.993753\"/>\n",
       "     <use style=\"fill:#1f77b4;stroke:#1f77b4;\" x=\"122.573292\" xlink:href=\"#mac7768e441\" y=\"69.046767\"/>\n",
       "     <use style=\"fill:#1f77b4;stroke:#1f77b4;\" x=\"112.721569\" xlink:href=\"#mac7768e441\" y=\"67.198204\"/>\n",
       "     <use style=\"fill:#1f77b4;stroke:#1f77b4;\" x=\"131.245051\" xlink:href=\"#mac7768e441\" y=\"85.388718\"/>\n",
       "     <use style=\"fill:#1f77b4;stroke:#1f77b4;\" x=\"94.194775\" xlink:href=\"#mac7768e441\" y=\"56.373669\"/>\n",
       "     <use style=\"fill:#1f77b4;stroke:#1f77b4;\" x=\"147.517841\" xlink:href=\"#mac7768e441\" y=\"100.059728\"/>\n",
       "     <use style=\"fill:#1f77b4;stroke:#1f77b4;\" x=\"100.192832\" xlink:href=\"#mac7768e441\" y=\"36.244601\"/>\n",
       "     <use style=\"fill:#1f77b4;stroke:#1f77b4;\" x=\"124.685704\" xlink:href=\"#mac7768e441\" y=\"67.060089\"/>\n",
       "     <use style=\"fill:#1f77b4;stroke:#1f77b4;\" x=\"136.274681\" xlink:href=\"#mac7768e441\" y=\"65.962082\"/>\n",
       "     <use style=\"fill:#1f77b4;stroke:#1f77b4;\" x=\"167.852155\" xlink:href=\"#mac7768e441\" y=\"90.665682\"/>\n",
       "     <use style=\"fill:#1f77b4;stroke:#1f77b4;\" x=\"129.488504\" xlink:href=\"#mac7768e441\" y=\"84.55485\"/>\n",
       "     <use style=\"fill:#1f77b4;stroke:#1f77b4;\" x=\"96.531007\" xlink:href=\"#mac7768e441\" y=\"56.713061\"/>\n",
       "     <use style=\"fill:#1f77b4;stroke:#1f77b4;\" x=\"109.152385\" xlink:href=\"#mac7768e441\" y=\"65.991066\"/>\n",
       "     <use style=\"fill:#1f77b4;stroke:#1f77b4;\" x=\"114.108102\" xlink:href=\"#mac7768e441\" y=\"46.004451\"/>\n",
       "     <use style=\"fill:#1f77b4;stroke:#1f77b4;\" x=\"215.364915\" xlink:href=\"#mac7768e441\" y=\"128.506479\"/>\n",
       "     <use style=\"fill:#1f77b4;stroke:#1f77b4;\" x=\"95.694374\" xlink:href=\"#mac7768e441\" y=\"51.926487\"/>\n",
       "     <use style=\"fill:#1f77b4;stroke:#1f77b4;\" x=\"77.187232\" xlink:href=\"#mac7768e441\" y=\"43.593034\"/>\n",
       "     <use style=\"fill:#1f77b4;stroke:#1f77b4;\" x=\"192.541504\" xlink:href=\"#mac7768e441\" y=\"119.755281\"/>\n",
       "     <use style=\"fill:#1f77b4;stroke:#1f77b4;\" x=\"70.569575\" xlink:href=\"#mac7768e441\" y=\"39.775982\"/>\n",
       "     <use style=\"fill:#1f77b4;stroke:#1f77b4;\" x=\"98.145827\" xlink:href=\"#mac7768e441\" y=\"62.1537\"/>\n",
       "     <use style=\"fill:#1f77b4;stroke:#1f77b4;\" x=\"114.2902\" xlink:href=\"#mac7768e441\" y=\"71.528452\"/>\n",
       "     <use style=\"fill:#1f77b4;stroke:#1f77b4;\" x=\"143.653729\" xlink:href=\"#mac7768e441\" y=\"75.645441\"/>\n",
       "     <use style=\"fill:#1f77b4;stroke:#1f77b4;\" x=\"117.274543\" xlink:href=\"#mac7768e441\" y=\"72.583028\"/>\n",
       "     <use style=\"fill:#1f77b4;stroke:#1f77b4;\" x=\"124.051766\" xlink:href=\"#mac7768e441\" y=\"81.578815\"/>\n",
       "     <use style=\"fill:#1f77b4;stroke:#1f77b4;\" x=\"79.64845\" xlink:href=\"#mac7768e441\" y=\"65.973198\"/>\n",
       "     <use style=\"fill:#1f77b4;stroke:#1f77b4;\" x=\"113.262283\" xlink:href=\"#mac7768e441\" y=\"56.853734\"/>\n",
       "     <use style=\"fill:#1f77b4;stroke:#1f77b4;\" x=\"148.788532\" xlink:href=\"#mac7768e441\" y=\"96.074844\"/>\n",
       "     <use style=\"fill:#1f77b4;stroke:#1f77b4;\" x=\"131.333836\" xlink:href=\"#mac7768e441\" y=\"69.237134\"/>\n",
       "     <use style=\"fill:#1f77b4;stroke:#1f77b4;\" x=\"146.410146\" xlink:href=\"#mac7768e441\" y=\"68.911421\"/>\n",
       "     <use style=\"fill:#1f77b4;stroke:#1f77b4;\" x=\"136.450523\" xlink:href=\"#mac7768e441\" y=\"74.847271\"/>\n",
       "     <use style=\"fill:#1f77b4;stroke:#1f77b4;\" x=\"122.171438\" xlink:href=\"#mac7768e441\" y=\"81.612102\"/>\n",
       "     <use style=\"fill:#1f77b4;stroke:#1f77b4;\" x=\"93.104997\" xlink:href=\"#mac7768e441\" y=\"47.77865\"/>\n",
       "     <use style=\"fill:#1f77b4;stroke:#1f77b4;\" x=\"125.485357\" xlink:href=\"#mac7768e441\" y=\"67.723374\"/>\n",
       "     <use style=\"fill:#1f77b4;stroke:#1f77b4;\" x=\"162.357118\" xlink:href=\"#mac7768e441\" y=\"103.645061\"/>\n",
       "     <use style=\"fill:#1f77b4;stroke:#1f77b4;\" x=\"129.701617\" xlink:href=\"#mac7768e441\" y=\"62.463528\"/>\n",
       "     <use style=\"fill:#1f77b4;stroke:#1f77b4;\" x=\"89.196229\" xlink:href=\"#mac7768e441\" y=\"37.695112\"/>\n",
       "     <use style=\"fill:#1f77b4;stroke:#1f77b4;\" x=\"131.904877\" xlink:href=\"#mac7768e441\" y=\"70.804045\"/>\n",
       "     <use style=\"fill:#1f77b4;stroke:#1f77b4;\" x=\"153.514392\" xlink:href=\"#mac7768e441\" y=\"93.653675\"/>\n",
       "     <use style=\"fill:#1f77b4;stroke:#1f77b4;\" x=\"114.96867\" xlink:href=\"#mac7768e441\" y=\"62.843872\"/>\n",
       "     <use style=\"fill:#1f77b4;stroke:#1f77b4;\" x=\"37.81946\" xlink:href=\"#mac7768e441\" y=\"17.315751\"/>\n",
       "     <use style=\"fill:#1f77b4;stroke:#1f77b4;\" x=\"131.715088\" xlink:href=\"#mac7768e441\" y=\"76.478593\"/>\n",
       "     <use style=\"fill:#1f77b4;stroke:#1f77b4;\" x=\"122.896078\" xlink:href=\"#mac7768e441\" y=\"71.331481\"/>\n",
       "     <use style=\"fill:#1f77b4;stroke:#1f77b4;\" x=\"119.299928\" xlink:href=\"#mac7768e441\" y=\"61.43149\"/>\n",
       "     <use style=\"fill:#1f77b4;stroke:#1f77b4;\" x=\"119.354654\" xlink:href=\"#mac7768e441\" y=\"62.592863\"/>\n",
       "     <use style=\"fill:#1f77b4;stroke:#1f77b4;\" x=\"109.597893\" xlink:href=\"#mac7768e441\" y=\"72.983385\"/>\n",
       "     <use style=\"fill:#1f77b4;stroke:#1f77b4;\" x=\"117.219722\" xlink:href=\"#mac7768e441\" y=\"71.921005\"/>\n",
       "     <use style=\"fill:#1f77b4;stroke:#1f77b4;\" x=\"126.689392\" xlink:href=\"#mac7768e441\" y=\"63.305589\"/>\n",
       "     <use style=\"fill:#1f77b4;stroke:#1f77b4;\" x=\"124.58436\" xlink:href=\"#mac7768e441\" y=\"75.223169\"/>\n",
       "     <use style=\"fill:#1f77b4;stroke:#1f77b4;\" x=\"125.230569\" xlink:href=\"#mac7768e441\" y=\"66.595668\"/>\n",
       "     <use style=\"fill:#1f77b4;stroke:#1f77b4;\" x=\"107.823784\" xlink:href=\"#mac7768e441\" y=\"55.557489\"/>\n",
       "     <use style=\"fill:#1f77b4;stroke:#1f77b4;\" x=\"88.094344\" xlink:href=\"#mac7768e441\" y=\"26.902876\"/>\n",
       "     <use style=\"fill:#1f77b4;stroke:#1f77b4;\" x=\"110.036801\" xlink:href=\"#mac7768e441\" y=\"46.636474\"/>\n",
       "     <use style=\"fill:#1f77b4;stroke:#1f77b4;\" x=\"68.596423\" xlink:href=\"#mac7768e441\" y=\"50.744014\"/>\n",
       "     <use style=\"fill:#1f77b4;stroke:#1f77b4;\" x=\"107.604158\" xlink:href=\"#mac7768e441\" y=\"71.23081\"/>\n",
       "     <use style=\"fill:#1f77b4;stroke:#1f77b4;\" x=\"115.325971\" xlink:href=\"#mac7768e441\" y=\"64.503655\"/>\n",
       "     <use style=\"fill:#1f77b4;stroke:#1f77b4;\" x=\"159.956179\" xlink:href=\"#mac7768e441\" y=\"97.355495\"/>\n",
       "     <use style=\"fill:#1f77b4;stroke:#1f77b4;\" x=\"148.014409\" xlink:href=\"#mac7768e441\" y=\"73.41747\"/>\n",
       "     <use style=\"fill:#1f77b4;stroke:#1f77b4;\" x=\"126.492715\" xlink:href=\"#mac7768e441\" y=\"80.46068\"/>\n",
       "     <use style=\"fill:#1f77b4;stroke:#1f77b4;\" x=\"127.899374\" xlink:href=\"#mac7768e441\" y=\"70.845085\"/>\n",
       "     <use style=\"fill:#1f77b4;stroke:#1f77b4;\" x=\"111.010054\" xlink:href=\"#mac7768e441\" y=\"56.822104\"/>\n",
       "     <use style=\"fill:#1f77b4;stroke:#1f77b4;\" x=\"130.934974\" xlink:href=\"#mac7768e441\" y=\"83.590448\"/>\n",
       "     <use style=\"fill:#1f77b4;stroke:#1f77b4;\" x=\"107.216392\" xlink:href=\"#mac7768e441\" y=\"62.907912\"/>\n",
       "     <use style=\"fill:#1f77b4;stroke:#1f77b4;\" x=\"91.57026\" xlink:href=\"#mac7768e441\" y=\"35.90192\"/>\n",
       "     <use style=\"fill:#1f77b4;stroke:#1f77b4;\" x=\"85.229884\" xlink:href=\"#mac7768e441\" y=\"53.677876\"/>\n",
       "     <use style=\"fill:#1f77b4;stroke:#1f77b4;\" x=\"116.982721\" xlink:href=\"#mac7768e441\" y=\"77.533889\"/>\n",
       "     <use style=\"fill:#1f77b4;stroke:#1f77b4;\" x=\"148.573604\" xlink:href=\"#mac7768e441\" y=\"73.169749\"/>\n",
       "     <use style=\"fill:#1f77b4;stroke:#1f77b4;\" x=\"72.439548\" xlink:href=\"#mac7768e441\" y=\"47.207355\"/>\n",
       "     <use style=\"fill:#1f77b4;stroke:#1f77b4;\" x=\"122.406879\" xlink:href=\"#mac7768e441\" y=\"62.317711\"/>\n",
       "     <use style=\"fill:#1f77b4;stroke:#1f77b4;\" x=\"64.505961\" xlink:href=\"#mac7768e441\" y=\"15.712721\"/>\n",
       "     <use style=\"fill:#1f77b4;stroke:#1f77b4;\" x=\"115.84106\" xlink:href=\"#mac7768e441\" y=\"84.707129\"/>\n",
       "     <use style=\"fill:#1f77b4;stroke:#1f77b4;\" x=\"86.449066\" xlink:href=\"#mac7768e441\" y=\"40.083394\"/>\n",
       "     <use style=\"fill:#1f77b4;stroke:#1f77b4;\" x=\"75.662628\" xlink:href=\"#mac7768e441\" y=\"32.301497\"/>\n",
       "     <use style=\"fill:#1f77b4;stroke:#1f77b4;\" x=\"168.455286\" xlink:href=\"#mac7768e441\" y=\"83.954843\"/>\n",
       "     <use style=\"fill:#1f77b4;stroke:#1f77b4;\" x=\"97.071484\" xlink:href=\"#mac7768e441\" y=\"51.572903\"/>\n",
       "     <use style=\"fill:#1f77b4;stroke:#1f77b4;\" x=\"117.536493\" xlink:href=\"#mac7768e441\" y=\"81.836131\"/>\n",
       "     <use style=\"fill:#1f77b4;stroke:#1f77b4;\" x=\"105.61783\" xlink:href=\"#mac7768e441\" y=\"57.623942\"/>\n",
       "     <use style=\"fill:#1f77b4;stroke:#1f77b4;\" x=\"127.108861\" xlink:href=\"#mac7768e441\" y=\"70.021061\"/>\n",
       "     <use style=\"fill:#1f77b4;stroke:#1f77b4;\" x=\"144.833111\" xlink:href=\"#mac7768e441\" y=\"92.740047\"/>\n",
       "     <use style=\"fill:#1f77b4;stroke:#1f77b4;\" x=\"83.182725\" xlink:href=\"#mac7768e441\" y=\"53.164887\"/>\n",
       "     <use style=\"fill:#1f77b4;stroke:#1f77b4;\" x=\"157.952758\" xlink:href=\"#mac7768e441\" y=\"93.398312\"/>\n",
       "     <use style=\"fill:#1f77b4;stroke:#1f77b4;\" x=\"114.780245\" xlink:href=\"#mac7768e441\" y=\"51.020607\"/>\n",
       "     <use style=\"fill:#1f77b4;stroke:#1f77b4;\" x=\"158.720786\" xlink:href=\"#mac7768e441\" y=\"86.799146\"/>\n",
       "     <use style=\"fill:#1f77b4;stroke:#1f77b4;\" x=\"122.399298\" xlink:href=\"#mac7768e441\" y=\"64.001873\"/>\n",
       "     <use style=\"fill:#1f77b4;stroke:#1f77b4;\" x=\"147.359185\" xlink:href=\"#mac7768e441\" y=\"60.569514\"/>\n",
       "     <use style=\"fill:#1f77b4;stroke:#1f77b4;\" x=\"142.272568\" xlink:href=\"#mac7768e441\" y=\"86.150441\"/>\n",
       "     <use style=\"fill:#1f77b4;stroke:#1f77b4;\" x=\"100.126527\" xlink:href=\"#mac7768e441\" y=\"61.008826\"/>\n",
       "     <use style=\"fill:#1f77b4;stroke:#1f77b4;\" x=\"107.779429\" xlink:href=\"#mac7768e441\" y=\"71.784049\"/>\n",
       "     <use style=\"fill:#1f77b4;stroke:#1f77b4;\" x=\"95.267512\" xlink:href=\"#mac7768e441\" y=\"62.546894\"/>\n",
       "     <use style=\"fill:#1f77b4;stroke:#1f77b4;\" x=\"159.960387\" xlink:href=\"#mac7768e441\" y=\"98.31468\"/>\n",
       "     <use style=\"fill:#1f77b4;stroke:#1f77b4;\" x=\"97.876401\" xlink:href=\"#mac7768e441\" y=\"67.674959\"/>\n",
       "     <use style=\"fill:#1f77b4;stroke:#1f77b4;\" x=\"106.155925\" xlink:href=\"#mac7768e441\" y=\"53.152054\"/>\n",
       "     <use style=\"fill:#1f77b4;stroke:#1f77b4;\" x=\"186.187741\" xlink:href=\"#mac7768e441\" y=\"110.794082\"/>\n",
       "     <use style=\"fill:#1f77b4;stroke:#1f77b4;\" x=\"111.974939\" xlink:href=\"#mac7768e441\" y=\"65.658351\"/>\n",
       "     <use style=\"fill:#1f77b4;stroke:#1f77b4;\" x=\"102.84522\" xlink:href=\"#mac7768e441\" y=\"77.53642\"/>\n",
       "     <use style=\"fill:#1f77b4;stroke:#1f77b4;\" x=\"182.688724\" xlink:href=\"#mac7768e441\" y=\"124.696255\"/>\n",
       "     <use style=\"fill:#1f77b4;stroke:#1f77b4;\" x=\"94.412214\" xlink:href=\"#mac7768e441\" y=\"48.366671\"/>\n",
       "     <use style=\"fill:#1f77b4;stroke:#1f77b4;\" x=\"143.517102\" xlink:href=\"#mac7768e441\" y=\"71.777272\"/>\n",
       "     <use style=\"fill:#1f77b4;stroke:#1f77b4;\" x=\"97.676857\" xlink:href=\"#mac7768e441\" y=\"64.968206\"/>\n",
       "     <use style=\"fill:#1f77b4;stroke:#1f77b4;\" x=\"93.928476\" xlink:href=\"#mac7768e441\" y=\"58.386053\"/>\n",
       "     <use style=\"fill:#1f77b4;stroke:#1f77b4;\" x=\"161.242025\" xlink:href=\"#mac7768e441\" y=\"102.293318\"/>\n",
       "     <use style=\"fill:#1f77b4;stroke:#1f77b4;\" x=\"174.06125\" xlink:href=\"#mac7768e441\" y=\"104.855702\"/>\n",
       "     <use style=\"fill:#1f77b4;stroke:#1f77b4;\" x=\"103.929594\" xlink:href=\"#mac7768e441\" y=\"56.84249\"/>\n",
       "     <use style=\"fill:#1f77b4;stroke:#1f77b4;\" x=\"172.034988\" xlink:href=\"#mac7768e441\" y=\"99.9986\"/>\n",
       "     <use style=\"fill:#1f77b4;stroke:#1f77b4;\" x=\"89.056236\" xlink:href=\"#mac7768e441\" y=\"48.171301\"/>\n",
       "     <use style=\"fill:#1f77b4;stroke:#1f77b4;\" x=\"168.512667\" xlink:href=\"#mac7768e441\" y=\"100.85854\"/>\n",
       "     <use style=\"fill:#1f77b4;stroke:#1f77b4;\" x=\"138.884413\" xlink:href=\"#mac7768e441\" y=\"74.142927\"/>\n",
       "     <use style=\"fill:#1f77b4;stroke:#1f77b4;\" x=\"108.764496\" xlink:href=\"#mac7768e441\" y=\"77.845178\"/>\n",
       "     <use style=\"fill:#1f77b4;stroke:#1f77b4;\" x=\"139.544525\" xlink:href=\"#mac7768e441\" y=\"100.739591\"/>\n",
       "     <use style=\"fill:#1f77b4;stroke:#1f77b4;\" x=\"139.835548\" xlink:href=\"#mac7768e441\" y=\"78.179856\"/>\n",
       "     <use style=\"fill:#1f77b4;stroke:#1f77b4;\" x=\"121.454417\" xlink:href=\"#mac7768e441\" y=\"74.248077\"/>\n",
       "     <use style=\"fill:#1f77b4;stroke:#1f77b4;\" x=\"125.662002\" xlink:href=\"#mac7768e441\" y=\"72.841404\"/>\n",
       "     <use style=\"fill:#1f77b4;stroke:#1f77b4;\" x=\"144.459374\" xlink:href=\"#mac7768e441\" y=\"93.249477\"/>\n",
       "     <use style=\"fill:#1f77b4;stroke:#1f77b4;\" x=\"170.891083\" xlink:href=\"#mac7768e441\" y=\"106.366603\"/>\n",
       "     <use style=\"fill:#1f77b4;stroke:#1f77b4;\" x=\"61.62354\" xlink:href=\"#mac7768e441\" y=\"26.294411\"/>\n",
       "     <use style=\"fill:#1f77b4;stroke:#1f77b4;\" x=\"114.633162\" xlink:href=\"#mac7768e441\" y=\"63.713599\"/>\n",
       "     <use style=\"fill:#1f77b4;stroke:#1f77b4;\" x=\"127.220828\" xlink:href=\"#mac7768e441\" y=\"76.599938\"/>\n",
       "     <use style=\"fill:#1f77b4;stroke:#1f77b4;\" x=\"101.723374\" xlink:href=\"#mac7768e441\" y=\"44.027416\"/>\n",
       "     <use style=\"fill:#1f77b4;stroke:#1f77b4;\" x=\"109.389979\" xlink:href=\"#mac7768e441\" y=\"40.342084\"/>\n",
       "     <use style=\"fill:#1f77b4;stroke:#1f77b4;\" x=\"139.004297\" xlink:href=\"#mac7768e441\" y=\"85.144111\"/>\n",
       "     <use style=\"fill:#1f77b4;stroke:#1f77b4;\" x=\"100.225867\" xlink:href=\"#mac7768e441\" y=\"31.904244\"/>\n",
       "     <use style=\"fill:#1f77b4;stroke:#1f77b4;\" x=\"145.076292\" xlink:href=\"#mac7768e441\" y=\"93.190098\"/>\n",
       "     <use style=\"fill:#1f77b4;stroke:#1f77b4;\" x=\"135.034775\" xlink:href=\"#mac7768e441\" y=\"79.139621\"/>\n",
       "     <use style=\"fill:#1f77b4;stroke:#1f77b4;\" x=\"140.759487\" xlink:href=\"#mac7768e441\" y=\"78.610159\"/>\n",
       "     <use style=\"fill:#1f77b4;stroke:#1f77b4;\" x=\"144.888107\" xlink:href=\"#mac7768e441\" y=\"92.316554\"/>\n",
       "     <use style=\"fill:#1f77b4;stroke:#1f77b4;\" x=\"140.794913\" xlink:href=\"#mac7768e441\" y=\"79.726088\"/>\n",
       "     <use style=\"fill:#1f77b4;stroke:#1f77b4;\" x=\"105.798163\" xlink:href=\"#mac7768e441\" y=\"59.671287\"/>\n",
       "     <use style=\"fill:#1f77b4;stroke:#1f77b4;\" x=\"98.7467\" xlink:href=\"#mac7768e441\" y=\"48.516559\"/>\n",
       "     <use style=\"fill:#1f77b4;stroke:#1f77b4;\" x=\"86.924113\" xlink:href=\"#mac7768e441\" y=\"53.630613\"/>\n",
       "     <use style=\"fill:#1f77b4;stroke:#1f77b4;\" x=\"118.687327\" xlink:href=\"#mac7768e441\" y=\"70.265847\"/>\n",
       "     <use style=\"fill:#1f77b4;stroke:#1f77b4;\" x=\"88.480943\" xlink:href=\"#mac7768e441\" y=\"65.205172\"/>\n",
       "     <use style=\"fill:#1f77b4;stroke:#1f77b4;\" x=\"147.102181\" xlink:href=\"#mac7768e441\" y=\"84.543232\"/>\n",
       "     <use style=\"fill:#1f77b4;stroke:#1f77b4;\" x=\"137.110684\" xlink:href=\"#mac7768e441\" y=\"73.046693\"/>\n",
       "     <use style=\"fill:#1f77b4;stroke:#1f77b4;\" x=\"135.673102\" xlink:href=\"#mac7768e441\" y=\"72.745978\"/>\n",
       "     <use style=\"fill:#1f77b4;stroke:#1f77b4;\" x=\"134.451611\" xlink:href=\"#mac7768e441\" y=\"72.188421\"/>\n",
       "     <use style=\"fill:#1f77b4;stroke:#1f77b4;\" x=\"146.28104\" xlink:href=\"#mac7768e441\" y=\"81.313424\"/>\n",
       "     <use style=\"fill:#1f77b4;stroke:#1f77b4;\" x=\"155.226069\" xlink:href=\"#mac7768e441\" y=\"97.292064\"/>\n",
       "     <use style=\"fill:#1f77b4;stroke:#1f77b4;\" x=\"118.423242\" xlink:href=\"#mac7768e441\" y=\"70.288499\"/>\n",
       "     <use style=\"fill:#1f77b4;stroke:#1f77b4;\" x=\"117.831759\" xlink:href=\"#mac7768e441\" y=\"91.189821\"/>\n",
       "     <use style=\"fill:#1f77b4;stroke:#1f77b4;\" x=\"145.616004\" xlink:href=\"#mac7768e441\" y=\"68.578118\"/>\n",
       "     <use style=\"fill:#1f77b4;stroke:#1f77b4;\" x=\"89.445803\" xlink:href=\"#mac7768e441\" y=\"52.883001\"/>\n",
       "     <use style=\"fill:#1f77b4;stroke:#1f77b4;\" x=\"80.103358\" xlink:href=\"#mac7768e441\" y=\"44.445704\"/>\n",
       "     <use style=\"fill:#1f77b4;stroke:#1f77b4;\" x=\"180.628397\" xlink:href=\"#mac7768e441\" y=\"111.764806\"/>\n",
       "     <use style=\"fill:#1f77b4;stroke:#1f77b4;\" x=\"106.816853\" xlink:href=\"#mac7768e441\" y=\"66.672066\"/>\n",
       "     <use style=\"fill:#1f77b4;stroke:#1f77b4;\" x=\"172.801408\" xlink:href=\"#mac7768e441\" y=\"96.923149\"/>\n",
       "     <use style=\"fill:#1f77b4;stroke:#1f77b4;\" x=\"131.247705\" xlink:href=\"#mac7768e441\" y=\"65.109311\"/>\n",
       "     <use style=\"fill:#1f77b4;stroke:#1f77b4;\" x=\"149.670524\" xlink:href=\"#mac7768e441\" y=\"82.183963\"/>\n",
       "     <use style=\"fill:#1f77b4;stroke:#1f77b4;\" x=\"187.131505\" xlink:href=\"#mac7768e441\" y=\"114.947703\"/>\n",
       "     <use style=\"fill:#1f77b4;stroke:#1f77b4;\" x=\"115.78606\" xlink:href=\"#mac7768e441\" y=\"69.77557\"/>\n",
       "     <use style=\"fill:#1f77b4;stroke:#1f77b4;\" x=\"117.909479\" xlink:href=\"#mac7768e441\" y=\"59.646227\"/>\n",
       "     <use style=\"fill:#1f77b4;stroke:#1f77b4;\" x=\"101.8734\" xlink:href=\"#mac7768e441\" y=\"55.68537\"/>\n",
       "     <use style=\"fill:#1f77b4;stroke:#1f77b4;\" x=\"119.002732\" xlink:href=\"#mac7768e441\" y=\"59.582628\"/>\n",
       "     <use style=\"fill:#1f77b4;stroke:#1f77b4;\" x=\"101.284238\" xlink:href=\"#mac7768e441\" y=\"60.070689\"/>\n",
       "     <use style=\"fill:#1f77b4;stroke:#1f77b4;\" x=\"145.083897\" xlink:href=\"#mac7768e441\" y=\"76.23918\"/>\n",
       "     <use style=\"fill:#1f77b4;stroke:#1f77b4;\" x=\"113.803063\" xlink:href=\"#mac7768e441\" y=\"55.673421\"/>\n",
       "     <use style=\"fill:#1f77b4;stroke:#1f77b4;\" x=\"89.282762\" xlink:href=\"#mac7768e441\" y=\"42.606551\"/>\n",
       "     <use style=\"fill:#1f77b4;stroke:#1f77b4;\" x=\"150.406212\" xlink:href=\"#mac7768e441\" y=\"91.453612\"/>\n",
       "     <use style=\"fill:#1f77b4;stroke:#1f77b4;\" x=\"71.528046\" xlink:href=\"#mac7768e441\" y=\"39.736507\"/>\n",
       "     <use style=\"fill:#1f77b4;stroke:#1f77b4;\" x=\"155.495687\" xlink:href=\"#mac7768e441\" y=\"93.331612\"/>\n",
       "     <use style=\"fill:#1f77b4;stroke:#1f77b4;\" x=\"118.935717\" xlink:href=\"#mac7768e441\" y=\"64.056185\"/>\n",
       "     <use style=\"fill:#1f77b4;stroke:#1f77b4;\" x=\"88.223031\" xlink:href=\"#mac7768e441\" y=\"48.990529\"/>\n",
       "     <use style=\"fill:#1f77b4;stroke:#1f77b4;\" x=\"104.430175\" xlink:href=\"#mac7768e441\" y=\"56.853615\"/>\n",
       "     <use style=\"fill:#1f77b4;stroke:#1f77b4;\" x=\"92.256198\" xlink:href=\"#mac7768e441\" y=\"46.366167\"/>\n",
       "     <use style=\"fill:#1f77b4;stroke:#1f77b4;\" x=\"123.959367\" xlink:href=\"#mac7768e441\" y=\"57.301493\"/>\n",
       "     <use style=\"fill:#1f77b4;stroke:#1f77b4;\" x=\"166.740821\" xlink:href=\"#mac7768e441\" y=\"105.430239\"/>\n",
       "     <use style=\"fill:#1f77b4;stroke:#1f77b4;\" x=\"108.111073\" xlink:href=\"#mac7768e441\" y=\"69.972085\"/>\n",
       "     <use style=\"fill:#1f77b4;stroke:#1f77b4;\" x=\"135.953139\" xlink:href=\"#mac7768e441\" y=\"84.630979\"/>\n",
       "     <use style=\"fill:#1f77b4;stroke:#1f77b4;\" x=\"118.225615\" xlink:href=\"#mac7768e441\" y=\"55.011767\"/>\n",
       "     <use style=\"fill:#1f77b4;stroke:#1f77b4;\" x=\"130.891866\" xlink:href=\"#mac7768e441\" y=\"71.531724\"/>\n",
       "     <use style=\"fill:#1f77b4;stroke:#1f77b4;\" x=\"120.952195\" xlink:href=\"#mac7768e441\" y=\"70.81796\"/>\n",
       "     <use style=\"fill:#1f77b4;stroke:#1f77b4;\" x=\"162.689192\" xlink:href=\"#mac7768e441\" y=\"94.782632\"/>\n",
       "     <use style=\"fill:#1f77b4;stroke:#1f77b4;\" x=\"108.535203\" xlink:href=\"#mac7768e441\" y=\"69.430361\"/>\n",
       "     <use style=\"fill:#1f77b4;stroke:#1f77b4;\" x=\"102.737635\" xlink:href=\"#mac7768e441\" y=\"55.557914\"/>\n",
       "     <use style=\"fill:#1f77b4;stroke:#1f77b4;\" x=\"96.997866\" xlink:href=\"#mac7768e441\" y=\"46.897716\"/>\n",
       "     <use style=\"fill:#1f77b4;stroke:#1f77b4;\" x=\"76.02035\" xlink:href=\"#mac7768e441\" y=\"31.726805\"/>\n",
       "     <use style=\"fill:#1f77b4;stroke:#1f77b4;\" x=\"118.845819\" xlink:href=\"#mac7768e441\" y=\"63.165025\"/>\n",
       "     <use style=\"fill:#1f77b4;stroke:#1f77b4;\" x=\"85.841606\" xlink:href=\"#mac7768e441\" y=\"31.085826\"/>\n",
       "     <use style=\"fill:#1f77b4;stroke:#1f77b4;\" x=\"145.253961\" xlink:href=\"#mac7768e441\" y=\"85.873189\"/>\n",
       "     <use style=\"fill:#1f77b4;stroke:#1f77b4;\" x=\"132.221066\" xlink:href=\"#mac7768e441\" y=\"82.924366\"/>\n",
       "     <use style=\"fill:#1f77b4;stroke:#1f77b4;\" x=\"122.555493\" xlink:href=\"#mac7768e441\" y=\"70.968864\"/>\n",
       "     <use style=\"fill:#1f77b4;stroke:#1f77b4;\" x=\"143.756064\" xlink:href=\"#mac7768e441\" y=\"85.427225\"/>\n",
       "     <use style=\"fill:#1f77b4;stroke:#1f77b4;\" x=\"132.963528\" xlink:href=\"#mac7768e441\" y=\"79.784835\"/>\n",
       "     <use style=\"fill:#1f77b4;stroke:#1f77b4;\" x=\"97.665053\" xlink:href=\"#mac7768e441\" y=\"63.677496\"/>\n",
       "     <use style=\"fill:#1f77b4;stroke:#1f77b4;\" x=\"142.868857\" xlink:href=\"#mac7768e441\" y=\"100.526876\"/>\n",
       "     <use style=\"fill:#1f77b4;stroke:#1f77b4;\" x=\"112.236496\" xlink:href=\"#mac7768e441\" y=\"69.276273\"/>\n",
       "     <use style=\"fill:#1f77b4;stroke:#1f77b4;\" x=\"160.077283\" xlink:href=\"#mac7768e441\" y=\"107.703889\"/>\n",
       "     <use style=\"fill:#1f77b4;stroke:#1f77b4;\" x=\"118.672811\" xlink:href=\"#mac7768e441\" y=\"73.553061\"/>\n",
       "     <use style=\"fill:#1f77b4;stroke:#1f77b4;\" x=\"114.113913\" xlink:href=\"#mac7768e441\" y=\"77.814513\"/>\n",
       "     <use style=\"fill:#1f77b4;stroke:#1f77b4;\" x=\"82.082552\" xlink:href=\"#mac7768e441\" y=\"59.679978\"/>\n",
       "     <use style=\"fill:#1f77b4;stroke:#1f77b4;\" x=\"148.297405\" xlink:href=\"#mac7768e441\" y=\"98.225865\"/>\n",
       "     <use style=\"fill:#1f77b4;stroke:#1f77b4;\" x=\"157.321652\" xlink:href=\"#mac7768e441\" y=\"107.099544\"/>\n",
       "     <use style=\"fill:#1f77b4;stroke:#1f77b4;\" x=\"105.54183\" xlink:href=\"#mac7768e441\" y=\"68.048433\"/>\n",
       "     <use style=\"fill:#1f77b4;stroke:#1f77b4;\" x=\"71.613682\" xlink:href=\"#mac7768e441\" y=\"38.282536\"/>\n",
       "     <use style=\"fill:#1f77b4;stroke:#1f77b4;\" x=\"153.866514\" xlink:href=\"#mac7768e441\" y=\"125.302767\"/>\n",
       "     <use style=\"fill:#1f77b4;stroke:#1f77b4;\" x=\"174.535004\" xlink:href=\"#mac7768e441\" y=\"109.986404\"/>\n",
       "     <use style=\"fill:#1f77b4;stroke:#1f77b4;\" x=\"152.793228\" xlink:href=\"#mac7768e441\" y=\"94.120778\"/>\n",
       "     <use style=\"fill:#1f77b4;stroke:#1f77b4;\" x=\"118.911586\" xlink:href=\"#mac7768e441\" y=\"59.988071\"/>\n",
       "     <use style=\"fill:#1f77b4;stroke:#1f77b4;\" x=\"140.375062\" xlink:href=\"#mac7768e441\" y=\"104.380672\"/>\n",
       "     <use style=\"fill:#1f77b4;stroke:#1f77b4;\" x=\"118.154563\" xlink:href=\"#mac7768e441\" y=\"60.882791\"/>\n",
       "     <use style=\"fill:#1f77b4;stroke:#1f77b4;\" x=\"82.885559\" xlink:href=\"#mac7768e441\" y=\"57.485412\"/>\n",
       "     <use style=\"fill:#1f77b4;stroke:#1f77b4;\" x=\"114.526949\" xlink:href=\"#mac7768e441\" y=\"67.892898\"/>\n",
       "     <use style=\"fill:#1f77b4;stroke:#1f77b4;\" x=\"105.879117\" xlink:href=\"#mac7768e441\" y=\"36.133492\"/>\n",
       "     <use style=\"fill:#1f77b4;stroke:#1f77b4;\" x=\"153.583403\" xlink:href=\"#mac7768e441\" y=\"94.94397\"/>\n",
       "     <use style=\"fill:#1f77b4;stroke:#1f77b4;\" x=\"125.109137\" xlink:href=\"#mac7768e441\" y=\"97.048433\"/>\n",
       "     <use style=\"fill:#1f77b4;stroke:#1f77b4;\" x=\"84.304134\" xlink:href=\"#mac7768e441\" y=\"39.08565\"/>\n",
       "     <use style=\"fill:#1f77b4;stroke:#1f77b4;\" x=\"124.91917\" xlink:href=\"#mac7768e441\" y=\"74.804229\"/>\n",
       "     <use style=\"fill:#1f77b4;stroke:#1f77b4;\" x=\"112.812542\" xlink:href=\"#mac7768e441\" y=\"61.90261\"/>\n",
       "     <use style=\"fill:#1f77b4;stroke:#1f77b4;\" x=\"127.926104\" xlink:href=\"#mac7768e441\" y=\"85.418807\"/>\n",
       "     <use style=\"fill:#1f77b4;stroke:#1f77b4;\" x=\"114.586637\" xlink:href=\"#mac7768e441\" y=\"69.996634\"/>\n",
       "     <use style=\"fill:#1f77b4;stroke:#1f77b4;\" x=\"93.907235\" xlink:href=\"#mac7768e441\" y=\"54.602794\"/>\n",
       "     <use style=\"fill:#1f77b4;stroke:#1f77b4;\" x=\"133.349358\" xlink:href=\"#mac7768e441\" y=\"79.494499\"/>\n",
       "     <use style=\"fill:#1f77b4;stroke:#1f77b4;\" x=\"130.656886\" xlink:href=\"#mac7768e441\" y=\"71.077297\"/>\n",
       "     <use style=\"fill:#1f77b4;stroke:#1f77b4;\" x=\"117.055552\" xlink:href=\"#mac7768e441\" y=\"67.711684\"/>\n",
       "     <use style=\"fill:#1f77b4;stroke:#1f77b4;\" x=\"105.084142\" xlink:href=\"#mac7768e441\" y=\"67.378282\"/>\n",
       "     <use style=\"fill:#1f77b4;stroke:#1f77b4;\" x=\"163.830495\" xlink:href=\"#mac7768e441\" y=\"88.729329\"/>\n",
       "     <use style=\"fill:#1f77b4;stroke:#1f77b4;\" x=\"102.455255\" xlink:href=\"#mac7768e441\" y=\"51.258323\"/>\n",
       "     <use style=\"fill:#1f77b4;stroke:#1f77b4;\" x=\"105.746512\" xlink:href=\"#mac7768e441\" y=\"55.243758\"/>\n",
       "     <use style=\"fill:#1f77b4;stroke:#1f77b4;\" x=\"155.966676\" xlink:href=\"#mac7768e441\" y=\"103.88593\"/>\n",
       "     <use style=\"fill:#1f77b4;stroke:#1f77b4;\" x=\"130.291639\" xlink:href=\"#mac7768e441\" y=\"69.49493\"/>\n",
       "     <use style=\"fill:#1f77b4;stroke:#1f77b4;\" x=\"89.356096\" xlink:href=\"#mac7768e441\" y=\"45.300088\"/>\n",
       "     <use style=\"fill:#1f77b4;stroke:#1f77b4;\" x=\"135.737761\" xlink:href=\"#mac7768e441\" y=\"87.680773\"/>\n",
       "     <use style=\"fill:#1f77b4;stroke:#1f77b4;\" x=\"133.300165\" xlink:href=\"#mac7768e441\" y=\"66.219936\"/>\n",
       "     <use style=\"fill:#1f77b4;stroke:#1f77b4;\" x=\"127.977646\" xlink:href=\"#mac7768e441\" y=\"80.688054\"/>\n",
       "     <use style=\"fill:#1f77b4;stroke:#1f77b4;\" x=\"145.137463\" xlink:href=\"#mac7768e441\" y=\"86.045153\"/>\n",
       "     <use style=\"fill:#1f77b4;stroke:#1f77b4;\" x=\"118.811852\" xlink:href=\"#mac7768e441\" y=\"41.116397\"/>\n",
       "     <use style=\"fill:#1f77b4;stroke:#1f77b4;\" x=\"137.40246\" xlink:href=\"#mac7768e441\" y=\"74.451276\"/>\n",
       "     <use style=\"fill:#1f77b4;stroke:#1f77b4;\" x=\"152.481594\" xlink:href=\"#mac7768e441\" y=\"85.833391\"/>\n",
       "     <use style=\"fill:#1f77b4;stroke:#1f77b4;\" x=\"84.978515\" xlink:href=\"#mac7768e441\" y=\"39.25758\"/>\n",
       "     <use style=\"fill:#1f77b4;stroke:#1f77b4;\" x=\"136.039331\" xlink:href=\"#mac7768e441\" y=\"66.9156\"/>\n",
       "     <use style=\"fill:#1f77b4;stroke:#1f77b4;\" x=\"125.898884\" xlink:href=\"#mac7768e441\" y=\"82.475852\"/>\n",
       "     <use style=\"fill:#1f77b4;stroke:#1f77b4;\" x=\"165.54473\" xlink:href=\"#mac7768e441\" y=\"91.211267\"/>\n",
       "     <use style=\"fill:#1f77b4;stroke:#1f77b4;\" x=\"114.042934\" xlink:href=\"#mac7768e441\" y=\"53.643395\"/>\n",
       "     <use style=\"fill:#1f77b4;stroke:#1f77b4;\" x=\"173.390058\" xlink:href=\"#mac7768e441\" y=\"121.096382\"/>\n",
       "     <use style=\"fill:#1f77b4;stroke:#1f77b4;\" x=\"120.026553\" xlink:href=\"#mac7768e441\" y=\"65.945102\"/>\n",
       "     <use style=\"fill:#1f77b4;stroke:#1f77b4;\" x=\"140.810783\" xlink:href=\"#mac7768e441\" y=\"80.603085\"/>\n",
       "     <use style=\"fill:#1f77b4;stroke:#1f77b4;\" x=\"128.295802\" xlink:href=\"#mac7768e441\" y=\"73.047828\"/>\n",
       "     <use style=\"fill:#1f77b4;stroke:#1f77b4;\" x=\"99.165123\" xlink:href=\"#mac7768e441\" y=\"43.910961\"/>\n",
       "     <use style=\"fill:#1f77b4;stroke:#1f77b4;\" x=\"142.742766\" xlink:href=\"#mac7768e441\" y=\"75.785542\"/>\n",
       "     <use style=\"fill:#1f77b4;stroke:#1f77b4;\" x=\"120.062412\" xlink:href=\"#mac7768e441\" y=\"79.069574\"/>\n",
       "     <use style=\"fill:#1f77b4;stroke:#1f77b4;\" x=\"145.489081\" xlink:href=\"#mac7768e441\" y=\"86.241955\"/>\n",
       "     <use style=\"fill:#1f77b4;stroke:#1f77b4;\" x=\"103.175893\" xlink:href=\"#mac7768e441\" y=\"56.007788\"/>\n",
       "     <use style=\"fill:#1f77b4;stroke:#1f77b4;\" x=\"111.029178\" xlink:href=\"#mac7768e441\" y=\"48.434666\"/>\n",
       "     <use style=\"fill:#1f77b4;stroke:#1f77b4;\" x=\"100.630252\" xlink:href=\"#mac7768e441\" y=\"61.810326\"/>\n",
       "     <use style=\"fill:#1f77b4;stroke:#1f77b4;\" x=\"104.880267\" xlink:href=\"#mac7768e441\" y=\"54.192072\"/>\n",
       "     <use style=\"fill:#1f77b4;stroke:#1f77b4;\" x=\"141.121481\" xlink:href=\"#mac7768e441\" y=\"100.097092\"/>\n",
       "     <use style=\"fill:#1f77b4;stroke:#1f77b4;\" x=\"74.87391\" xlink:href=\"#mac7768e441\" y=\"30.521561\"/>\n",
       "     <use style=\"fill:#1f77b4;stroke:#1f77b4;\" x=\"128.33075\" xlink:href=\"#mac7768e441\" y=\"76.300744\"/>\n",
       "     <use style=\"fill:#1f77b4;stroke:#1f77b4;\" x=\"114.42052\" xlink:href=\"#mac7768e441\" y=\"67.228531\"/>\n",
       "     <use style=\"fill:#1f77b4;stroke:#1f77b4;\" x=\"151.629063\" xlink:href=\"#mac7768e441\" y=\"87.821103\"/>\n",
       "     <use style=\"fill:#1f77b4;stroke:#1f77b4;\" x=\"123.828744\" xlink:href=\"#mac7768e441\" y=\"69.307407\"/>\n",
       "     <use style=\"fill:#1f77b4;stroke:#1f77b4;\" x=\"146.769067\" xlink:href=\"#mac7768e441\" y=\"112.130524\"/>\n",
       "     <use style=\"fill:#1f77b4;stroke:#1f77b4;\" x=\"143.786048\" xlink:href=\"#mac7768e441\" y=\"95.367663\"/>\n",
       "     <use style=\"fill:#1f77b4;stroke:#1f77b4;\" x=\"133.478057\" xlink:href=\"#mac7768e441\" y=\"69.928379\"/>\n",
       "     <use style=\"fill:#1f77b4;stroke:#1f77b4;\" x=\"114.859257\" xlink:href=\"#mac7768e441\" y=\"64.20665\"/>\n",
       "     <use style=\"fill:#1f77b4;stroke:#1f77b4;\" x=\"128.263054\" xlink:href=\"#mac7768e441\" y=\"77.663774\"/>\n",
       "    </g>\n",
       "   </g>\n",
       "   <g id=\"matplotlib.axis_1\">\n",
       "    <g id=\"xtick_1\">\n",
       "     <g id=\"line2d_1\">\n",
       "      <defs>\n",
       "       <path d=\"M 0 0 \n",
       "L 0 3.5 \n",
       "\" id=\"m2751e8e72f\" style=\"stroke:#000000;stroke-width:0.8;\"/>\n",
       "      </defs>\n",
       "      <g>\n",
       "       <use style=\"stroke:#000000;stroke-width:0.8;\" x=\"72.485815\" xlink:href=\"#m2751e8e72f\" y=\"143.1\"/>\n",
       "      </g>\n",
       "     </g>\n",
       "     <g id=\"text_1\">\n",
       "      <!-- −2 -->\n",
       "      <g transform=\"translate(65.114721 157.698438)scale(0.1 -0.1)\">\n",
       "       <defs>\n",
       "        <path d=\"M 678 2272 \n",
       "L 4684 2272 \n",
       "L 4684 1741 \n",
       "L 678 1741 \n",
       "L 678 2272 \n",
       "z\n",
       "\" id=\"DejaVuSans-2212\" transform=\"scale(0.015625)\"/>\n",
       "        <path d=\"M 1228 531 \n",
       "L 3431 531 \n",
       "L 3431 0 \n",
       "L 469 0 \n",
       "L 469 531 \n",
       "Q 828 903 1448 1529 \n",
       "Q 2069 2156 2228 2338 \n",
       "Q 2531 2678 2651 2914 \n",
       "Q 2772 3150 2772 3378 \n",
       "Q 2772 3750 2511 3984 \n",
       "Q 2250 4219 1831 4219 \n",
       "Q 1534 4219 1204 4116 \n",
       "Q 875 4013 500 3803 \n",
       "L 500 4441 \n",
       "Q 881 4594 1212 4672 \n",
       "Q 1544 4750 1819 4750 \n",
       "Q 2544 4750 2975 4387 \n",
       "Q 3406 4025 3406 3419 \n",
       "Q 3406 3131 3298 2873 \n",
       "Q 3191 2616 2906 2266 \n",
       "Q 2828 2175 2409 1742 \n",
       "Q 1991 1309 1228 531 \n",
       "z\n",
       "\" id=\"DejaVuSans-32\" transform=\"scale(0.015625)\"/>\n",
       "       </defs>\n",
       "       <use xlink:href=\"#DejaVuSans-2212\"/>\n",
       "       <use x=\"83.789062\" xlink:href=\"#DejaVuSans-32\"/>\n",
       "      </g>\n",
       "     </g>\n",
       "    </g>\n",
       "    <g id=\"xtick_2\">\n",
       "     <g id=\"line2d_2\">\n",
       "      <g>\n",
       "       <use style=\"stroke:#000000;stroke-width:0.8;\" x=\"121.933143\" xlink:href=\"#m2751e8e72f\" y=\"143.1\"/>\n",
       "      </g>\n",
       "     </g>\n",
       "     <g id=\"text_2\">\n",
       "      <!-- 0 -->\n",
       "      <g transform=\"translate(118.751893 157.698438)scale(0.1 -0.1)\">\n",
       "       <defs>\n",
       "        <path d=\"M 2034 4250 \n",
       "Q 1547 4250 1301 3770 \n",
       "Q 1056 3291 1056 2328 \n",
       "Q 1056 1369 1301 889 \n",
       "Q 1547 409 2034 409 \n",
       "Q 2525 409 2770 889 \n",
       "Q 3016 1369 3016 2328 \n",
       "Q 3016 3291 2770 3770 \n",
       "Q 2525 4250 2034 4250 \n",
       "z\n",
       "M 2034 4750 \n",
       "Q 2819 4750 3233 4129 \n",
       "Q 3647 3509 3647 2328 \n",
       "Q 3647 1150 3233 529 \n",
       "Q 2819 -91 2034 -91 \n",
       "Q 1250 -91 836 529 \n",
       "Q 422 1150 422 2328 \n",
       "Q 422 3509 836 4129 \n",
       "Q 1250 4750 2034 4750 \n",
       "z\n",
       "\" id=\"DejaVuSans-30\" transform=\"scale(0.015625)\"/>\n",
       "       </defs>\n",
       "       <use xlink:href=\"#DejaVuSans-30\"/>\n",
       "      </g>\n",
       "     </g>\n",
       "    </g>\n",
       "    <g id=\"xtick_3\">\n",
       "     <g id=\"line2d_3\">\n",
       "      <g>\n",
       "       <use style=\"stroke:#000000;stroke-width:0.8;\" x=\"171.380472\" xlink:href=\"#m2751e8e72f\" y=\"143.1\"/>\n",
       "      </g>\n",
       "     </g>\n",
       "     <g id=\"text_3\">\n",
       "      <!-- 2 -->\n",
       "      <g transform=\"translate(168.199222 157.698438)scale(0.1 -0.1)\">\n",
       "       <use xlink:href=\"#DejaVuSans-32\"/>\n",
       "      </g>\n",
       "     </g>\n",
       "    </g>\n",
       "    <g id=\"xtick_4\">\n",
       "     <g id=\"line2d_4\">\n",
       "      <g>\n",
       "       <use style=\"stroke:#000000;stroke-width:0.8;\" x=\"220.8278\" xlink:href=\"#m2751e8e72f\" y=\"143.1\"/>\n",
       "      </g>\n",
       "     </g>\n",
       "     <g id=\"text_4\">\n",
       "      <!-- 4 -->\n",
       "      <g transform=\"translate(217.64655 157.698438)scale(0.1 -0.1)\">\n",
       "       <defs>\n",
       "        <path d=\"M 2419 4116 \n",
       "L 825 1625 \n",
       "L 2419 1625 \n",
       "L 2419 4116 \n",
       "z\n",
       "M 2253 4666 \n",
       "L 3047 4666 \n",
       "L 3047 1625 \n",
       "L 3713 1625 \n",
       "L 3713 1100 \n",
       "L 3047 1100 \n",
       "L 3047 0 \n",
       "L 2419 0 \n",
       "L 2419 1100 \n",
       "L 313 1100 \n",
       "L 313 1709 \n",
       "L 2253 4666 \n",
       "z\n",
       "\" id=\"DejaVuSans-34\" transform=\"scale(0.015625)\"/>\n",
       "       </defs>\n",
       "       <use xlink:href=\"#DejaVuSans-34\"/>\n",
       "      </g>\n",
       "     </g>\n",
       "    </g>\n",
       "   </g>\n",
       "   <g id=\"matplotlib.axis_2\">\n",
       "    <g id=\"ytick_1\">\n",
       "     <g id=\"line2d_5\">\n",
       "      <defs>\n",
       "       <path d=\"M 0 0 \n",
       "L -3.5 0 \n",
       "\" id=\"m3ac3e9e4ab\" style=\"stroke:#000000;stroke-width:0.8;\"/>\n",
       "      </defs>\n",
       "      <g>\n",
       "       <use style=\"stroke:#000000;stroke-width:0.8;\" x=\"28.942188\" xlink:href=\"#m3ac3e9e4ab\" y=\"117.828039\"/>\n",
       "      </g>\n",
       "     </g>\n",
       "     <g id=\"text_5\">\n",
       "      <!-- −5 -->\n",
       "      <g transform=\"translate(7.2 121.627258)scale(0.1 -0.1)\">\n",
       "       <defs>\n",
       "        <path d=\"M 691 4666 \n",
       "L 3169 4666 \n",
       "L 3169 4134 \n",
       "L 1269 4134 \n",
       "L 1269 2991 \n",
       "Q 1406 3038 1543 3061 \n",
       "Q 1681 3084 1819 3084 \n",
       "Q 2600 3084 3056 2656 \n",
       "Q 3513 2228 3513 1497 \n",
       "Q 3513 744 3044 326 \n",
       "Q 2575 -91 1722 -91 \n",
       "Q 1428 -91 1123 -41 \n",
       "Q 819 9 494 109 \n",
       "L 494 744 \n",
       "Q 775 591 1075 516 \n",
       "Q 1375 441 1709 441 \n",
       "Q 2250 441 2565 725 \n",
       "Q 2881 1009 2881 1497 \n",
       "Q 2881 1984 2565 2268 \n",
       "Q 2250 2553 1709 2553 \n",
       "Q 1456 2553 1204 2497 \n",
       "Q 953 2441 691 2322 \n",
       "L 691 4666 \n",
       "z\n",
       "\" id=\"DejaVuSans-35\" transform=\"scale(0.015625)\"/>\n",
       "       </defs>\n",
       "       <use xlink:href=\"#DejaVuSans-2212\"/>\n",
       "       <use x=\"83.789062\" xlink:href=\"#DejaVuSans-35\"/>\n",
       "      </g>\n",
       "     </g>\n",
       "    </g>\n",
       "    <g id=\"ytick_2\">\n",
       "     <g id=\"line2d_6\">\n",
       "      <g>\n",
       "       <use style=\"stroke:#000000;stroke-width:0.8;\" x=\"28.942188\" xlink:href=\"#m3ac3e9e4ab\" y=\"91.944809\"/>\n",
       "      </g>\n",
       "     </g>\n",
       "     <g id=\"text_6\">\n",
       "      <!-- 0 -->\n",
       "      <g transform=\"translate(15.579688 95.744028)scale(0.1 -0.1)\">\n",
       "       <use xlink:href=\"#DejaVuSans-30\"/>\n",
       "      </g>\n",
       "     </g>\n",
       "    </g>\n",
       "    <g id=\"ytick_3\">\n",
       "     <g id=\"line2d_7\">\n",
       "      <g>\n",
       "       <use style=\"stroke:#000000;stroke-width:0.8;\" x=\"28.942188\" xlink:href=\"#m3ac3e9e4ab\" y=\"66.061579\"/>\n",
       "      </g>\n",
       "     </g>\n",
       "     <g id=\"text_7\">\n",
       "      <!-- 5 -->\n",
       "      <g transform=\"translate(15.579688 69.860798)scale(0.1 -0.1)\">\n",
       "       <use xlink:href=\"#DejaVuSans-35\"/>\n",
       "      </g>\n",
       "     </g>\n",
       "    </g>\n",
       "    <g id=\"ytick_4\">\n",
       "     <g id=\"line2d_8\">\n",
       "      <g>\n",
       "       <use style=\"stroke:#000000;stroke-width:0.8;\" x=\"28.942188\" xlink:href=\"#m3ac3e9e4ab\" y=\"40.178349\"/>\n",
       "      </g>\n",
       "     </g>\n",
       "     <g id=\"text_8\">\n",
       "      <!-- 10 -->\n",
       "      <g transform=\"translate(9.217188 43.977568)scale(0.1 -0.1)\">\n",
       "       <defs>\n",
       "        <path d=\"M 794 531 \n",
       "L 1825 531 \n",
       "L 1825 4091 \n",
       "L 703 3866 \n",
       "L 703 4441 \n",
       "L 1819 4666 \n",
       "L 2450 4666 \n",
       "L 2450 531 \n",
       "L 3481 531 \n",
       "L 3481 0 \n",
       "L 794 0 \n",
       "L 794 531 \n",
       "z\n",
       "\" id=\"DejaVuSans-31\" transform=\"scale(0.015625)\"/>\n",
       "       </defs>\n",
       "       <use xlink:href=\"#DejaVuSans-31\"/>\n",
       "       <use x=\"63.623047\" xlink:href=\"#DejaVuSans-30\"/>\n",
       "      </g>\n",
       "     </g>\n",
       "    </g>\n",
       "    <g id=\"ytick_5\">\n",
       "     <g id=\"line2d_9\">\n",
       "      <g>\n",
       "       <use style=\"stroke:#000000;stroke-width:0.8;\" x=\"28.942188\" xlink:href=\"#m3ac3e9e4ab\" y=\"14.295119\"/>\n",
       "      </g>\n",
       "     </g>\n",
       "     <g id=\"text_9\">\n",
       "      <!-- 15 -->\n",
       "      <g transform=\"translate(9.217188 18.094338)scale(0.1 -0.1)\">\n",
       "       <use xlink:href=\"#DejaVuSans-31\"/>\n",
       "       <use x=\"63.623047\" xlink:href=\"#DejaVuSans-35\"/>\n",
       "      </g>\n",
       "     </g>\n",
       "    </g>\n",
       "   </g>\n",
       "   <g id=\"patch_3\">\n",
       "    <path d=\"M 28.942188 143.1 \n",
       "L 28.942188 7.2 \n",
       "\" style=\"fill:none;stroke:#000000;stroke-linecap:square;stroke-linejoin:miter;stroke-width:0.8;\"/>\n",
       "   </g>\n",
       "   <g id=\"patch_4\">\n",
       "    <path d=\"M 224.242188 143.1 \n",
       "L 224.242188 7.2 \n",
       "\" style=\"fill:none;stroke:#000000;stroke-linecap:square;stroke-linejoin:miter;stroke-width:0.8;\"/>\n",
       "   </g>\n",
       "   <g id=\"patch_5\">\n",
       "    <path d=\"M 28.942188 143.1 \n",
       "L 224.242188 143.1 \n",
       "\" style=\"fill:none;stroke:#000000;stroke-linecap:square;stroke-linejoin:miter;stroke-width:0.8;\"/>\n",
       "   </g>\n",
       "   <g id=\"patch_6\">\n",
       "    <path d=\"M 28.942188 7.2 \n",
       "L 224.242188 7.2 \n",
       "\" style=\"fill:none;stroke:#000000;stroke-linecap:square;stroke-linejoin:miter;stroke-width:0.8;\"/>\n",
       "   </g>\n",
       "  </g>\n",
       " </g>\n",
       " <defs>\n",
       "  <clipPath id=\"pb98426a406\">\n",
       "   <rect height=\"135.9\" width=\"195.3\" x=\"28.942188\" y=\"7.2\"/>\n",
       "  </clipPath>\n",
       " </defs>\n",
       "</svg>\n"
      ],
      "text/plain": [
       "<Figure size 252x180 with 1 Axes>"
      ]
     },
     "metadata": {
      "needs_background": "light"
     },
     "output_type": "display_data"
    }
   ],
   "source": [
    "d2l.set_figsize()\n",
    "d2l.plt.scatter(features[:,1].detach().numpy(),labels.detach(),1)"
   ]
  },
  {
   "cell_type": "code",
   "execution_count": 85,
   "id": "31eba3c5",
   "metadata": {},
   "outputs": [],
   "source": [
    "def data_iter(batch_size,features,labels):\n",
    "    num_examples = len(features)\n",
    "    indices = list(range(num_examples))\n",
    "    random.shuffle(indices)\n",
    "    for i in range(0,num_examples,batch_size):\n",
    "        batch_indices = torch.tensor(\n",
    "        indices[i:min(i+batch_size,num_examples)]\n",
    "        )\n",
    "        yield features[batch_indices],labels[batch_indices]"
   ]
  },
  {
   "cell_type": "code",
   "execution_count": 86,
   "id": "42477cd6",
   "metadata": {},
   "outputs": [
    {
     "name": "stdout",
     "output_type": "stream",
     "text": [
      "tensor([[ 1.3245,  0.1693],\n",
      "        [ 0.6890, -1.3354],\n",
      "        [-0.8665,  0.3056],\n",
      "        [ 1.5344,  0.8868],\n",
      "        [ 0.3424, -0.4260],\n",
      "        [ 1.0848,  0.8070],\n",
      "        [ 1.2067, -0.1500],\n",
      "        [ 1.5173,  0.7346],\n",
      "        [-0.8166, -1.6615],\n",
      "        [ 1.4287, -0.6872]]) \n",
      " tensor([[ 6.2785],\n",
      "        [10.1244],\n",
      "        [ 1.4276],\n",
      "        [ 4.2474],\n",
      "        [ 6.3374],\n",
      "        [ 3.6150],\n",
      "        [ 7.1346],\n",
      "        [ 4.7258],\n",
      "        [ 8.2180],\n",
      "        [ 9.3895]])\n"
     ]
    }
   ],
   "source": [
    "batch_size = 10\n",
    "for X,y in data_iter(batch_size,features,labels):\n",
    "    print(X,'\\n',y)\n",
    "    break"
   ]
  },
  {
   "cell_type": "code",
   "execution_count": 87,
   "id": "2658429b",
   "metadata": {},
   "outputs": [],
   "source": [
    "w = torch.normal(0,0.01,size=(2,1),requires_grad=True)\n",
    "b = torch.zeros(1,requires_grad=True)"
   ]
  },
  {
   "cell_type": "code",
   "execution_count": 88,
   "id": "c49d6616",
   "metadata": {},
   "outputs": [],
   "source": [
    "def linreg(X,w,b):\n",
    "    return torch.matmul(X,w)+b"
   ]
  },
  {
   "cell_type": "code",
   "execution_count": 89,
   "id": "ee3ea9a6",
   "metadata": {},
   "outputs": [],
   "source": [
    "def squared_loss(y_hat,y):\n",
    "    return (y_hat-y).reshape(y_hat.shape)**2/2"
   ]
  },
  {
   "cell_type": "code",
   "execution_count": 90,
   "id": "e2a05e2f",
   "metadata": {},
   "outputs": [],
   "source": [
    "def sgd(params,lr,batch_size):\n",
    "    with torch.no_grad():\n",
    "        for param in params:\n",
    "            param -= lr * param.grad / batch_size\n",
    "            param.grad.zero_()"
   ]
  },
  {
   "cell_type": "code",
   "execution_count": 94,
   "id": "d6f1e872",
   "metadata": {},
   "outputs": [
    {
     "name": "stdout",
     "output_type": "stream",
     "text": [
      "epoch 1 tensor(5.0599e-05)\n",
      "epoch 2 tensor(5.0610e-05)\n",
      "epoch 3 tensor(5.0483e-05)\n"
     ]
    }
   ],
   "source": [
    "lr = 0.03\n",
    "num_epochs = 3\n",
    "net = linreg\n",
    "loss = squared_loss\n",
    "\n",
    "for epoch in range(num_epochs):\n",
    "    for X,y in data_iter(batch_size,features,labels):\n",
    "        l = loss(net(X,w,b),y)\n",
    "        l.sum().backward()\n",
    "        sgd([w,b],lr,batch_size)\n",
    "    \n",
    "    with torch.no_grad():\n",
    "        train_l = loss(net(features,w,b),labels)\n",
    "        print(f'epoch {epoch+1}',train_l.mean())\n",
    "\n",
    "\n",
    "\n"
   ]
  },
  {
   "cell_type": "code",
   "execution_count": 96,
   "id": "9cba9642",
   "metadata": {},
   "outputs": [],
   "source": [
    "import numpy as np\n",
    "import torch\n",
    "from torch.utils import data\n",
    "from d2l import torch as d2l"
   ]
  },
  {
   "cell_type": "code",
   "execution_count": 107,
   "id": "66e30028",
   "metadata": {},
   "outputs": [],
   "source": [
    "def load_array(data_arrays,batch_size,is_train=True):\n",
    "    dataset = data.TensorDataset(*data_arrays)\n",
    "    return data.DataLoader(dataset,batch_size,shuffle=is_train)\n",
    "\n",
    "batch_size = 10\n",
    "data_iter = load_array((features,labels),batch_size)"
   ]
  },
  {
   "cell_type": "code",
   "execution_count": 98,
   "id": "14e64b78",
   "metadata": {},
   "outputs": [],
   "source": [
    "from torch import nn"
   ]
  },
  {
   "cell_type": "code",
   "execution_count": 110,
   "id": "68e7be27",
   "metadata": {},
   "outputs": [],
   "source": [
    "net = nn.Sequential(nn.Linear(2,1))"
   ]
  },
  {
   "cell_type": "code",
   "execution_count": 111,
   "id": "55998481",
   "metadata": {},
   "outputs": [
    {
     "data": {
      "text/plain": [
       "(tensor([[ 0.0106, -0.0082]]), tensor([0.]))"
      ]
     },
     "execution_count": 111,
     "metadata": {},
     "output_type": "execute_result"
    }
   ],
   "source": [
    "net[0].weight.data.normal_(0,0.01),net[0].bias.data.fill_(0)"
   ]
  },
  {
   "cell_type": "code",
   "execution_count": 102,
   "id": "c416616b",
   "metadata": {},
   "outputs": [],
   "source": [
    "loss = nn.MSELoss()"
   ]
  },
  {
   "cell_type": "code",
   "execution_count": 118,
   "id": "e1f6b466",
   "metadata": {},
   "outputs": [],
   "source": [
    "trainer = torch.optim.SGD(net.parameters(),lr=0.003)"
   ]
  },
  {
   "cell_type": "code",
   "execution_count": 119,
   "id": "f73411de",
   "metadata": {},
   "outputs": [
    {
     "name": "stdout",
     "output_type": "stream",
     "text": [
      "epoch 1,loss 10.737113\n",
      "epoch 2,loss 3.224311\n",
      "epoch 3,loss 0.968465\n",
      "epoch 4,loss 0.291007\n",
      "epoch 5,loss 0.087538\n",
      "epoch 6,loss 0.026383\n",
      "epoch 7,loss 0.008000\n",
      "epoch 8,loss 0.002477\n",
      "epoch 9,loss 0.000818\n",
      "epoch 10,loss 0.000315\n",
      "epoch 11,loss 0.000163\n",
      "epoch 12,loss 0.000117\n",
      "epoch 13,loss 0.000103\n",
      "epoch 14,loss 0.000099\n",
      "epoch 15,loss 0.000097\n",
      "epoch 16,loss 0.000097\n",
      "epoch 17,loss 0.000097\n",
      "epoch 18,loss 0.000097\n",
      "epoch 19,loss 0.000097\n",
      "epoch 20,loss 0.000097\n",
      "epoch 21,loss 0.000097\n",
      "epoch 22,loss 0.000097\n",
      "epoch 23,loss 0.000097\n",
      "epoch 24,loss 0.000097\n",
      "epoch 25,loss 0.000097\n",
      "epoch 26,loss 0.000097\n",
      "epoch 27,loss 0.000097\n",
      "epoch 28,loss 0.000097\n",
      "epoch 29,loss 0.000097\n",
      "epoch 30,loss 0.000097\n",
      "epoch 31,loss 0.000097\n",
      "epoch 32,loss 0.000097\n",
      "epoch 33,loss 0.000097\n",
      "epoch 34,loss 0.000097\n",
      "epoch 35,loss 0.000097\n",
      "epoch 36,loss 0.000097\n",
      "epoch 37,loss 0.000097\n",
      "epoch 38,loss 0.000097\n",
      "epoch 39,loss 0.000097\n",
      "epoch 40,loss 0.000097\n",
      "epoch 41,loss 0.000097\n",
      "epoch 42,loss 0.000097\n",
      "epoch 43,loss 0.000097\n",
      "epoch 44,loss 0.000097\n",
      "epoch 45,loss 0.000097\n",
      "epoch 46,loss 0.000097\n",
      "epoch 47,loss 0.000097\n",
      "epoch 48,loss 0.000097\n",
      "epoch 49,loss 0.000097\n",
      "epoch 50,loss 0.000097\n",
      "epoch 51,loss 0.000097\n",
      "epoch 52,loss 0.000097\n",
      "epoch 53,loss 0.000097\n",
      "epoch 54,loss 0.000097\n",
      "epoch 55,loss 0.000097\n",
      "epoch 56,loss 0.000097\n",
      "epoch 57,loss 0.000097\n",
      "epoch 58,loss 0.000097\n",
      "epoch 59,loss 0.000097\n",
      "epoch 60,loss 0.000097\n",
      "epoch 61,loss 0.000097\n",
      "epoch 62,loss 0.000097\n",
      "epoch 63,loss 0.000097\n",
      "epoch 64,loss 0.000097\n",
      "epoch 65,loss 0.000097\n",
      "epoch 66,loss 0.000097\n",
      "epoch 67,loss 0.000097\n",
      "epoch 68,loss 0.000097\n",
      "epoch 69,loss 0.000097\n",
      "epoch 70,loss 0.000097\n",
      "epoch 71,loss 0.000097\n",
      "epoch 72,loss 0.000097\n",
      "epoch 73,loss 0.000097\n",
      "epoch 74,loss 0.000097\n",
      "epoch 75,loss 0.000097\n",
      "epoch 76,loss 0.000097\n",
      "epoch 77,loss 0.000097\n",
      "epoch 78,loss 0.000097\n",
      "epoch 79,loss 0.000097\n",
      "epoch 80,loss 0.000097\n",
      "epoch 81,loss 0.000097\n",
      "epoch 82,loss 0.000097\n",
      "epoch 83,loss 0.000097\n",
      "epoch 84,loss 0.000097\n",
      "epoch 85,loss 0.000097\n",
      "epoch 86,loss 0.000097\n",
      "epoch 87,loss 0.000097\n",
      "epoch 88,loss 0.000097\n",
      "epoch 89,loss 0.000097\n",
      "epoch 90,loss 0.000097\n",
      "epoch 91,loss 0.000097\n",
      "epoch 92,loss 0.000097\n",
      "epoch 93,loss 0.000097\n",
      "epoch 94,loss 0.000097\n",
      "epoch 95,loss 0.000097\n",
      "epoch 96,loss 0.000097\n",
      "epoch 97,loss 0.000097\n",
      "epoch 98,loss 0.000097\n",
      "epoch 99,loss 0.000097\n",
      "epoch 100,loss 0.000097\n"
     ]
    }
   ],
   "source": [
    "num_epochs = 100\n",
    "for epoch in range(num_epochs):\n",
    "    for X,y in data_iter:\n",
    "        l = loss(net(X),y)\n",
    "        trainer.zero_grad()\n",
    "        l.backward()\n",
    "        trainer.step()\n",
    "    l = loss(net(features),labels)\n",
    "    print(f'epoch {epoch+1},loss {l:f}')"
   ]
  },
  {
   "cell_type": "code",
   "execution_count": 2,
   "id": "9b627355",
   "metadata": {},
   "outputs": [],
   "source": [
    "x = torch.arange(12)"
   ]
  },
  {
   "cell_type": "code",
   "execution_count": null,
   "id": "9c898a89",
   "metadata": {},
   "outputs": [],
   "source": []
  },
  {
   "cell_type": "code",
   "execution_count": 3,
   "id": "b9bde4db",
   "metadata": {},
   "outputs": [
    {
     "data": {
      "text/plain": [
       "tensor([ 0,  1,  2,  3,  4,  5,  6,  7,  8,  9, 10, 11])"
      ]
     },
     "execution_count": 3,
     "metadata": {},
     "output_type": "execute_result"
    }
   ],
   "source": [
    "x"
   ]
  },
  {
   "cell_type": "code",
   "execution_count": 4,
   "id": "5cddce28",
   "metadata": {},
   "outputs": [
    {
     "data": {
      "text/plain": [
       "torch.Size([12])"
      ]
     },
     "execution_count": 4,
     "metadata": {},
     "output_type": "execute_result"
    }
   ],
   "source": [
    "x.shape"
   ]
  },
  {
   "cell_type": "code",
   "execution_count": 5,
   "id": "91895ebd",
   "metadata": {},
   "outputs": [],
   "source": [
    "X = x.reshape(3,4)"
   ]
  },
  {
   "cell_type": "code",
   "execution_count": 6,
   "id": "6fc6e8aa",
   "metadata": {},
   "outputs": [
    {
     "data": {
      "text/plain": [
       "tensor([[ 0,  1,  2,  3],\n",
       "        [ 4,  5,  6,  7],\n",
       "        [ 8,  9, 10, 11]])"
      ]
     },
     "execution_count": 6,
     "metadata": {},
     "output_type": "execute_result"
    }
   ],
   "source": [
    "X"
   ]
  },
  {
   "cell_type": "code",
   "execution_count": 11,
   "id": "ce01bfa2",
   "metadata": {},
   "outputs": [],
   "source": [
    "x = torch.tensor([[[1,2],[3,4]]])"
   ]
  },
  {
   "cell_type": "code",
   "execution_count": 12,
   "id": "8d049585",
   "metadata": {},
   "outputs": [
    {
     "data": {
      "text/plain": [
       "torch.Size([1, 2, 2])"
      ]
     },
     "execution_count": 12,
     "metadata": {},
     "output_type": "execute_result"
    }
   ],
   "source": [
    "x.shape"
   ]
  },
  {
   "cell_type": "code",
   "execution_count": 15,
   "id": "ba51893f",
   "metadata": {},
   "outputs": [
    {
     "data": {
      "text/plain": [
       "(tensor([ 3.,  4.,  5., 10.]),\n",
       " tensor([-1.,  0.,  1.,  6.]),\n",
       " tensor([ 2.,  4.,  6., 16.]),\n",
       " tensor([0.5000, 1.0000, 1.5000, 4.0000]),\n",
       " tensor([ 1.,  4.,  9., 64.]))"
      ]
     },
     "execution_count": 15,
     "metadata": {},
     "output_type": "execute_result"
    }
   ],
   "source": [
    "x = torch.tensor([1.0,2,3,8])\n",
    "y = torch.tensor([2,2,2,2])\n",
    "x + y,x-y,x*y,x/y,x**y"
   ]
  },
  {
   "cell_type": "code",
   "execution_count": 16,
   "id": "15bda7b6",
   "metadata": {},
   "outputs": [
    {
     "data": {
      "text/plain": [
       "tensor([2.7183e+00, 7.3891e+00, 2.0086e+01, 2.9810e+03])"
      ]
     },
     "execution_count": 16,
     "metadata": {},
     "output_type": "execute_result"
    }
   ],
   "source": [
    "torch.exp(x)"
   ]
  },
  {
   "cell_type": "code",
   "execution_count": 17,
   "id": "546686ef",
   "metadata": {},
   "outputs": [],
   "source": [
    "X = torch.arange(12,dtype=torch.float32).reshape(3,4)"
   ]
  },
  {
   "cell_type": "code",
   "execution_count": 19,
   "id": "198f2d5c",
   "metadata": {},
   "outputs": [],
   "source": [
    "Y = torch.tensor([[2.0,1,4,3],[1,2,3,4],[4,3,2,1]])"
   ]
  },
  {
   "cell_type": "code",
   "execution_count": 21,
   "id": "6046dbbd",
   "metadata": {},
   "outputs": [
    {
     "data": {
      "text/plain": [
       "(tensor([[ 0.,  1.,  2.,  3.],\n",
       "         [ 4.,  5.,  6.,  7.],\n",
       "         [ 8.,  9., 10., 11.],\n",
       "         [ 2.,  1.,  4.,  3.],\n",
       "         [ 1.,  2.,  3.,  4.],\n",
       "         [ 4.,  3.,  2.,  1.]]),\n",
       " tensor([[ 0.,  1.,  2.,  3.,  2.,  1.,  4.,  3.],\n",
       "         [ 4.,  5.,  6.,  7.,  1.,  2.,  3.,  4.],\n",
       "         [ 8.,  9., 10., 11.,  4.,  3.,  2.,  1.]]))"
      ]
     },
     "execution_count": 21,
     "metadata": {},
     "output_type": "execute_result"
    }
   ],
   "source": [
    "torch.cat((X,Y),dim=0),torch.cat((X,Y),dim=1)"
   ]
  },
  {
   "cell_type": "code",
   "execution_count": 22,
   "id": "c02de5a2",
   "metadata": {},
   "outputs": [
    {
     "data": {
      "text/plain": [
       "tensor([[False,  True, False,  True],\n",
       "        [False, False, False, False],\n",
       "        [False, False, False, False]])"
      ]
     },
     "execution_count": 22,
     "metadata": {},
     "output_type": "execute_result"
    }
   ],
   "source": [
    "X == Y"
   ]
  },
  {
   "cell_type": "code",
   "execution_count": 23,
   "id": "4444e456",
   "metadata": {},
   "outputs": [
    {
     "data": {
      "text/plain": [
       "tensor(66.)"
      ]
     },
     "execution_count": 23,
     "metadata": {},
     "output_type": "execute_result"
    }
   ],
   "source": [
    "X.sum()"
   ]
  },
  {
   "cell_type": "code",
   "execution_count": 24,
   "id": "3014fb14",
   "metadata": {},
   "outputs": [
    {
     "data": {
      "text/plain": [
       "(tensor([[0],\n",
       "         [1],\n",
       "         [2]]),\n",
       " tensor([[0, 1]]))"
      ]
     },
     "execution_count": 24,
     "metadata": {},
     "output_type": "execute_result"
    }
   ],
   "source": [
    "a = torch.arange(3).reshape((3,1))\n",
    "b = torch.arange(2).reshape((1,2))\n",
    "a,b"
   ]
  },
  {
   "cell_type": "code",
   "execution_count": 25,
   "id": "c67b492a",
   "metadata": {},
   "outputs": [
    {
     "data": {
      "text/plain": [
       "tensor([[0, 1],\n",
       "        [1, 2],\n",
       "        [2, 3]])"
      ]
     },
     "execution_count": 25,
     "metadata": {},
     "output_type": "execute_result"
    }
   ],
   "source": [
    "a+b"
   ]
  },
  {
   "cell_type": "code",
   "execution_count": 26,
   "id": "17fcc3e3",
   "metadata": {},
   "outputs": [
    {
     "data": {
      "text/plain": [
       "(tensor([ 8.,  9., 10., 11.]),\n",
       " tensor([[ 4.,  5.,  6.,  7.],\n",
       "         [ 8.,  9., 10., 11.]]))"
      ]
     },
     "execution_count": 26,
     "metadata": {},
     "output_type": "execute_result"
    }
   ],
   "source": [
    "X[-1],X[1:3]"
   ]
  },
  {
   "cell_type": "code",
   "execution_count": 27,
   "id": "faafb430",
   "metadata": {},
   "outputs": [],
   "source": [
    "X[0:2,:]=12"
   ]
  },
  {
   "cell_type": "code",
   "execution_count": 28,
   "id": "a6f6d1da",
   "metadata": {},
   "outputs": [
    {
     "data": {
      "text/plain": [
       "tensor([[12., 12., 12., 12.],\n",
       "        [12., 12., 12., 12.],\n",
       "        [ 8.,  9., 10., 11.]])"
      ]
     },
     "execution_count": 28,
     "metadata": {},
     "output_type": "execute_result"
    }
   ],
   "source": [
    "X"
   ]
  },
  {
   "cell_type": "code",
   "execution_count": 29,
   "id": "c13d401e",
   "metadata": {},
   "outputs": [
    {
     "data": {
      "text/plain": [
       "False"
      ]
     },
     "execution_count": 29,
     "metadata": {},
     "output_type": "execute_result"
    }
   ],
   "source": [
    "before = id(Y)\n",
    "Y = Y+X\n",
    "id(Y) == before"
   ]
  },
  {
   "cell_type": "code",
   "execution_count": 30,
   "id": "c9aedd63",
   "metadata": {},
   "outputs": [],
   "source": [
    "Z = torch.zeros_like(Y)"
   ]
  },
  {
   "cell_type": "code",
   "execution_count": 33,
   "id": "e4747510",
   "metadata": {},
   "outputs": [
    {
     "name": "stdout",
     "output_type": "stream",
     "text": [
      "id(z): 140582517589184\n"
     ]
    }
   ],
   "source": [
    "print('id(z):',id(Z))"
   ]
  },
  {
   "cell_type": "code",
   "execution_count": 34,
   "id": "f1eb9bac",
   "metadata": {},
   "outputs": [],
   "source": [
    "Z[:] = X + Y"
   ]
  },
  {
   "cell_type": "code",
   "execution_count": 35,
   "id": "7f2e4266",
   "metadata": {},
   "outputs": [
    {
     "name": "stdout",
     "output_type": "stream",
     "text": [
      "id(Z): 140582517589184\n"
     ]
    }
   ],
   "source": [
    "print('id(Z):',id(Z))"
   ]
  },
  {
   "cell_type": "code",
   "execution_count": 36,
   "id": "6ac235ba",
   "metadata": {},
   "outputs": [
    {
     "data": {
      "text/plain": [
       "tensor([[26., 25., 28., 27.],\n",
       "        [25., 26., 27., 28.],\n",
       "        [20., 21., 22., 23.]])"
      ]
     },
     "execution_count": 36,
     "metadata": {},
     "output_type": "execute_result"
    }
   ],
   "source": [
    "Z"
   ]
  },
  {
   "cell_type": "code",
   "execution_count": 37,
   "id": "2ff8140e",
   "metadata": {},
   "outputs": [
    {
     "data": {
      "text/plain": [
       "True"
      ]
     },
     "execution_count": 37,
     "metadata": {},
     "output_type": "execute_result"
    }
   ],
   "source": [
    "before = id(X)\n",
    "X += Y\n",
    "id(X) == before"
   ]
  },
  {
   "cell_type": "code",
   "execution_count": 38,
   "id": "9cfa4259",
   "metadata": {},
   "outputs": [
    {
     "data": {
      "text/plain": [
       "(numpy.ndarray, torch.Tensor)"
      ]
     },
     "execution_count": 38,
     "metadata": {},
     "output_type": "execute_result"
    }
   ],
   "source": [
    "A = X.numpy()\n",
    "B = torch.tensor(A)\n",
    "type(A),type(B)"
   ]
  },
  {
   "cell_type": "code",
   "execution_count": 39,
   "id": "aad578a6",
   "metadata": {},
   "outputs": [
    {
     "data": {
      "text/plain": [
       "(tensor([3.5000]), 3.5, 3.5, 3)"
      ]
     },
     "execution_count": 39,
     "metadata": {},
     "output_type": "execute_result"
    }
   ],
   "source": [
    "a = torch.tensor([3.5])\n",
    "a,a.item(),float(a),int(a)"
   ]
  },
  {
   "cell_type": "code",
   "execution_count": 40,
   "id": "3581e3fd",
   "metadata": {},
   "outputs": [],
   "source": [
    "import os\n",
    "os.makedirs(os.path.join('..','data'),exist_ok=True)\n",
    "data_file = os.path.join('..','data','house_tiny.csv')\n",
    "with open(data_file,'w') as f:\n",
    "    f.write('NumRooms,Alley,Price\\n')\n",
    "    f.write('NA,Pave,127500\\n')\n",
    "    f.write('2,NA,106000\\n')\n",
    "    f.write('4,NA,178100\\n')\n",
    "    f.write('NA,NA,140000\\n')"
   ]
  },
  {
   "cell_type": "code",
   "execution_count": 41,
   "id": "8c85c688",
   "metadata": {},
   "outputs": [
    {
     "name": "stdout",
     "output_type": "stream",
     "text": [
      "dancing.jpg     house_tiny.csv  picasso.jpg     未命名.ipynb\r\n"
     ]
    }
   ],
   "source": [
    "!ls"
   ]
  },
  {
   "cell_type": "code",
   "execution_count": 42,
   "id": "aadac336",
   "metadata": {},
   "outputs": [
    {
     "name": "stdout",
     "output_type": "stream",
     "text": [
      "   NumRooms Alley   Price\n",
      "0       NaN  Pave  127500\n",
      "1       2.0   NaN  106000\n",
      "2       4.0   NaN  178100\n",
      "3       NaN   NaN  140000\n"
     ]
    }
   ],
   "source": [
    "import pandas as pd\n",
    "data = pd.read_csv(data_file)\n",
    "print(data)"
   ]
  },
  {
   "cell_type": "code",
   "execution_count": 43,
   "id": "d746b8ec",
   "metadata": {},
   "outputs": [],
   "source": [
    "inputs,outputs = data.iloc[:,0:2],data.iloc[:,2]"
   ]
  },
  {
   "cell_type": "code",
   "execution_count": 47,
   "id": "a936df56",
   "metadata": {},
   "outputs": [
    {
     "data": {
      "text/html": [
       "<div>\n",
       "<style scoped>\n",
       "    .dataframe tbody tr th:only-of-type {\n",
       "        vertical-align: middle;\n",
       "    }\n",
       "\n",
       "    .dataframe tbody tr th {\n",
       "        vertical-align: top;\n",
       "    }\n",
       "\n",
       "    .dataframe thead th {\n",
       "        text-align: right;\n",
       "    }\n",
       "</style>\n",
       "<table border=\"1\" class=\"dataframe\">\n",
       "  <thead>\n",
       "    <tr style=\"text-align: right;\">\n",
       "      <th></th>\n",
       "      <th>NumRooms</th>\n",
       "      <th>Alley</th>\n",
       "    </tr>\n",
       "  </thead>\n",
       "  <tbody>\n",
       "    <tr>\n",
       "      <th>0</th>\n",
       "      <td>NaN</td>\n",
       "      <td>Pave</td>\n",
       "    </tr>\n",
       "    <tr>\n",
       "      <th>1</th>\n",
       "      <td>2.0</td>\n",
       "      <td>NaN</td>\n",
       "    </tr>\n",
       "    <tr>\n",
       "      <th>2</th>\n",
       "      <td>4.0</td>\n",
       "      <td>NaN</td>\n",
       "    </tr>\n",
       "    <tr>\n",
       "      <th>3</th>\n",
       "      <td>NaN</td>\n",
       "      <td>NaN</td>\n",
       "    </tr>\n",
       "  </tbody>\n",
       "</table>\n",
       "</div>"
      ],
      "text/plain": [
       "   NumRooms Alley\n",
       "0       NaN  Pave\n",
       "1       2.0   NaN\n",
       "2       4.0   NaN\n",
       "3       NaN   NaN"
      ]
     },
     "execution_count": 47,
     "metadata": {},
     "output_type": "execute_result"
    }
   ],
   "source": [
    "inputs"
   ]
  },
  {
   "cell_type": "code",
   "execution_count": 45,
   "id": "5ea624ea",
   "metadata": {},
   "outputs": [
    {
     "data": {
      "text/plain": [
       "0    127500\n",
       "1    106000\n",
       "2    178100\n",
       "3    140000\n",
       "Name: Price, dtype: int64"
      ]
     },
     "execution_count": 45,
     "metadata": {},
     "output_type": "execute_result"
    }
   ],
   "source": [
    "outputs"
   ]
  },
  {
   "cell_type": "code",
   "execution_count": 48,
   "id": "bf4c8173",
   "metadata": {},
   "outputs": [
    {
     "name": "stderr",
     "output_type": "stream",
     "text": [
      "/var/folders/yx/f0xkgf5x0w901nc_qxpq0b2w0000gn/T/ipykernel_77160/64727764.py:1: FutureWarning: Dropping of nuisance columns in DataFrame reductions (with 'numeric_only=None') is deprecated; in a future version this will raise TypeError.  Select only valid columns before calling the reduction.\n",
      "  inputs = inputs.fillna(inputs.mean())\n"
     ]
    }
   ],
   "source": [
    "inputs = inputs.fillna(inputs.mean())"
   ]
  },
  {
   "cell_type": "code",
   "execution_count": 49,
   "id": "7ab1633a",
   "metadata": {},
   "outputs": [
    {
     "data": {
      "text/html": [
       "<div>\n",
       "<style scoped>\n",
       "    .dataframe tbody tr th:only-of-type {\n",
       "        vertical-align: middle;\n",
       "    }\n",
       "\n",
       "    .dataframe tbody tr th {\n",
       "        vertical-align: top;\n",
       "    }\n",
       "\n",
       "    .dataframe thead th {\n",
       "        text-align: right;\n",
       "    }\n",
       "</style>\n",
       "<table border=\"1\" class=\"dataframe\">\n",
       "  <thead>\n",
       "    <tr style=\"text-align: right;\">\n",
       "      <th></th>\n",
       "      <th>NumRooms</th>\n",
       "      <th>Alley</th>\n",
       "    </tr>\n",
       "  </thead>\n",
       "  <tbody>\n",
       "    <tr>\n",
       "      <th>0</th>\n",
       "      <td>3.0</td>\n",
       "      <td>Pave</td>\n",
       "    </tr>\n",
       "    <tr>\n",
       "      <th>1</th>\n",
       "      <td>2.0</td>\n",
       "      <td>NaN</td>\n",
       "    </tr>\n",
       "    <tr>\n",
       "      <th>2</th>\n",
       "      <td>4.0</td>\n",
       "      <td>NaN</td>\n",
       "    </tr>\n",
       "    <tr>\n",
       "      <th>3</th>\n",
       "      <td>3.0</td>\n",
       "      <td>NaN</td>\n",
       "    </tr>\n",
       "  </tbody>\n",
       "</table>\n",
       "</div>"
      ],
      "text/plain": [
       "   NumRooms Alley\n",
       "0       3.0  Pave\n",
       "1       2.0   NaN\n",
       "2       4.0   NaN\n",
       "3       3.0   NaN"
      ]
     },
     "execution_count": 49,
     "metadata": {},
     "output_type": "execute_result"
    }
   ],
   "source": [
    "inputs"
   ]
  },
  {
   "cell_type": "code",
   "execution_count": 50,
   "id": "f9f9d4f3",
   "metadata": {},
   "outputs": [],
   "source": [
    "inputs = pd.get_dummies(inputs,dummy_na=True)"
   ]
  },
  {
   "cell_type": "code",
   "execution_count": 52,
   "id": "b9c44543",
   "metadata": {},
   "outputs": [],
   "source": [
    "X,y = torch.tensor(inputs.values),torch.tensor(outputs.values)"
   ]
  },
  {
   "cell_type": "code",
   "execution_count": 53,
   "id": "b6fc9d92",
   "metadata": {},
   "outputs": [
    {
     "data": {
      "text/plain": [
       "(tensor([[3., 1., 0.],\n",
       "         [2., 0., 1.],\n",
       "         [4., 0., 1.],\n",
       "         [3., 0., 1.]], dtype=torch.float64),\n",
       " tensor([127500, 106000, 178100, 140000]))"
      ]
     },
     "execution_count": 53,
     "metadata": {},
     "output_type": "execute_result"
    }
   ],
   "source": [
    "X,y"
   ]
  },
  {
   "cell_type": "code",
   "execution_count": 54,
   "id": "8d4856e6",
   "metadata": {},
   "outputs": [],
   "source": [
    "import torch"
   ]
  },
  {
   "cell_type": "code",
   "execution_count": 55,
   "id": "55b04a86",
   "metadata": {},
   "outputs": [],
   "source": [
    "x = torch.tensor([3.0])\n",
    "y = torch.tensor([2.0])"
   ]
  },
  {
   "cell_type": "code",
   "execution_count": 56,
   "id": "8219c418",
   "metadata": {},
   "outputs": [
    {
     "data": {
      "text/plain": [
       "(tensor([5.]), tensor([6.]), tensor([1.5000]), tensor([9.]))"
      ]
     },
     "execution_count": 56,
     "metadata": {},
     "output_type": "execute_result"
    }
   ],
   "source": [
    "x+y,x*y,x/y,x**y"
   ]
  },
  {
   "cell_type": "code",
   "execution_count": 57,
   "id": "5787eee2",
   "metadata": {},
   "outputs": [],
   "source": [
    "x = torch.arange(4)"
   ]
  },
  {
   "cell_type": "code",
   "execution_count": 58,
   "id": "68a5afb4",
   "metadata": {},
   "outputs": [
    {
     "data": {
      "text/plain": [
       "tensor(3)"
      ]
     },
     "execution_count": 58,
     "metadata": {},
     "output_type": "execute_result"
    }
   ],
   "source": [
    "x[3]"
   ]
  },
  {
   "cell_type": "code",
   "execution_count": 59,
   "id": "8eae6834",
   "metadata": {},
   "outputs": [
    {
     "data": {
      "text/plain": [
       "tensor([[[ 0,  1,  2,  3],\n",
       "         [ 4,  5,  6,  7],\n",
       "         [ 8,  9, 10, 11]],\n",
       "\n",
       "        [[12, 13, 14, 15],\n",
       "         [16, 17, 18, 19],\n",
       "         [20, 21, 22, 23]]])"
      ]
     },
     "execution_count": 59,
     "metadata": {},
     "output_type": "execute_result"
    }
   ],
   "source": [
    "X = torch.arange(24).reshape(2,3,4)\n",
    "X\n"
   ]
  },
  {
   "cell_type": "code",
   "execution_count": 60,
   "id": "e3b85b90",
   "metadata": {},
   "outputs": [
    {
     "data": {
      "text/plain": [
       "(tensor([[[ 2,  3,  4,  5],\n",
       "          [ 6,  7,  8,  9],\n",
       "          [10, 11, 12, 13]],\n",
       " \n",
       "         [[14, 15, 16, 17],\n",
       "          [18, 19, 20, 21],\n",
       "          [22, 23, 24, 25]]]),\n",
       " torch.Size([2, 3, 4]))"
      ]
     },
     "execution_count": 60,
     "metadata": {},
     "output_type": "execute_result"
    }
   ],
   "source": [
    "a = 2\n",
    "X = torch.arange(24).reshape(2,3,4)\n",
    "a+X,(a*X).shape"
   ]
  },
  {
   "cell_type": "code",
   "execution_count": 61,
   "id": "7dba9e82",
   "metadata": {},
   "outputs": [
    {
     "data": {
      "text/plain": [
       "(torch.Size([5, 4]), tensor(190))"
      ]
     },
     "execution_count": 61,
     "metadata": {},
     "output_type": "execute_result"
    }
   ],
   "source": [
    "A = torch.arange(20).reshape(5,4)\n",
    "A.shape,A.sum()"
   ]
  },
  {
   "cell_type": "code",
   "execution_count": 63,
   "id": "a0308ddd",
   "metadata": {},
   "outputs": [
    {
     "data": {
      "text/plain": [
       "tensor([[ 6],\n",
       "        [22],\n",
       "        [38],\n",
       "        [54],\n",
       "        [70]])"
      ]
     },
     "execution_count": 63,
     "metadata": {},
     "output_type": "execute_result"
    }
   ],
   "source": [
    "A.sum(axis=1,keepdims=True)"
   ]
  },
  {
   "cell_type": "code",
   "execution_count": 64,
   "id": "176ac580",
   "metadata": {},
   "outputs": [
    {
     "data": {
      "text/plain": [
       "(torch.Size([5, 4]), torch.Size([4]))"
      ]
     },
     "execution_count": 64,
     "metadata": {},
     "output_type": "execute_result"
    }
   ],
   "source": [
    "A.shape,x.shape"
   ]
  },
  {
   "cell_type": "code",
   "execution_count": 65,
   "id": "ce355a69",
   "metadata": {},
   "outputs": [
    {
     "data": {
      "text/plain": [
       "tensor([ 14,  38,  62,  86, 110])"
      ]
     },
     "execution_count": 65,
     "metadata": {},
     "output_type": "execute_result"
    }
   ],
   "source": [
    "torch.mv(A,x)"
   ]
  },
  {
   "cell_type": "code",
   "execution_count": 68,
   "id": "3282ee84",
   "metadata": {},
   "outputs": [],
   "source": [
    "B = torch.ones(4,3)"
   ]
  },
  {
   "cell_type": "code",
   "execution_count": 70,
   "id": "bd9844f3",
   "metadata": {},
   "outputs": [
    {
     "data": {
      "text/plain": [
       "tensor([[ 6.,  6.,  6.],\n",
       "        [22., 22., 22.],\n",
       "        [38., 38., 38.],\n",
       "        [54., 54., 54.],\n",
       "        [70., 70., 70.]])"
      ]
     },
     "execution_count": 70,
     "metadata": {},
     "output_type": "execute_result"
    }
   ],
   "source": [
    "torch.mm(A*1.0,B)"
   ]
  },
  {
   "cell_type": "code",
   "execution_count": 72,
   "id": "a14ed2e2",
   "metadata": {},
   "outputs": [
    {
     "data": {
      "text/plain": [
       "tensor(5.)"
      ]
     },
     "execution_count": 72,
     "metadata": {},
     "output_type": "execute_result"
    }
   ],
   "source": [
    "u = torch.tensor([3,4])\n",
    "torch.norm(u*1.0)"
   ]
  },
  {
   "cell_type": "code",
   "execution_count": null,
   "id": "aa679b4c",
   "metadata": {},
   "outputs": [],
   "source": []
  }
 ],
 "metadata": {
  "kernelspec": {
   "display_name": "Python 3 (ipykernel)",
   "language": "python",
   "name": "python3"
  },
  "language_info": {
   "codemirror_mode": {
    "name": "ipython",
    "version": 3
   },
   "file_extension": ".py",
   "mimetype": "text/x-python",
   "name": "python",
   "nbconvert_exporter": "python",
   "pygments_lexer": "ipython3",
   "version": "3.8.5"
  }
 },
 "nbformat": 4,
 "nbformat_minor": 5
}
