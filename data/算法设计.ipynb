{
 "cells": [
  {
   "cell_type": "code",
   "execution_count": null,
   "id": "d1468f82",
   "metadata": {},
   "outputs": [],
   "source": []
  },
  {
   "cell_type": "code",
   "execution_count": 40,
   "id": "7f2f5c03",
   "metadata": {},
   "outputs": [],
   "source": [
    "def max_array(arr):\n",
    "    assert arr,'arr is empty'\n",
    "    # 计算从中间往两边的最大连续子数组的和，复杂度为n\n",
    "    def max_mid_arr(left,mid,right):\n",
    "        mid_val = arr[mid]\n",
    "        max_mid_val = arr[mid]\n",
    "        mid_span_0 = mid\n",
    "        mid_span_1 = mid\n",
    "        j = mid + 1\n",
    "        while j <= right:\n",
    "            mid_val += arr[j]\n",
    "            if max_mid_val < mid_val:\n",
    "                mid_span_1 = j\n",
    "                max_mid_val = mid_val\n",
    "            j += 1\n",
    "        i = mid - 1\n",
    "        mid_val = max_mid_val\n",
    "        while i >= 0:\n",
    "            mid_val += arr[i]\n",
    "            if max_mid_val < mid_val:\n",
    "                mid_span_0 = i\n",
    "                max_mid_val = mid_val\n",
    "            i -= 1\n",
    "        return max_mid_val,(mid_span_0,mid_span_1)\n",
    "    def dfs(left,right):\n",
    "        if left == right:\n",
    "            return arr[left],(left,right)\n",
    "        mid = left + (right - left) // 2\n",
    "        # 计算左边连续最大和\n",
    "        left_val,left_span = dfs(left,mid)\n",
    "        # 计算右边连续最大和\n",
    "        right_val,right_span = dfs(mid+1,right)\n",
    "        # 计算中间往两边连续最大和\n",
    "        mid_val,mid_span = max_mid_arr(left,mid,right)\n",
    "        ret_val,ret_span = left_val,left_span\n",
    "        if ret_val < right_val:\n",
    "            ret_val,ret_span = right_val,right_span\n",
    "        if ret_val < mid_val:\n",
    "            ret_val,ret_span = mid_val,mid_span\n",
    "        # 返回左边，右边，中间最大\n",
    "        return ret_val,ret_span\n",
    "    return dfs(0,len(arr)-1)"
   ]
  },
  {
   "cell_type": "code",
   "execution_count": 41,
   "id": "69ced5ba",
   "metadata": {},
   "outputs": [
    {
     "data": {
      "text/plain": [
       "(15, (3, 7))"
      ]
     },
     "execution_count": 41,
     "metadata": {},
     "output_type": "execute_result"
    }
   ],
   "source": [
    "max_array([1,-2,-3,6,7,-5,4,3])"
   ]
  },
  {
   "cell_type": "code",
   "execution_count": 47,
   "id": "108027e8",
   "metadata": {},
   "outputs": [],
   "source": [
    "def merge_sort(arr):\n",
    "    # 构建临时数组\n",
    "    tmp = [0]*len(arr)\n",
    "    def dfs(left,right):\n",
    "        if left >= right:\n",
    "            return\n",
    "        mid = left + (right-left)//2\n",
    "        # 左边排序\n",
    "        dfs(left,mid)\n",
    "        # 右边排序\n",
    "        dfs(mid+1,right)\n",
    "        # 进行merge\n",
    "        i = left\n",
    "        j = mid + 1\n",
    "        k = i\n",
    "        while i <= mid and j <= right:\n",
    "            if arr[i] < arr[j]:\n",
    "                tmp[k] = arr[i]\n",
    "                i += 1\n",
    "            else:\n",
    "                tmp[k] = arr[j]\n",
    "                j += 1\n",
    "            k += 1\n",
    "        while i <= mid:\n",
    "            tmp[k] = arr[i]\n",
    "            k += 1\n",
    "            i += 1\n",
    "        while j <= right:\n",
    "            tmp[k] = arr[j]\n",
    "            k += 1\n",
    "            j += 1\n",
    "        for k in range(left,right+1):\n",
    "            arr[k] = tmp[k]\n",
    "    dfs(0,len(arr)-1)"
   ]
  },
  {
   "cell_type": "code",
   "execution_count": 48,
   "id": "4d11dd4f",
   "metadata": {},
   "outputs": [
    {
     "name": "stdout",
     "output_type": "stream",
     "text": [
      "[1, 3, 5, 7]\n"
     ]
    }
   ],
   "source": [
    "arr = [1,5,3,7]\n",
    "merge_sort(arr)\n",
    "print(arr)"
   ]
  },
  {
   "cell_type": "code",
   "execution_count": 100,
   "id": "db6ad190",
   "metadata": {},
   "outputs": [],
   "source": [
    "def count_inverse(arr):\n",
    "    # 使用归并排序\n",
    "    tmp = [0]*len(arr)\n",
    "    def dfs(left,right):\n",
    "        if left >= right:\n",
    "            return 0\n",
    "        mid = left + (right-left)//2\n",
    "        # 统计左边的逆序数\n",
    "        l = dfs(left,mid)\n",
    "        # 统计右边的逆序数\n",
    "        r = dfs(mid+1,right)\n",
    "        # 统计左边和右边组合的逆序数\n",
    "        c = 0\n",
    "        i = left\n",
    "        j = mid + 1\n",
    "        k = i\n",
    "        while i <= mid and j <= right:\n",
    "            if arr[i] <= arr[j]:\n",
    "                tmp[k] = arr[i]\n",
    "                i += 1\n",
    "            else:\n",
    "                # 统计计数\n",
    "                c += (mid-i+1)\n",
    "                tmp[k] = arr[j]\n",
    "                j += 1\n",
    "            k += 1\n",
    "        while i <= mid:\n",
    "            tmp[k] = arr[i]\n",
    "            k += 1\n",
    "            i += 1\n",
    "        while j <= right:\n",
    "            tmp[k] = arr[j]\n",
    "            k += 1\n",
    "            j += 1\n",
    "        for k in range(left,right+1):\n",
    "            arr[k] = tmp[k]\n",
    "        return l + r + c\n",
    "    return dfs(0,len(arr)-1)"
   ]
  },
  {
   "cell_type": "code",
   "execution_count": 53,
   "id": "91072d46",
   "metadata": {},
   "outputs": [
    {
     "name": "stdout",
     "output_type": "stream",
     "text": [
      "2\n"
     ]
    }
   ],
   "source": [
    "print(count_inverse([1,2,3,1,]))"
   ]
  },
  {
   "cell_type": "code",
   "execution_count": 69,
   "id": "169d775f",
   "metadata": {},
   "outputs": [],
   "source": [
    "import random"
   ]
  },
  {
   "cell_type": "code",
   "execution_count": 75,
   "id": "c6822711",
   "metadata": {},
   "outputs": [],
   "source": [
    "def quick_sort(arr):\n",
    "    # 找出中间分割点\n",
    "    def partition(left,right):\n",
    "        i = left\n",
    "        r = right\n",
    "        # 随机选取中间分割数\n",
    "        k = random.randint(left,right)\n",
    "        arr[k],arr[r] = arr[r],arr[k]\n",
    "        for j in range(left,right+1):\n",
    "            if arr[j] <= arr[r]:\n",
    "                arr[i],arr[j] = arr[j],arr[i]\n",
    "                i += 1\n",
    "        return i - 1\n",
    "    \n",
    "    def dfs(left,right):\n",
    "        if left >= right:\n",
    "            return\n",
    "        mid = partition(left,right)\n",
    "        dfs(left,mid-1)\n",
    "        dfs(mid+1,right)\n",
    "    dfs(0,len(arr)-1)"
   ]
  },
  {
   "cell_type": "code",
   "execution_count": 76,
   "id": "098b5cfc",
   "metadata": {},
   "outputs": [
    {
     "name": "stdout",
     "output_type": "stream",
     "text": [
      "[1, 3, 5]\n"
     ]
    }
   ],
   "source": [
    "arr = [1,5,3]\n",
    "quick_sort(arr)\n",
    "print(arr)"
   ]
  },
  {
   "cell_type": "code",
   "execution_count": 93,
   "id": "a9849f56",
   "metadata": {},
   "outputs": [],
   "source": [
    "def find_k(arr,k):\n",
    "    # 找出中间分割点\n",
    "    def partition(left,right):\n",
    "        i = left\n",
    "        r = right\n",
    "        # 随机选取中间分割数\n",
    "        p = random.randint(left,right)\n",
    "        arr[p],arr[r] = arr[r],arr[p]\n",
    "        for j in range(left,right+1):\n",
    "            if arr[j] <= arr[r]:\n",
    "                arr[i],arr[j] = arr[j],arr[i]\n",
    "                i += 1\n",
    "        return i - 1\n",
    "    \n",
    "    def dfs(left,right,k):\n",
    "        if left <= k <= right:\n",
    "            mid = partition(left,right)\n",
    "            if mid == k:\n",
    "                # 查询k是否是中间数\n",
    "                return arr[mid]\n",
    "            elif mid < k:\n",
    "                # 比中间数大往右找\n",
    "                return dfs(mid+1,right,k)\n",
    "            else:\n",
    "                # 比中间数小往左找\n",
    "                return dfs(left,mid-1,k)\n",
    "        return -1\n",
    "    return dfs(0,len(arr)-1,k-1)"
   ]
  },
  {
   "cell_type": "code",
   "execution_count": 98,
   "id": "a2875f7c",
   "metadata": {},
   "outputs": [
    {
     "name": "stdout",
     "output_type": "stream",
     "text": [
      "5\n"
     ]
    }
   ],
   "source": [
    "print(find_k([1,2,5,3],4))"
   ]
  },
  {
   "cell_type": "code",
   "execution_count": null,
   "id": "f1061043",
   "metadata": {},
   "outputs": [],
   "source": []
  }
 ],
 "metadata": {
  "kernelspec": {
   "display_name": "Python 3 (ipykernel)",
   "language": "python",
   "name": "python3"
  },
  "language_info": {
   "codemirror_mode": {
    "name": "ipython",
    "version": 3
   },
   "file_extension": ".py",
   "mimetype": "text/x-python",
   "name": "python",
   "nbconvert_exporter": "python",
   "pygments_lexer": "ipython3",
   "version": "3.8.5"
  }
 },
 "nbformat": 4,
 "nbformat_minor": 5
}
